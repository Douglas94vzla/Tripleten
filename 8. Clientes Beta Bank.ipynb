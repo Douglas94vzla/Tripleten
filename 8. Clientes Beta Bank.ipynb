{
 "cells": [
  {
   "cell_type": "markdown",
   "metadata": {},
   "source": [
    "# MODELACIÓN DE RETENCIÓN DE CLIENTES DE BETA BANK"
   ]
  },
  {
   "cell_type": "markdown",
   "metadata": {},
   "source": [
    "# Tabla de Contenidos"
   ]
  },
  {
   "cell_type": "markdown",
   "metadata": {},
   "source": [
    "* [1 PREPROCESAMIENTO DE DATOS](#1)\n",
    "* [2 ANÁLISIS EXPLORATORIO DE DATOS](#2)\n",
    "* [3 ESTANDARIZACIÓN DE DATOS](#3)\n",
    "* [4 EVALUACIÓN DE MODELOS](#4)\n",
    "* [5 VALIDACIÓN DEL MODELO SELECCIONADO](#5)\n",
    "* [6 CONCLUSIONES](#5)    "
   ]
  },
  {
   "cell_type": "markdown",
   "metadata": {},
   "source": [
    "## PREPROCESAMIENTO DE DATOS"
   ]
  },
  {
   "cell_type": "code",
   "execution_count": 1,
   "metadata": {},
   "outputs": [
    {
     "name": "stdout",
     "output_type": "stream",
     "text": [
      "Requirement already satisfied: sidetable in /opt/conda/lib/python3.9/site-packages (0.9.1)\r\n",
      "Requirement already satisfied: pandas>=1.0 in /opt/conda/lib/python3.9/site-packages (from sidetable) (1.2.4)\r\n",
      "Requirement already satisfied: python-dateutil>=2.7.3 in /opt/conda/lib/python3.9/site-packages (from pandas>=1.0->sidetable) (2.8.1)\r\n",
      "Requirement already satisfied: pytz>=2017.3 in /opt/conda/lib/python3.9/site-packages (from pandas>=1.0->sidetable) (2021.1)\r\n",
      "Requirement already satisfied: numpy>=1.16.5 in /opt/conda/lib/python3.9/site-packages (from pandas>=1.0->sidetable) (1.21.1)\r\n",
      "Requirement already satisfied: six>=1.5 in /opt/conda/lib/python3.9/site-packages (from python-dateutil>=2.7.3->pandas>=1.0->sidetable) (1.16.0)\r\n"
     ]
    }
   ],
   "source": [
    "# cargamos las librerías\n",
    "\n",
    "import pandas as pd\n",
    "!pip install sidetable\n",
    "import sidetable as stb\n",
    "import matplotlib.pyplot as plt\n",
    "import numpy as np\n",
    "import seaborn as sns\n",
    "\n",
    "from sklearn.model_selection import train_test_split\n",
    "from sklearn.linear_model import LogisticRegression\n",
    "from sklearn.tree import DecisionTreeClassifier\n",
    "from sklearn.ensemble import RandomForestClassifier\n",
    "from sklearn.metrics import f1_score\n",
    "from sklearn.metrics import roc_auc_score\n",
    "from sklearn.metrics import accuracy_score\n",
    "from sklearn.metrics import roc_curve\n",
    "from sklearn.utils import shuffle\n",
    "from sklearn.preprocessing import StandardScaler\n",
    "\n"
   ]
  },
  {
   "cell_type": "code",
   "execution_count": 2,
   "metadata": {},
   "outputs": [],
   "source": [
    "# definimos el dataframe\n",
    "\n",
    "df = pd.read_csv(\"/datasets/Churn.csv\")"
   ]
  },
  {
   "cell_type": "code",
   "execution_count": 3,
   "metadata": {},
   "outputs": [
    {
     "data": {
      "text/html": [
       "<div>\n",
       "<style scoped>\n",
       "    .dataframe tbody tr th:only-of-type {\n",
       "        vertical-align: middle;\n",
       "    }\n",
       "\n",
       "    .dataframe tbody tr th {\n",
       "        vertical-align: top;\n",
       "    }\n",
       "\n",
       "    .dataframe thead th {\n",
       "        text-align: right;\n",
       "    }\n",
       "</style>\n",
       "<table border=\"1\" class=\"dataframe\">\n",
       "  <thead>\n",
       "    <tr style=\"text-align: right;\">\n",
       "      <th></th>\n",
       "      <th>RowNumber</th>\n",
       "      <th>CustomerId</th>\n",
       "      <th>Surname</th>\n",
       "      <th>CreditScore</th>\n",
       "      <th>Geography</th>\n",
       "      <th>Gender</th>\n",
       "      <th>Age</th>\n",
       "      <th>Tenure</th>\n",
       "      <th>Balance</th>\n",
       "      <th>NumOfProducts</th>\n",
       "      <th>HasCrCard</th>\n",
       "      <th>IsActiveMember</th>\n",
       "      <th>EstimatedSalary</th>\n",
       "      <th>Exited</th>\n",
       "    </tr>\n",
       "  </thead>\n",
       "  <tbody>\n",
       "    <tr>\n",
       "      <th>0</th>\n",
       "      <td>1</td>\n",
       "      <td>15634602</td>\n",
       "      <td>Hargrave</td>\n",
       "      <td>619</td>\n",
       "      <td>France</td>\n",
       "      <td>Female</td>\n",
       "      <td>42</td>\n",
       "      <td>2.0</td>\n",
       "      <td>0.00</td>\n",
       "      <td>1</td>\n",
       "      <td>1</td>\n",
       "      <td>1</td>\n",
       "      <td>101348.88</td>\n",
       "      <td>1</td>\n",
       "    </tr>\n",
       "    <tr>\n",
       "      <th>1</th>\n",
       "      <td>2</td>\n",
       "      <td>15647311</td>\n",
       "      <td>Hill</td>\n",
       "      <td>608</td>\n",
       "      <td>Spain</td>\n",
       "      <td>Female</td>\n",
       "      <td>41</td>\n",
       "      <td>1.0</td>\n",
       "      <td>83807.86</td>\n",
       "      <td>1</td>\n",
       "      <td>0</td>\n",
       "      <td>1</td>\n",
       "      <td>112542.58</td>\n",
       "      <td>0</td>\n",
       "    </tr>\n",
       "    <tr>\n",
       "      <th>2</th>\n",
       "      <td>3</td>\n",
       "      <td>15619304</td>\n",
       "      <td>Onio</td>\n",
       "      <td>502</td>\n",
       "      <td>France</td>\n",
       "      <td>Female</td>\n",
       "      <td>42</td>\n",
       "      <td>8.0</td>\n",
       "      <td>159660.80</td>\n",
       "      <td>3</td>\n",
       "      <td>1</td>\n",
       "      <td>0</td>\n",
       "      <td>113931.57</td>\n",
       "      <td>1</td>\n",
       "    </tr>\n",
       "    <tr>\n",
       "      <th>3</th>\n",
       "      <td>4</td>\n",
       "      <td>15701354</td>\n",
       "      <td>Boni</td>\n",
       "      <td>699</td>\n",
       "      <td>France</td>\n",
       "      <td>Female</td>\n",
       "      <td>39</td>\n",
       "      <td>1.0</td>\n",
       "      <td>0.00</td>\n",
       "      <td>2</td>\n",
       "      <td>0</td>\n",
       "      <td>0</td>\n",
       "      <td>93826.63</td>\n",
       "      <td>0</td>\n",
       "    </tr>\n",
       "    <tr>\n",
       "      <th>4</th>\n",
       "      <td>5</td>\n",
       "      <td>15737888</td>\n",
       "      <td>Mitchell</td>\n",
       "      <td>850</td>\n",
       "      <td>Spain</td>\n",
       "      <td>Female</td>\n",
       "      <td>43</td>\n",
       "      <td>2.0</td>\n",
       "      <td>125510.82</td>\n",
       "      <td>1</td>\n",
       "      <td>1</td>\n",
       "      <td>1</td>\n",
       "      <td>79084.10</td>\n",
       "      <td>0</td>\n",
       "    </tr>\n",
       "  </tbody>\n",
       "</table>\n",
       "</div>"
      ],
      "text/plain": [
       "   RowNumber  CustomerId   Surname  CreditScore Geography  Gender  Age  \\\n",
       "0          1    15634602  Hargrave          619    France  Female   42   \n",
       "1          2    15647311      Hill          608     Spain  Female   41   \n",
       "2          3    15619304      Onio          502    France  Female   42   \n",
       "3          4    15701354      Boni          699    France  Female   39   \n",
       "4          5    15737888  Mitchell          850     Spain  Female   43   \n",
       "\n",
       "   Tenure    Balance  NumOfProducts  HasCrCard  IsActiveMember  \\\n",
       "0     2.0       0.00              1          1               1   \n",
       "1     1.0   83807.86              1          0               1   \n",
       "2     8.0  159660.80              3          1               0   \n",
       "3     1.0       0.00              2          0               0   \n",
       "4     2.0  125510.82              1          1               1   \n",
       "\n",
       "   EstimatedSalary  Exited  \n",
       "0        101348.88       1  \n",
       "1        112542.58       0  \n",
       "2        113931.57       1  \n",
       "3         93826.63       0  \n",
       "4         79084.10       0  "
      ]
     },
     "execution_count": 3,
     "metadata": {},
     "output_type": "execute_result"
    }
   ],
   "source": [
    "# visualizamos el dataframe\n",
    "\n",
    "df.head()"
   ]
  },
  {
   "cell_type": "code",
   "execution_count": 4,
   "metadata": {},
   "outputs": [],
   "source": [
    "# eliminamos las columnas que no utilizaremos para el proyecto\n",
    "\n",
    "df = df.drop(['RowNumber', 'CustomerId', 'Surname'], axis = 1)\n",
    "\n",
    "df.columns = df.columns.str.lower()"
   ]
  },
  {
   "cell_type": "code",
   "execution_count": 5,
   "metadata": {},
   "outputs": [],
   "source": [
    "# escribimos mejor el nombre de las columnas\n",
    "\n",
    "df = df.rename(columns = \n",
    "               {'creditscore': 'credit_score', \n",
    "                'numofproducts': 'num_products', \n",
    "                'hascrcard': 'credit_card',\n",
    "                'isactivemember': 'active_member',\n",
    "                'estimatedsalary': 'estimated_salary'})"
   ]
  },
  {
   "cell_type": "code",
   "execution_count": 6,
   "metadata": {},
   "outputs": [
    {
     "data": {
      "text/html": [
       "<div>\n",
       "<style scoped>\n",
       "    .dataframe tbody tr th:only-of-type {\n",
       "        vertical-align: middle;\n",
       "    }\n",
       "\n",
       "    .dataframe tbody tr th {\n",
       "        vertical-align: top;\n",
       "    }\n",
       "\n",
       "    .dataframe thead th {\n",
       "        text-align: right;\n",
       "    }\n",
       "</style>\n",
       "<table border=\"1\" class=\"dataframe\">\n",
       "  <thead>\n",
       "    <tr style=\"text-align: right;\">\n",
       "      <th></th>\n",
       "      <th>credit_score</th>\n",
       "      <th>geography</th>\n",
       "      <th>gender</th>\n",
       "      <th>age</th>\n",
       "      <th>tenure</th>\n",
       "      <th>balance</th>\n",
       "      <th>num_products</th>\n",
       "      <th>credit_card</th>\n",
       "      <th>active_member</th>\n",
       "      <th>estimated_salary</th>\n",
       "      <th>exited</th>\n",
       "    </tr>\n",
       "  </thead>\n",
       "  <tbody>\n",
       "    <tr>\n",
       "      <th>0</th>\n",
       "      <td>619</td>\n",
       "      <td>France</td>\n",
       "      <td>Female</td>\n",
       "      <td>42</td>\n",
       "      <td>2.0</td>\n",
       "      <td>0.00</td>\n",
       "      <td>1</td>\n",
       "      <td>1</td>\n",
       "      <td>1</td>\n",
       "      <td>101348.88</td>\n",
       "      <td>1</td>\n",
       "    </tr>\n",
       "    <tr>\n",
       "      <th>1</th>\n",
       "      <td>608</td>\n",
       "      <td>Spain</td>\n",
       "      <td>Female</td>\n",
       "      <td>41</td>\n",
       "      <td>1.0</td>\n",
       "      <td>83807.86</td>\n",
       "      <td>1</td>\n",
       "      <td>0</td>\n",
       "      <td>1</td>\n",
       "      <td>112542.58</td>\n",
       "      <td>0</td>\n",
       "    </tr>\n",
       "    <tr>\n",
       "      <th>2</th>\n",
       "      <td>502</td>\n",
       "      <td>France</td>\n",
       "      <td>Female</td>\n",
       "      <td>42</td>\n",
       "      <td>8.0</td>\n",
       "      <td>159660.80</td>\n",
       "      <td>3</td>\n",
       "      <td>1</td>\n",
       "      <td>0</td>\n",
       "      <td>113931.57</td>\n",
       "      <td>1</td>\n",
       "    </tr>\n",
       "    <tr>\n",
       "      <th>3</th>\n",
       "      <td>699</td>\n",
       "      <td>France</td>\n",
       "      <td>Female</td>\n",
       "      <td>39</td>\n",
       "      <td>1.0</td>\n",
       "      <td>0.00</td>\n",
       "      <td>2</td>\n",
       "      <td>0</td>\n",
       "      <td>0</td>\n",
       "      <td>93826.63</td>\n",
       "      <td>0</td>\n",
       "    </tr>\n",
       "    <tr>\n",
       "      <th>4</th>\n",
       "      <td>850</td>\n",
       "      <td>Spain</td>\n",
       "      <td>Female</td>\n",
       "      <td>43</td>\n",
       "      <td>2.0</td>\n",
       "      <td>125510.82</td>\n",
       "      <td>1</td>\n",
       "      <td>1</td>\n",
       "      <td>1</td>\n",
       "      <td>79084.10</td>\n",
       "      <td>0</td>\n",
       "    </tr>\n",
       "    <tr>\n",
       "      <th>5</th>\n",
       "      <td>645</td>\n",
       "      <td>Spain</td>\n",
       "      <td>Male</td>\n",
       "      <td>44</td>\n",
       "      <td>8.0</td>\n",
       "      <td>113755.78</td>\n",
       "      <td>2</td>\n",
       "      <td>1</td>\n",
       "      <td>0</td>\n",
       "      <td>149756.71</td>\n",
       "      <td>1</td>\n",
       "    </tr>\n",
       "    <tr>\n",
       "      <th>6</th>\n",
       "      <td>822</td>\n",
       "      <td>France</td>\n",
       "      <td>Male</td>\n",
       "      <td>50</td>\n",
       "      <td>7.0</td>\n",
       "      <td>0.00</td>\n",
       "      <td>2</td>\n",
       "      <td>1</td>\n",
       "      <td>1</td>\n",
       "      <td>10062.80</td>\n",
       "      <td>0</td>\n",
       "    </tr>\n",
       "    <tr>\n",
       "      <th>7</th>\n",
       "      <td>376</td>\n",
       "      <td>Germany</td>\n",
       "      <td>Female</td>\n",
       "      <td>29</td>\n",
       "      <td>4.0</td>\n",
       "      <td>115046.74</td>\n",
       "      <td>4</td>\n",
       "      <td>1</td>\n",
       "      <td>0</td>\n",
       "      <td>119346.88</td>\n",
       "      <td>1</td>\n",
       "    </tr>\n",
       "    <tr>\n",
       "      <th>8</th>\n",
       "      <td>501</td>\n",
       "      <td>France</td>\n",
       "      <td>Male</td>\n",
       "      <td>44</td>\n",
       "      <td>4.0</td>\n",
       "      <td>142051.07</td>\n",
       "      <td>2</td>\n",
       "      <td>0</td>\n",
       "      <td>1</td>\n",
       "      <td>74940.50</td>\n",
       "      <td>0</td>\n",
       "    </tr>\n",
       "    <tr>\n",
       "      <th>9</th>\n",
       "      <td>684</td>\n",
       "      <td>France</td>\n",
       "      <td>Male</td>\n",
       "      <td>27</td>\n",
       "      <td>2.0</td>\n",
       "      <td>134603.88</td>\n",
       "      <td>1</td>\n",
       "      <td>1</td>\n",
       "      <td>1</td>\n",
       "      <td>71725.73</td>\n",
       "      <td>0</td>\n",
       "    </tr>\n",
       "  </tbody>\n",
       "</table>\n",
       "</div>"
      ],
      "text/plain": [
       "   credit_score geography  gender  age  tenure    balance  num_products  \\\n",
       "0           619    France  Female   42     2.0       0.00             1   \n",
       "1           608     Spain  Female   41     1.0   83807.86             1   \n",
       "2           502    France  Female   42     8.0  159660.80             3   \n",
       "3           699    France  Female   39     1.0       0.00             2   \n",
       "4           850     Spain  Female   43     2.0  125510.82             1   \n",
       "5           645     Spain    Male   44     8.0  113755.78             2   \n",
       "6           822    France    Male   50     7.0       0.00             2   \n",
       "7           376   Germany  Female   29     4.0  115046.74             4   \n",
       "8           501    France    Male   44     4.0  142051.07             2   \n",
       "9           684    France    Male   27     2.0  134603.88             1   \n",
       "\n",
       "   credit_card  active_member  estimated_salary  exited  \n",
       "0            1              1         101348.88       1  \n",
       "1            0              1         112542.58       0  \n",
       "2            1              0         113931.57       1  \n",
       "3            0              0          93826.63       0  \n",
       "4            1              1          79084.10       0  \n",
       "5            1              0         149756.71       1  \n",
       "6            1              1          10062.80       0  \n",
       "7            1              0         119346.88       1  \n",
       "8            0              1          74940.50       0  \n",
       "9            1              1          71725.73       0  "
      ]
     },
     "execution_count": 6,
     "metadata": {},
     "output_type": "execute_result"
    }
   ],
   "source": [
    "# mostramos una vista previa del dataframe\n",
    "\n",
    "df.head(10)"
   ]
  },
  {
   "cell_type": "code",
   "execution_count": 7,
   "metadata": {},
   "outputs": [
    {
     "name": "stdout",
     "output_type": "stream",
     "text": [
      "<class 'pandas.core.frame.DataFrame'>\n",
      "RangeIndex: 10000 entries, 0 to 9999\n",
      "Data columns (total 11 columns):\n",
      " #   Column            Non-Null Count  Dtype  \n",
      "---  ------            --------------  -----  \n",
      " 0   credit_score      10000 non-null  int64  \n",
      " 1   geography         10000 non-null  object \n",
      " 2   gender            10000 non-null  object \n",
      " 3   age               10000 non-null  int64  \n",
      " 4   tenure            9091 non-null   float64\n",
      " 5   balance           10000 non-null  float64\n",
      " 6   num_products      10000 non-null  int64  \n",
      " 7   credit_card       10000 non-null  int64  \n",
      " 8   active_member     10000 non-null  int64  \n",
      " 9   estimated_salary  10000 non-null  float64\n",
      " 10  exited            10000 non-null  int64  \n",
      "dtypes: float64(3), int64(6), object(2)\n",
      "memory usage: 859.5+ KB\n"
     ]
    }
   ],
   "source": [
    "# mostramos información general \n",
    "\n",
    "df.info()"
   ]
  },
  {
   "cell_type": "code",
   "execution_count": 8,
   "metadata": {},
   "outputs": [
    {
     "data": {
      "text/html": [
       "<div>\n",
       "<style scoped>\n",
       "    .dataframe tbody tr th:only-of-type {\n",
       "        vertical-align: middle;\n",
       "    }\n",
       "\n",
       "    .dataframe tbody tr th {\n",
       "        vertical-align: top;\n",
       "    }\n",
       "\n",
       "    .dataframe thead th {\n",
       "        text-align: right;\n",
       "    }\n",
       "</style>\n",
       "<table border=\"1\" class=\"dataframe\">\n",
       "  <thead>\n",
       "    <tr style=\"text-align: right;\">\n",
       "      <th></th>\n",
       "      <th>index</th>\n",
       "      <th>missing</th>\n",
       "      <th>total</th>\n",
       "      <th>percent</th>\n",
       "    </tr>\n",
       "  </thead>\n",
       "  <tbody>\n",
       "    <tr>\n",
       "      <th>0</th>\n",
       "      <td>tenure</td>\n",
       "      <td>909</td>\n",
       "      <td>10000</td>\n",
       "      <td>9.09</td>\n",
       "    </tr>\n",
       "    <tr>\n",
       "      <th>1</th>\n",
       "      <td>credit_score</td>\n",
       "      <td>0</td>\n",
       "      <td>10000</td>\n",
       "      <td>0.00</td>\n",
       "    </tr>\n",
       "    <tr>\n",
       "      <th>2</th>\n",
       "      <td>geography</td>\n",
       "      <td>0</td>\n",
       "      <td>10000</td>\n",
       "      <td>0.00</td>\n",
       "    </tr>\n",
       "    <tr>\n",
       "      <th>3</th>\n",
       "      <td>gender</td>\n",
       "      <td>0</td>\n",
       "      <td>10000</td>\n",
       "      <td>0.00</td>\n",
       "    </tr>\n",
       "    <tr>\n",
       "      <th>4</th>\n",
       "      <td>age</td>\n",
       "      <td>0</td>\n",
       "      <td>10000</td>\n",
       "      <td>0.00</td>\n",
       "    </tr>\n",
       "    <tr>\n",
       "      <th>5</th>\n",
       "      <td>balance</td>\n",
       "      <td>0</td>\n",
       "      <td>10000</td>\n",
       "      <td>0.00</td>\n",
       "    </tr>\n",
       "    <tr>\n",
       "      <th>6</th>\n",
       "      <td>num_products</td>\n",
       "      <td>0</td>\n",
       "      <td>10000</td>\n",
       "      <td>0.00</td>\n",
       "    </tr>\n",
       "    <tr>\n",
       "      <th>7</th>\n",
       "      <td>credit_card</td>\n",
       "      <td>0</td>\n",
       "      <td>10000</td>\n",
       "      <td>0.00</td>\n",
       "    </tr>\n",
       "    <tr>\n",
       "      <th>8</th>\n",
       "      <td>active_member</td>\n",
       "      <td>0</td>\n",
       "      <td>10000</td>\n",
       "      <td>0.00</td>\n",
       "    </tr>\n",
       "    <tr>\n",
       "      <th>9</th>\n",
       "      <td>estimated_salary</td>\n",
       "      <td>0</td>\n",
       "      <td>10000</td>\n",
       "      <td>0.00</td>\n",
       "    </tr>\n",
       "    <tr>\n",
       "      <th>10</th>\n",
       "      <td>exited</td>\n",
       "      <td>0</td>\n",
       "      <td>10000</td>\n",
       "      <td>0.00</td>\n",
       "    </tr>\n",
       "  </tbody>\n",
       "</table>\n",
       "</div>"
      ],
      "text/plain": [
       "               index  missing  total  percent\n",
       "0             tenure      909  10000     9.09\n",
       "1       credit_score        0  10000     0.00\n",
       "2          geography        0  10000     0.00\n",
       "3             gender        0  10000     0.00\n",
       "4                age        0  10000     0.00\n",
       "5            balance        0  10000     0.00\n",
       "6       num_products        0  10000     0.00\n",
       "7        credit_card        0  10000     0.00\n",
       "8      active_member        0  10000     0.00\n",
       "9   estimated_salary        0  10000     0.00\n",
       "10            exited        0  10000     0.00"
      ]
     },
     "execution_count": 8,
     "metadata": {},
     "output_type": "execute_result"
    }
   ],
   "source": [
    "# visualizamos el porcentaje de los valores ausentes en las columnas\n",
    "\n",
    "df.stb.missing().reset_index()"
   ]
  },
  {
   "cell_type": "code",
   "execution_count": 9,
   "metadata": {},
   "outputs": [
    {
     "data": {
      "text/plain": [
       "count    9091.000000\n",
       "mean        4.997690\n",
       "std         2.894723\n",
       "min         0.000000\n",
       "25%         2.000000\n",
       "50%         5.000000\n",
       "75%         7.000000\n",
       "max        10.000000\n",
       "Name: tenure, dtype: float64"
      ]
     },
     "execution_count": 9,
     "metadata": {},
     "output_type": "execute_result"
    }
   ],
   "source": [
    "# visualizamos información estadística de la columna \"tenure\"\n",
    "\n",
    "df['tenure'].describe()"
   ]
  },
  {
   "cell_type": "markdown",
   "metadata": {},
   "source": [
    "**Debido a que no observamos valores extremos, procedemos a rellenar los valores ausentes con la media.**"
   ]
  },
  {
   "cell_type": "code",
   "execution_count": 10,
   "metadata": {},
   "outputs": [
    {
     "name": "stdout",
     "output_type": "stream",
     "text": [
      "<class 'pandas.core.frame.DataFrame'>\n",
      "RangeIndex: 10000 entries, 0 to 9999\n",
      "Data columns (total 11 columns):\n",
      " #   Column            Non-Null Count  Dtype  \n",
      "---  ------            --------------  -----  \n",
      " 0   credit_score      10000 non-null  int64  \n",
      " 1   geography         10000 non-null  object \n",
      " 2   gender            10000 non-null  object \n",
      " 3   age               10000 non-null  int64  \n",
      " 4   tenure            10000 non-null  float64\n",
      " 5   balance           10000 non-null  float64\n",
      " 6   num_products      10000 non-null  int64  \n",
      " 7   credit_card       10000 non-null  int64  \n",
      " 8   active_member     10000 non-null  int64  \n",
      " 9   estimated_salary  10000 non-null  float64\n",
      " 10  exited            10000 non-null  int64  \n",
      "dtypes: float64(3), int64(6), object(2)\n",
      "memory usage: 859.5+ KB\n"
     ]
    }
   ],
   "source": [
    "# rellenamos los valores ausentes con la media\n",
    "\n",
    "df['tenure'] = df['tenure'].fillna(df['tenure'].mean())\n",
    "\n",
    "df.info()"
   ]
  },
  {
   "cell_type": "markdown",
   "metadata": {},
   "source": [
    "## Análisis Exploratorio de Datos"
   ]
  },
  {
   "cell_type": "markdown",
   "metadata": {},
   "source": [
    "**Procedemos a realizar un ánalisis exploratorio de los datos, comenzando con las variables numéricas.**"
   ]
  },
  {
   "cell_type": "markdown",
   "metadata": {},
   "source": [
    "### Histogramas "
   ]
  },
  {
   "cell_type": "code",
   "execution_count": 11,
   "metadata": {},
   "outputs": [
    {
     "data": {
      "image/png": "[encoded data removed]",
      "text/plain": [
       "<Figure size 432x288 with 1 Axes>"
      ]
     },
     "metadata": {
      "needs_background": "light"
     },
     "output_type": "display_data"
    },
    {
     "data": {
      "image/png": "[encoded data removed]",
      "text/plain": [
       "<Figure size 432x288 with 1 Axes>"
      ]
     },
     "metadata": {
      "needs_background": "light"
     },
     "output_type": "display_data"
    },
    {
     "data": {
      "image/png": "[encoded data removed]",
      "text/plain": [
       "<Figure size 432x288 with 1 Axes>"
      ]
     },
     "metadata": {
      "needs_background": "light"
     },
     "output_type": "display_data"
    },
    {
     "data": {
      "image/png": "[encoded data removed]",
      "text/plain": [
       "<Figure size 432x288 with 1 Axes>"
      ]
     },
     "metadata": {
      "needs_background": "light"
     },
     "output_type": "display_data"
    },
    {
     "data": {
      "image/png": "[encoded data removed]",
      "text/plain": [
       "<Figure size 432x288 with 1 Axes>"
      ]
     },
     "metadata": {
      "needs_background": "light"
     },
     "output_type": "display_data"
    },
    {
     "data": {
      "image/png": "[encoded data removed]",
      "text/plain": [
       "<Figure size 432x288 with 1 Axes>"
      ]
     },
     "metadata": {
      "needs_background": "light"
     },
     "output_type": "display_data"
    }
   ],
   "source": [
    "variables = ['credit_score', 'age', 'tenure', 'balance', 'num_products', 'estimated_salary']\n",
    "\n",
    "for i in range(len(variables)):\n",
    "    df.hist(variables[i])"
   ]
  },
  {
   "cell_type": "markdown",
   "metadata": {},
   "source": [
    "### Diagramas de caja"
   ]
  },
  {
   "cell_type": "code",
   "execution_count": 12,
   "metadata": {},
   "outputs": [
    {
     "data": {
      "image/png": "[encoded data removed]",
      "text/plain": [
       "<Figure size 432x288 with 1 Axes>"
      ]
     },
     "metadata": {
      "needs_background": "light"
     },
     "output_type": "display_data"
    },
    {
     "data": {
      "image/png": "[encoded data removed]",
      "text/plain": [
       "<Figure size 432x288 with 1 Axes>"
      ]
     },
     "metadata": {
      "needs_background": "light"
     },
     "output_type": "display_data"
    },
    {
     "data": {
      "image/png": "[encoded data removed]",
      "text/plain": [
       "<Figure size 432x288 with 1 Axes>"
      ]
     },
     "metadata": {
      "needs_background": "light"
     },
     "output_type": "display_data"
    },
    {
     "data": {
      "image/png": "[encoded data removed]",
      "text/plain": [
       "<Figure size 432x288 with 1 Axes>"
      ]
     },
     "metadata": {
      "needs_background": "light"
     },
     "output_type": "display_data"
    },
    {
     "data": {
      "image/png": "[encoded data removed]",
      "text/plain": [
       "<Figure size 432x288 with 1 Axes>"
      ]
     },
     "metadata": {
      "needs_background": "light"
     },
     "output_type": "display_data"
    },
    {
     "data": {
      "image/png": "[encoded data removed]",
      "text/plain": [
       "<Figure size 432x288 with 1 Axes>"
      ]
     },
     "metadata": {
      "needs_background": "light"
     },
     "output_type": "display_data"
    }
   ],
   "source": [
    "for variable in variables:\n",
    "    plt.figure()\n",
    "    plt.boxplot(df[variable])\n",
    "    plt.title(variable)"
   ]
  },
  {
   "cell_type": "markdown",
   "metadata": {},
   "source": [
    "### Estadística Descriptiva"
   ]
  },
  {
   "cell_type": "code",
   "execution_count": 13,
   "metadata": {},
   "outputs": [
    {
     "name": "stdout",
     "output_type": "stream",
     "text": [
      "count    10000.000000\n",
      "mean       650.528800\n",
      "std         96.653299\n",
      "min        350.000000\n",
      "25%        584.000000\n",
      "50%        652.000000\n",
      "75%        718.000000\n",
      "max        850.000000\n",
      "Name: credit_score, dtype: float64\n",
      "count    10000.000000\n",
      "mean        38.921800\n",
      "std         10.487806\n",
      "min         18.000000\n",
      "25%         32.000000\n",
      "50%         37.000000\n",
      "75%         44.000000\n",
      "max         92.000000\n",
      "Name: age, dtype: float64\n",
      "count    10000.00000\n",
      "mean         4.99769\n",
      "std          2.76001\n",
      "min          0.00000\n",
      "25%          3.00000\n",
      "50%          4.99769\n",
      "75%          7.00000\n",
      "max         10.00000\n",
      "Name: tenure, dtype: float64\n",
      "count     10000.000000\n",
      "mean      76485.889288\n",
      "std       62397.405202\n",
      "min           0.000000\n",
      "25%           0.000000\n",
      "50%       97198.540000\n",
      "75%      127644.240000\n",
      "max      250898.090000\n",
      "Name: balance, dtype: float64\n",
      "count    10000.000000\n",
      "mean         1.530200\n",
      "std          0.581654\n",
      "min          1.000000\n",
      "25%          1.000000\n",
      "50%          1.000000\n",
      "75%          2.000000\n",
      "max          4.000000\n",
      "Name: num_products, dtype: float64\n",
      "count     10000.000000\n",
      "mean     100090.239881\n",
      "std       57510.492818\n",
      "min          11.580000\n",
      "25%       51002.110000\n",
      "50%      100193.915000\n",
      "75%      149388.247500\n",
      "max      199992.480000\n",
      "Name: estimated_salary, dtype: float64\n"
     ]
    }
   ],
   "source": [
    "for variable in variables:\n",
    "    print(df[variable].describe())"
   ]
  },
  {
   "cell_type": "markdown",
   "metadata": {},
   "source": [
    "**Pudimos notar que hay campos con valores atípicos en las columnas \"age\" y \"credit_score\".**"
   ]
  },
  {
   "cell_type": "markdown",
   "metadata": {},
   "source": [
    "#### Análisis de Género"
   ]
  },
  {
   "cell_type": "code",
   "execution_count": 14,
   "metadata": {},
   "outputs": [
    {
     "data": {
      "text/plain": [
       "<AxesSubplot:>"
      ]
     },
     "execution_count": 14,
     "metadata": {},
     "output_type": "execute_result"
    },
    {
     "data": {
      "image/png": "[encoded data removed]",
      "text/plain": [
       "<Figure size 432x288 with 1 Axes>"
      ]
     },
     "metadata": {
      "needs_background": "light"
     },
     "output_type": "display_data"
    }
   ],
   "source": [
    "gender = df['gender'].value_counts()\n",
    "gender.plot(kind = 'bar')"
   ]
  },
  {
   "cell_type": "code",
   "execution_count": 15,
   "metadata": {},
   "outputs": [
    {
     "data": {
      "image/png": "[encoded data removed]",
      "text/plain": [
       "<Figure size 432x288 with 1 Axes>"
      ]
     },
     "metadata": {
      "needs_background": "light"
     },
     "output_type": "display_data"
    }
   ],
   "source": [
    "fig, ax = plt.subplots()\n",
    "\n",
    "ax.hist(df[df['gender'] == 'Male']['age'], bins = 15, alpha = 0.5, color = 'blue', label = 'MASCULINO')\n",
    "ax.hist(df[df['gender'] == 'Female']['age'], bins = 15, alpha = 0.5, color = 'red', label = 'FEMENINO')\n",
    "\n",
    "ax.set_xlabel('EDAD')\n",
    "ax.set_ylabel('GÉNERO')\n",
    "\n",
    "fig.suptitle('EDAD VS GÉNERO')\n",
    "\n",
    "ax.legend();"
   ]
  },
  {
   "cell_type": "markdown",
   "metadata": {},
   "source": [
    "#### Análisis Geográfico"
   ]
  },
  {
   "cell_type": "code",
   "execution_count": 16,
   "metadata": {},
   "outputs": [
    {
     "data": {
      "text/plain": [
       "<AxesSubplot:>"
      ]
     },
     "execution_count": 16,
     "metadata": {},
     "output_type": "execute_result"
    },
    {
     "data": {
      "image/png": "[encoded data removed]",
      "text/plain": [
       "<Figure size 432x288 with 1 Axes>"
      ]
     },
     "metadata": {
      "needs_background": "light"
     },
     "output_type": "display_data"
    }
   ],
   "source": [
    "gender = df['geography'].value_counts()\n",
    "gender.plot(kind = 'bar')"
   ]
  },
  {
   "cell_type": "code",
   "execution_count": 17,
   "metadata": {},
   "outputs": [
    {
     "data": {
      "image/png": "[encoded data removed]",
      "text/plain": [
       "<Figure size 432x288 with 1 Axes>"
      ]
     },
     "metadata": {
      "needs_background": "light"
     },
     "output_type": "display_data"
    }
   ],
   "source": [
    "fig, ax = plt.subplots()\n",
    "\n",
    "ax.hist(df[df['geography'] == 'France']['age'], bins = 15, alpha = 0.5, color = 'blue', label = 'FRANCIA')\n",
    "ax.hist(df[df['geography'] == 'Germany']['age'], bins = 15, alpha = 0.5, color = 'yellow', label = 'ALEMANIA')\n",
    "ax.hist(df[df['geography'] == 'Spain']['age'], bins = 15, alpha = 0.5, color = 'red', label = 'ESPAÑA')\n",
    "\n",
    "ax.set_xlabel('EDAD')\n",
    "ax.set_ylabel('GEOGRAFÍA')\n",
    "\n",
    "fig.suptitle('EDAD VS GEOGRAFÍA')\n",
    "\n",
    "ax.legend();"
   ]
  },
  {
   "cell_type": "markdown",
   "metadata": {},
   "source": [
    "### Estudio de Valores Atípicos"
   ]
  },
  {
   "cell_type": "code",
   "execution_count": 18,
   "metadata": {},
   "outputs": [],
   "source": [
    "# determinamos las funciones para calcular los valores atípicos\n",
    "\n",
    "def lower_limit(Q1, Q3):\n",
    "    IQR = Q3 - Q1\n",
    "    lower = Q1 - 1.5*IQR\n",
    "    return lower\n",
    "\n",
    "def upper_limit(Q1, Q3):\n",
    "    IQR = Q3 - Q1\n",
    "    upper = Q3 + 1.5*IQR\n",
    "    return upper"
   ]
  },
  {
   "cell_type": "code",
   "execution_count": 19,
   "metadata": {},
   "outputs": [],
   "source": [
    "# determinamos la función para calcular los cuantiles\n",
    "\n",
    "def quantiles(vector):\n",
    "    Q1 = vector.quantile(0.25)\n",
    "    Q3 = vector.quantile(0.75)\n",
    "    return Q1, Q3"
   ]
  },
  {
   "cell_type": "code",
   "execution_count": 20,
   "metadata": {},
   "outputs": [
    {
     "data": {
      "text/plain": [
       "(32.0, 44.0)"
      ]
     },
     "execution_count": 20,
     "metadata": {},
     "output_type": "execute_result"
    }
   ],
   "source": [
    "age = df['age']\n",
    "quantiles(age)"
   ]
  },
  {
   "cell_type": "code",
   "execution_count": 21,
   "metadata": {},
   "outputs": [
    {
     "data": {
      "text/plain": [
       "14.0"
      ]
     },
     "execution_count": 21,
     "metadata": {},
     "output_type": "execute_result"
    }
   ],
   "source": [
    "lower_limit(32.0, 44.0)"
   ]
  },
  {
   "cell_type": "code",
   "execution_count": 22,
   "metadata": {},
   "outputs": [
    {
     "data": {
      "text/plain": [
       "62.0"
      ]
     },
     "execution_count": 22,
     "metadata": {},
     "output_type": "execute_result"
    }
   ],
   "source": [
    "upper_limit(32.0, 44.0)"
   ]
  },
  {
   "cell_type": "code",
   "execution_count": 23,
   "metadata": {},
   "outputs": [
    {
     "data": {
      "text/plain": [
       "(584.0, 718.0)"
      ]
     },
     "execution_count": 23,
     "metadata": {},
     "output_type": "execute_result"
    }
   ],
   "source": [
    "credit_score = df['credit_score']\n",
    "quantiles(credit_score)"
   ]
  },
  {
   "cell_type": "code",
   "execution_count": 24,
   "metadata": {},
   "outputs": [
    {
     "data": {
      "text/plain": [
       "383.0"
      ]
     },
     "execution_count": 24,
     "metadata": {},
     "output_type": "execute_result"
    }
   ],
   "source": [
    "lower_limit(584.0, 718.0)"
   ]
  },
  {
   "cell_type": "code",
   "execution_count": 25,
   "metadata": {},
   "outputs": [
    {
     "data": {
      "text/plain": [
       "919.0"
      ]
     },
     "execution_count": 25,
     "metadata": {},
     "output_type": "execute_result"
    }
   ],
   "source": [
    "upper_limit(584.0, 718.0)"
   ]
  },
  {
   "cell_type": "code",
   "execution_count": 26,
   "metadata": {},
   "outputs": [],
   "source": [
    "# Funciones para el cálculo de porcentajes de valores atípicos que serán eliminados\n",
    "\n",
    "def atypical_percentages_lower(vector, lower_threshold, dataframe):\n",
    "    sum_vector = (vector < lower_threshold).sum()\n",
    "    total_df = dataframe.shape[0]\n",
    "    percentage = (sum_vector / total_df) * 100\n",
    "    return percentage\n",
    "\n",
    "def atypical_percentages_upper(vector, upper_threshold, dataframe):\n",
    "    sum_vector = (vector > upper_threshold).sum()\n",
    "    total_df = dataframe.shape[0]\n",
    "    percentage = (sum_vector / total_df) * 100\n",
    "    return percentage"
   ]
  },
  {
   "cell_type": "code",
   "execution_count": 27,
   "metadata": {},
   "outputs": [
    {
     "data": {
      "text/plain": [
       "0.15"
      ]
     },
     "execution_count": 27,
     "metadata": {},
     "output_type": "execute_result"
    }
   ],
   "source": [
    "# porcentaje de valores atípicos que serán eliminados (de la columna \"credit_score\")\n",
    "\n",
    "atypical_percentages_lower(credit_score, 383.0, df)"
   ]
  },
  {
   "cell_type": "code",
   "execution_count": 28,
   "metadata": {},
   "outputs": [
    {
     "data": {
      "text/plain": [
       "3.5900000000000003"
      ]
     },
     "execution_count": 28,
     "metadata": {},
     "output_type": "execute_result"
    }
   ],
   "source": [
    "# porcentaje de valores atípicos que serán eliminados (de la columna \"age\")\n",
    "\n",
    "atypical_percentages_upper(age, 62.0, df)"
   ]
  },
  {
   "cell_type": "code",
   "execution_count": 29,
   "metadata": {},
   "outputs": [
    {
     "name": "stdout",
     "output_type": "stream",
     "text": [
      "<class 'pandas.core.frame.DataFrame'>\n",
      "Int64Index: 9573 entries, 0 to 9999\n",
      "Data columns (total 11 columns):\n",
      " #   Column            Non-Null Count  Dtype  \n",
      "---  ------            --------------  -----  \n",
      " 0   credit_score      9573 non-null   int64  \n",
      " 1   geography         9573 non-null   object \n",
      " 2   gender            9573 non-null   object \n",
      " 3   age               9573 non-null   int64  \n",
      " 4   tenure            9573 non-null   float64\n",
      " 5   balance           9573 non-null   float64\n",
      " 6   num_products      9573 non-null   int64  \n",
      " 7   credit_card       9573 non-null   int64  \n",
      " 8   active_member     9573 non-null   int64  \n",
      " 9   estimated_salary  9573 non-null   float64\n",
      " 10  exited            9573 non-null   int64  \n",
      "dtypes: float64(3), int64(6), object(2)\n",
      "memory usage: 897.5+ KB\n"
     ]
    }
   ],
   "source": [
    "# almacenamos los datos sin valores atípicos en un nuevo dataframe\n",
    "\n",
    "df_clean = df[(df['age'] < 62.0) & (df['credit_score'] > 383.0)]\n",
    "\n",
    "df_clean.info()"
   ]
  },
  {
   "cell_type": "markdown",
   "metadata": {},
   "source": [
    "### Exploración de Datos Sin Valores Atípicos"
   ]
  },
  {
   "cell_type": "markdown",
   "metadata": {},
   "source": [
    "#### Histogramas"
   ]
  },
  {
   "cell_type": "code",
   "execution_count": 30,
   "metadata": {},
   "outputs": [
    {
     "data": {
      "image/png": "[encoded data removed]",
      "text/plain": [
       "<Figure size 432x288 with 1 Axes>"
      ]
     },
     "metadata": {
      "needs_background": "light"
     },
     "output_type": "display_data"
    },
    {
     "data": {
      "image/png": "[encoded data removed]",
      "text/plain": [
       "<Figure size 432x288 with 1 Axes>"
      ]
     },
     "metadata": {
      "needs_background": "light"
     },
     "output_type": "display_data"
    }
   ],
   "source": [
    "variables = ['age', 'credit_score']\n",
    "\n",
    "for i in range(len(variables)):\n",
    "    df_clean.hist(variables[i])"
   ]
  },
  {
   "cell_type": "markdown",
   "metadata": {},
   "source": [
    "#### Diagramas de Caja"
   ]
  },
  {
   "cell_type": "code",
   "execution_count": 31,
   "metadata": {},
   "outputs": [
    {
     "data": {
      "image/png": "[encoded data removed]",
      "text/plain": [
       "<Figure size 432x288 with 1 Axes>"
      ]
     },
     "metadata": {
      "needs_background": "light"
     },
     "output_type": "display_data"
    },
    {
     "data": {
      "image/png": "[encoded data removed]",
      "text/plain": [
       "<Figure size 432x288 with 1 Axes>"
      ]
     },
     "metadata": {
      "needs_background": "light"
     },
     "output_type": "display_data"
    }
   ],
   "source": [
    "for variable in variables:\n",
    "    plt.figure()\n",
    "    plt.boxplot(df_clean[variable])\n",
    "    plt.title(variable)"
   ]
  },
  {
   "cell_type": "markdown",
   "metadata": {},
   "source": [
    "#### Estadística Descriptiva"
   ]
  },
  {
   "cell_type": "code",
   "execution_count": 32,
   "metadata": {
    "scrolled": true
   },
   "outputs": [
    {
     "name": "stdout",
     "output_type": "stream",
     "text": [
      "count    9573.000000\n",
      "mean       37.650475\n",
      "std         8.639096\n",
      "min        18.000000\n",
      "25%        32.000000\n",
      "50%        37.000000\n",
      "75%        43.000000\n",
      "max        61.000000\n",
      "Name: age, dtype: float64\n",
      "count    9573.000000\n",
      "mean      650.768516\n",
      "std        96.021657\n",
      "min       386.000000\n",
      "25%       584.000000\n",
      "50%       652.000000\n",
      "75%       717.000000\n",
      "max       850.000000\n",
      "Name: credit_score, dtype: float64\n"
     ]
    }
   ],
   "source": [
    "for variable in variables:\n",
    "    print(df_clean[variable].describe())"
   ]
  },
  {
   "cell_type": "markdown",
   "metadata": {},
   "source": [
    "## Estandarización de los Datos"
   ]
  },
  {
   "cell_type": "code",
   "execution_count": 33,
   "metadata": {},
   "outputs": [
    {
     "data": {
      "text/html": [
       "<div>\n",
       "<style scoped>\n",
       "    .dataframe tbody tr th:only-of-type {\n",
       "        vertical-align: middle;\n",
       "    }\n",
       "\n",
       "    .dataframe tbody tr th {\n",
       "        vertical-align: top;\n",
       "    }\n",
       "\n",
       "    .dataframe thead th {\n",
       "        text-align: right;\n",
       "    }\n",
       "</style>\n",
       "<table border=\"1\" class=\"dataframe\">\n",
       "  <thead>\n",
       "    <tr style=\"text-align: right;\">\n",
       "      <th></th>\n",
       "      <th>credit_score</th>\n",
       "      <th>age</th>\n",
       "      <th>tenure</th>\n",
       "      <th>balance</th>\n",
       "      <th>num_products</th>\n",
       "      <th>credit_card</th>\n",
       "      <th>active_member</th>\n",
       "      <th>estimated_salary</th>\n",
       "      <th>geography_Germany</th>\n",
       "      <th>geography_Spain</th>\n",
       "      <th>gender_Male</th>\n",
       "    </tr>\n",
       "  </thead>\n",
       "  <tbody>\n",
       "    <tr>\n",
       "      <th>9196</th>\n",
       "      <td>1.491736</td>\n",
       "      <td>-0.075298</td>\n",
       "      <td>1.453113</td>\n",
       "      <td>-1.226145</td>\n",
       "      <td>0.807702</td>\n",
       "      <td>1</td>\n",
       "      <td>0</td>\n",
       "      <td>-0.558663</td>\n",
       "      <td>0</td>\n",
       "      <td>1</td>\n",
       "      <td>0</td>\n",
       "    </tr>\n",
       "    <tr>\n",
       "      <th>5295</th>\n",
       "      <td>0.575228</td>\n",
       "      <td>-1.001369</td>\n",
       "      <td>0.363108</td>\n",
       "      <td>1.746397</td>\n",
       "      <td>-0.914376</td>\n",
       "      <td>1</td>\n",
       "      <td>0</td>\n",
       "      <td>1.232860</td>\n",
       "      <td>1</td>\n",
       "      <td>0</td>\n",
       "      <td>0</td>\n",
       "    </tr>\n",
       "    <tr>\n",
       "      <th>3730</th>\n",
       "      <td>0.335686</td>\n",
       "      <td>0.040461</td>\n",
       "      <td>-0.726896</td>\n",
       "      <td>0.794906</td>\n",
       "      <td>-0.914376</td>\n",
       "      <td>0</td>\n",
       "      <td>0</td>\n",
       "      <td>-1.473825</td>\n",
       "      <td>0</td>\n",
       "      <td>1</td>\n",
       "      <td>1</td>\n",
       "    </tr>\n",
       "    <tr>\n",
       "      <th>2047</th>\n",
       "      <td>-1.059905</td>\n",
       "      <td>-0.075298</td>\n",
       "      <td>-1.090231</td>\n",
       "      <td>0.576844</td>\n",
       "      <td>0.807702</td>\n",
       "      <td>0</td>\n",
       "      <td>0</td>\n",
       "      <td>-0.916458</td>\n",
       "      <td>0</td>\n",
       "      <td>0</td>\n",
       "      <td>1</td>\n",
       "    </tr>\n",
       "    <tr>\n",
       "      <th>8285</th>\n",
       "      <td>-0.435013</td>\n",
       "      <td>-1.464405</td>\n",
       "      <td>1.816448</td>\n",
       "      <td>-1.226145</td>\n",
       "      <td>-0.914376</td>\n",
       "      <td>0</td>\n",
       "      <td>1</td>\n",
       "      <td>0.169680</td>\n",
       "      <td>0</td>\n",
       "      <td>0</td>\n",
       "      <td>1</td>\n",
       "    </tr>\n",
       "  </tbody>\n",
       "</table>\n",
       "</div>"
      ],
      "text/plain": [
       "      credit_score       age    tenure   balance  num_products  credit_card  \\\n",
       "9196      1.491736 -0.075298  1.453113 -1.226145      0.807702            1   \n",
       "5295      0.575228 -1.001369  0.363108  1.746397     -0.914376            1   \n",
       "3730      0.335686  0.040461 -0.726896  0.794906     -0.914376            0   \n",
       "2047     -1.059905 -0.075298 -1.090231  0.576844      0.807702            0   \n",
       "8285     -0.435013 -1.464405  1.816448 -1.226145     -0.914376            0   \n",
       "\n",
       "      active_member  estimated_salary  geography_Germany  geography_Spain  \\\n",
       "9196              0         -0.558663                  0                1   \n",
       "5295              0          1.232860                  1                0   \n",
       "3730              0         -1.473825                  0                1   \n",
       "2047              0         -0.916458                  0                0   \n",
       "8285              1          0.169680                  0                0   \n",
       "\n",
       "      gender_Male  \n",
       "9196            0  \n",
       "5295            0  \n",
       "3730            1  \n",
       "2047            1  \n",
       "8285            1  "
      ]
     },
     "execution_count": 33,
     "metadata": {},
     "output_type": "execute_result"
    }
   ],
   "source": [
    "# Codificación one-hot:\n",
    "\n",
    "df_ohe = pd.get_dummies(df_clean, drop_first = True)\n",
    "\n",
    "# aplicamos el requerimiento scaling/standarization a las variables numericas\n",
    "\n",
    "var_num = ['credit_score', 'age', 'tenure', 'balance', 'num_products', 'estimated_salary']\n",
    "scaler = StandardScaler()\n",
    "scaler.fit(df_ohe[var_num])\n",
    "\n",
    "df_ohe[var_num] = scaler.transform(df_ohe[var_num])\n",
    "\n",
    "# Estandarización\n",
    "\n",
    "target = df_clean['exited']\n",
    "features = df_ohe.drop('exited', axis=1)\n",
    "\n",
    "# Separamos el conjunto de datos de prueba\n",
    "\n",
    "features_train, features_vt, target_train, target_vt = train_test_split(features, target, test_size = 0.3, random_state = 12345)\n",
    "\n",
    "features_test, features_valid, target_test, target_valid = train_test_split(features_vt, target_vt, test_size = 0.5, random_state = 12345 ) \n",
    "\n",
    "\n",
    "features_train.head()\n",
    "\n"
   ]
  },
  {
   "cell_type": "markdown",
   "metadata": {},
   "source": [
    "## Evaluación de Modelos"
   ]
  },
  {
   "cell_type": "markdown",
   "metadata": {},
   "source": [
    "### Frecuencia de Clases"
   ]
  },
  {
   "cell_type": "code",
   "execution_count": 34,
   "metadata": {},
   "outputs": [
    {
     "name": "stdout",
     "output_type": "stream",
     "text": [
      "0    0.798705\n",
      "1    0.201295\n",
      "Name: exited, dtype: float64\n"
     ]
    },
    {
     "data": {
      "text/plain": [
       "<AxesSubplot:>"
      ]
     },
     "execution_count": 34,
     "metadata": {},
     "output_type": "execute_result"
    },
    {
     "data": {
      "image/png": "[encoded data removed]",
      "text/plain": [
       "<Figure size 432x288 with 1 Axes>"
      ]
     },
     "metadata": {
      "needs_background": "light"
     },
     "output_type": "display_data"
    }
   ],
   "source": [
    "class_frecuency = df_clean['exited'].value_counts(normalize = True)\n",
    "print(class_frecuency)\n",
    "class_frecuency.plot(kind = 'bar')"
   ]
  },
  {
   "cell_type": "markdown",
   "metadata": {},
   "source": [
    "**Conclusiones Intermedias:**\n",
    "\n",
    "Se puede ver que existe un desbalance notorio en el estudio de la gráfica, donde las personas que se van del banco son un 20% mientras las que se quedan son un 80%. Un 20% lo consideramos determinante y es lo que se esperaba desde un principio."
   ]
  },
  {
   "cell_type": "markdown",
   "metadata": {},
   "source": [
    "### Construcción de Modelos Sin Ajuste de Clases"
   ]
  },
  {
   "cell_type": "markdown",
   "metadata": {},
   "source": [
    "#### Regresión Logística"
   ]
  },
  {
   "cell_type": "code",
   "execution_count": 35,
   "metadata": {},
   "outputs": [
    {
     "name": "stdout",
     "output_type": "stream",
     "text": [
      "EXACTITUD CON DATOS DE PRUEBA: 0.8238161559888579\n"
     ]
    }
   ],
   "source": [
    "# evaluación del modelo sin ajuste de clases con conjunto de prueba\n",
    "\n",
    "model = LogisticRegression(random_state = 12345, solver = 'liblinear')\n",
    "model.fit(features_train, target_train)\n",
    "predictions_test = model.predict(features_test)\n",
    "accuracy_test = accuracy_score(target_test, predictions_test)\n",
    "\n",
    "print('EXACTITUD CON DATOS DE PRUEBA:', accuracy_test)"
   ]
  },
  {
   "cell_type": "code",
   "execution_count": 36,
   "metadata": {},
   "outputs": [
    {
     "name": "stdout",
     "output_type": "stream",
     "text": [
      "EXACTITUD CON DATOS DE ENTRENAMIENTO: 0.8270407401880316\n"
     ]
    }
   ],
   "source": [
    "# evaluación del modelo sin ajuste de clases con conjunto de entrebnamiento\n",
    "\n",
    "model = LogisticRegression(random_state = 12345, solver = 'liblinear')\n",
    "model.fit(features_train, target_train)\n",
    "predictions_train = model.predict(features_train)\n",
    "accuracy_train = accuracy_score(target_train, predictions_train)\n",
    "\n",
    "print('EXACTITUD CON DATOS DE ENTRENAMIENTO:', accuracy_train)"
   ]
  },
  {
   "cell_type": "code",
   "execution_count": 37,
   "metadata": {},
   "outputs": [
    {
     "name": "stdout",
     "output_type": "stream",
     "text": [
      "EXACTITUD CON DATOS DE VALIDACIÓN: 0.8217270194986073\n"
     ]
    }
   ],
   "source": [
    "# evaluación del model sin ajuste de clases con conjunto de validación\n",
    "\n",
    "model = LogisticRegression(random_state = 12345, solver = 'liblinear')\n",
    "model.fit(features_train, target_train)\n",
    "predictions_valid = model.predict(features_valid)\n",
    "accuracy_valid = accuracy_score(target_valid, predictions_valid)\n",
    "\n",
    "print('EXACTITUD CON DATOS DE VALIDACIÓN:', accuracy_valid)"
   ]
  },
  {
   "cell_type": "code",
   "execution_count": 38,
   "metadata": {
    "scrolled": true
   },
   "outputs": [
    {
     "name": "stdout",
     "output_type": "stream",
     "text": [
      "F1: 0.3496143958868895\n"
     ]
    }
   ],
   "source": [
    "# calculamos F1 sin ajuste de clases con conjunto de prueba\n",
    "\n",
    "print('F1:', f1_score(target_test, predictions_test))"
   ]
  },
  {
   "cell_type": "code",
   "execution_count": 39,
   "metadata": {},
   "outputs": [
    {
     "name": "stdout",
     "output_type": "stream",
     "text": [
      "F1: 0.40165203923593185\n"
     ]
    }
   ],
   "source": [
    "# calculamos F1 sin ajuste de clases con conjunto de entrenamiento\n",
    "\n",
    "print('F1:', f1_score(target_train, predictions_train))"
   ]
  },
  {
   "cell_type": "code",
   "execution_count": 40,
   "metadata": {},
   "outputs": [
    {
     "name": "stdout",
     "output_type": "stream",
     "text": [
      "F1: 0.4046511627906976\n"
     ]
    }
   ],
   "source": [
    "# calculamos F1 sin ajuste de clases con conjunto de validacion\n",
    "\n",
    "print('F1:', f1_score(target_valid, predictions_valid))"
   ]
  },
  {
   "cell_type": "code",
   "execution_count": 41,
   "metadata": {},
   "outputs": [
    {
     "name": "stdout",
     "output_type": "stream",
     "text": [
      "AUC-ROC: 0.7816239120825521\n"
     ]
    }
   ],
   "source": [
    "# calculamos AUC-ROC sin ajuste de clases\n",
    "\n",
    "probabilities_test = model.predict_proba(features_test)\n",
    "probabilities_one_test = probabilities_test[:, 1]\n",
    "\n",
    "auc_roc = roc_auc_score(target_test, probabilities_one_test)\n",
    "print('AUC-ROC:', auc_roc)"
   ]
  },
  {
   "cell_type": "code",
   "execution_count": 42,
   "metadata": {},
   "outputs": [
    {
     "data": {
      "image/png": "[encoded data removed]",
      "text/plain": [
       "<Figure size 432x288 with 1 Axes>"
      ]
     },
     "metadata": {
      "needs_background": "light"
     },
     "output_type": "display_data"
    }
   ],
   "source": [
    "# mostramos la curva ROC sin ajuste de clases\n",
    "\n",
    "fpr, tpr, thresholds = roc_curve(target_test, probabilities_one_test)\n",
    "\n",
    "plt.figure()\n",
    "plt.plot(fpr, tpr)\n",
    "plt.plot([0, 1], [0, 1], linestyle = '--')\n",
    "plt.xlim([0.0, 1.0])\n",
    "plt.ylim([0.0, 1.0])\n",
    "plt.xlabel('TASA DE FALSOS POSITIVOS')\n",
    "plt.ylabel('TASA DE VERDADEROS POSITIVOS')\n",
    "plt.title('CURVA ROC DEL MODELO DE REGRESIÓN LOGÍSITCA SIN AJUSTE DE CLASES')\n",
    "plt.show()"
   ]
  },
  {
   "cell_type": "markdown",
   "metadata": {},
   "source": [
    "#### Árbol de Decisión"
   ]
  },
  {
   "cell_type": "code",
   "execution_count": 43,
   "metadata": {
    "scrolled": true
   },
   "outputs": [
    {
     "name": "stdout",
     "output_type": "stream",
     "text": [
      "EXACTITUD EN EL CONJUNTO DE PRUEBA: 0.8593314763231198\n"
     ]
    }
   ],
   "source": [
    "# evaluación del modelo sin ajuste de clases con conjunti de prueba\n",
    "\n",
    "best_model = None\n",
    "best_result = 0\n",
    "\n",
    "for depth in range(1, 6):\n",
    "    model = DecisionTreeClassifier(random_state = 12345, max_depth = depth)\n",
    "    model.fit(features_train, target_train)\n",
    "    predictions = model.predict(features_test)\n",
    "    result = accuracy_score(target_test, predictions)\n",
    "    \n",
    "    if result > best_result:\n",
    "        best_model = model\n",
    "        best_result = result\n",
    "        \n",
    "print('EXACTITUD EN EL CONJUNTO DE PRUEBA:', best_result)"
   ]
  },
  {
   "cell_type": "code",
   "execution_count": 44,
   "metadata": {},
   "outputs": [
    {
     "name": "stdout",
     "output_type": "stream",
     "text": [
      "EXACTITUD EN EL CONJUNTO DE ENTRENAMIENTO: 0.8630055215639457\n"
     ]
    }
   ],
   "source": [
    "# evaluación del modelo sin ajuste de clases con conjunto de entrenamiento\n",
    "\n",
    "best_model = None\n",
    "best_result = 0\n",
    "\n",
    "for depth in range(1, 6):\n",
    "    model = DecisionTreeClassifier(random_state = 12345, max_depth = depth)\n",
    "    model.fit(features_train, target_train)\n",
    "    predictions = model.predict(features_train)\n",
    "    result = accuracy_score(target_train, predictions)\n",
    "    \n",
    "    if result > best_result:\n",
    "        best_model = model\n",
    "        best_result = result\n",
    "        \n",
    "print('EXACTITUD EN EL CONJUNTO DE ENTRENAMIENTO:', best_result)"
   ]
  },
  {
   "cell_type": "code",
   "execution_count": 45,
   "metadata": {},
   "outputs": [
    {
     "name": "stdout",
     "output_type": "stream",
     "text": [
      "EXACTITUD EN EL CONJUNTO DE VALIDACIÓN: 0.8481894150417827\n"
     ]
    }
   ],
   "source": [
    "# evaluación del modelo sin ajuste de clases con conjunto de validación\n",
    "\n",
    "best_model = None\n",
    "best_result = 0\n",
    "\n",
    "for depth in range(1, 6):\n",
    "    model = DecisionTreeClassifier(random_state = 12345, max_depth = depth)\n",
    "    model.fit(features_train, target_train)\n",
    "    predictions = model.predict(features_valid)\n",
    "    result = accuracy_score(target_valid, predictions)\n",
    "    \n",
    "    if result > best_result:\n",
    "        best_model = model\n",
    "        best_result = result\n",
    "        \n",
    "print('EXACTITUD EN EL CONJUNTO DE VALIDACIÓN:', best_result)"
   ]
  },
  {
   "cell_type": "code",
   "execution_count": 46,
   "metadata": {},
   "outputs": [
    {
     "name": "stdout",
     "output_type": "stream",
     "text": [
      "F1: 0.5530973451327433\n"
     ]
    }
   ],
   "source": [
    "# calculamos F1 sin ajuste de clases con conjunto de prueba\n",
    "\n",
    "best_model = None\n",
    "best_result = 0\n",
    "\n",
    "for depth in range(1 , 6):\n",
    "    model = DecisionTreeClassifier(random_state = 12345, max_depth = depth)\n",
    "    model.fit(features_train, target_train)\n",
    "    predictions = model.predict(features_test)\n",
    "    result = f1_score(target_test, predictions)\n",
    "    \n",
    "    if result > best_result:\n",
    "        best_model = model\n",
    "        best_result = result\n",
    "        \n",
    "print('F1:', best_result)   "
   ]
  },
  {
   "cell_type": "code",
   "execution_count": 47,
   "metadata": {},
   "outputs": [
    {
     "name": "stdout",
     "output_type": "stream",
     "text": [
      "F1 CON CONJUNTO DE ENTRENAMIENTO: 0.5628571428571428\n"
     ]
    }
   ],
   "source": [
    "# calculamos F1 sin ajuste de clases con conjunto de prueba\n",
    "\n",
    "best_model = None\n",
    "best_result = 0\n",
    "\n",
    "for depth in range(1 , 6):\n",
    "    model = DecisionTreeClassifier(random_state = 12345, max_depth = depth)\n",
    "    model.fit(features_train, target_train)\n",
    "    predictions = model.predict(features_train)\n",
    "    result = f1_score(target_train, predictions)\n",
    "    \n",
    "    if result > best_result:\n",
    "        best_model = model\n",
    "        best_result = result\n",
    "        \n",
    "print('F1 CON CONJUNTO DE ENTRENAMIENTO:', best_result)   "
   ]
  },
  {
   "cell_type": "code",
   "execution_count": 48,
   "metadata": {},
   "outputs": [
    {
     "name": "stdout",
     "output_type": "stream",
     "text": [
      "F1 CON CONJUNTO DE VALIDACION: 0.5341880341880342\n"
     ]
    }
   ],
   "source": [
    "# calculamos F1 sin ajuste de clases con conjunto de prueba\n",
    "\n",
    "best_model = None\n",
    "best_result = 0\n",
    "\n",
    "for depth in range(1 , 6):\n",
    "    model = DecisionTreeClassifier(random_state = 12345, max_depth = depth)\n",
    "    model.fit(features_train, target_train)\n",
    "    predictions = model.predict(features_valid)\n",
    "    result = f1_score(target_valid, predictions)\n",
    "    \n",
    "    if result > best_result:\n",
    "        best_model = model\n",
    "        best_result = result\n",
    "        \n",
    "print('F1 CON CONJUNTO DE VALIDACION:', best_result)   "
   ]
  },
  {
   "cell_type": "code",
   "execution_count": 49,
   "metadata": {},
   "outputs": [
    {
     "name": "stdout",
     "output_type": "stream",
     "text": [
      "AUC-ROC: 0.8327876598533693\n"
     ]
    }
   ],
   "source": [
    "# calculamos AUC-ROC sin ajuste de clases\n",
    "\n",
    "probabilities_test = model.predict_proba(features_test)\n",
    "probabilities_one_test = probabilities_test[:, 1]\n",
    "\n",
    "auc_roc = roc_auc_score(target_test, probabilities_one_test)\n",
    "print('AUC-ROC:', auc_roc)"
   ]
  },
  {
   "cell_type": "code",
   "execution_count": 50,
   "metadata": {},
   "outputs": [
    {
     "data": {
      "image/png": "[encoded data removed]",
      "text/plain": [
       "<Figure size 432x288 with 1 Axes>"
      ]
     },
     "metadata": {
      "needs_background": "light"
     },
     "output_type": "display_data"
    }
   ],
   "source": [
    "# mostramos la curva ROC sin ajuste de clases\n",
    "\n",
    "fpr, tpr, thresholds = roc_curve(target_test, probabilities_one_test)\n",
    "\n",
    "plt.figure()\n",
    "plt.plot(fpr, tpr)\n",
    "plt.plot([0, 1], [0, 1], linestyle = '--')\n",
    "plt.xlim([0.0, 1.0])\n",
    "plt.ylim([0.0, 1.0])\n",
    "plt.xlabel('TASA DE FALSOS POSITIVOS')\n",
    "plt.ylabel('TASA DE VERDADEROS POSITIVOS')\n",
    "plt.title('CURVA ROC DEL MODELO DE ÁRBOL DE DECISIÓN SIN AJUSTE DE CLASES')\n",
    "plt.show()"
   ]
  },
  {
   "cell_type": "markdown",
   "metadata": {},
   "source": [
    "#### Bosque Aleatorio"
   ]
  },
  {
   "cell_type": "code",
   "execution_count": 51,
   "metadata": {},
   "outputs": [
    {
     "name": "stdout",
     "output_type": "stream",
     "text": [
      "EXACTITUD EN EL CONJUNTO DE PRUEBA (n_estimators = 10): 0.8516713091922006\n"
     ]
    }
   ],
   "source": [
    "# evaluación del modelo sin ajuste de clases con conjunto de prueba\n",
    "\n",
    "best_score = 0\n",
    "best_est = 0\n",
    "\n",
    "for est in range(1, 11):\n",
    "    model = RandomForestClassifier(random_state = 12345, n_estimators = est)\n",
    "    model.fit(features_train, target_train)\n",
    "    score = model.score(features_test, target_test)\n",
    "    \n",
    "    if score > best_score:\n",
    "        best_score = score\n",
    "        best_est = est\n",
    "        \n",
    "print('EXACTITUD EN EL CONJUNTO DE PRUEBA (n_estimators = {}): {}'.format(best_est, best_score))"
   ]
  },
  {
   "cell_type": "code",
   "execution_count": 52,
   "metadata": {},
   "outputs": [
    {
     "name": "stdout",
     "output_type": "stream",
     "text": [
      "EXACTITUD EN EL CONJUNTO DE ENTRENAMIENTO (n_estimators = 9): 0.9883599462766751\n"
     ]
    }
   ],
   "source": [
    "# evaluación del modelo sin ajuste de clases con conjunto de entrenamiento\n",
    "\n",
    "best_score = 0\n",
    "best_est = 0\n",
    "\n",
    "for est in range(1, 11):\n",
    "    model = RandomForestClassifier(random_state = 12345, n_estimators = est)\n",
    "    model.fit(features_train, target_train)\n",
    "    score = model.score(features_train, target_train)\n",
    "    \n",
    "    if score > best_score:\n",
    "        best_score = score\n",
    "        best_est = est\n",
    "        \n",
    "print('EXACTITUD EN EL CONJUNTO DE ENTRENAMIENTO (n_estimators = {}): {}'.format(best_est, best_score))"
   ]
  },
  {
   "cell_type": "code",
   "execution_count": 53,
   "metadata": {},
   "outputs": [
    {
     "name": "stdout",
     "output_type": "stream",
     "text": [
      "EXACTITUD EN EL CONJUNTO DE VALIDACION (n_estimators = 9): 0.850974930362117\n"
     ]
    }
   ],
   "source": [
    "# evaluación del modelo sin ajuste de clases con conjunto de validación\n",
    "\n",
    "best_score = 0\n",
    "best_est = 0\n",
    "\n",
    "for est in range(1, 11):\n",
    "    model = RandomForestClassifier(random_state = 12345, n_estimators = est)\n",
    "    model.fit(features_train, target_train)\n",
    "    score = model.score(features_valid, target_valid)\n",
    "    \n",
    "    if score > best_score:\n",
    "        best_score = score\n",
    "        best_est = est\n",
    "        \n",
    "print('EXACTITUD EN EL CONJUNTO DE VALIDACION (n_estimators = {}): {}'.format(best_est, best_score))"
   ]
  },
  {
   "cell_type": "code",
   "execution_count": 54,
   "metadata": {},
   "outputs": [
    {
     "name": "stdout",
     "output_type": "stream",
     "text": [
      "F1 (n_estimators = 9): 0.5305263157894736\n"
     ]
    }
   ],
   "source": [
    "# calculamos F1 sin ajuste de clases con conjunto de prueba\n",
    "\n",
    "best_score = 0\n",
    "best_est = 0\n",
    "\n",
    "for est in range(1, 11):\n",
    "    model = RandomForestClassifier(random_state = 12345, n_estimators = est)\n",
    "    model.fit(features_train, target_train)\n",
    "    predictions = model.predict(features_test)\n",
    "    score = f1_score(target_test, predictions)\n",
    "    \n",
    "    if score > best_score:\n",
    "        best_score = score\n",
    "        best_est = est\n",
    "        \n",
    "print('F1 (n_estimators = {}): {}'.format(best_est, best_score))        "
   ]
  },
  {
   "cell_type": "code",
   "execution_count": 55,
   "metadata": {},
   "outputs": [
    {
     "name": "stdout",
     "output_type": "stream",
     "text": [
      "F1 (n_estimators = 9): 0.9703196347031964\n"
     ]
    }
   ],
   "source": [
    "# calculamos F1 sin ajuste de clases con conjunto de entrenamiento\n",
    "\n",
    "best_score = 0\n",
    "best_est = 0\n",
    "\n",
    "for est in range(1, 11):\n",
    "    model = RandomForestClassifier(random_state = 12345, n_estimators = est)\n",
    "    model.fit(features_train, target_train)\n",
    "    predictions = model.predict(features_train)\n",
    "    score = f1_score(target_train, predictions)\n",
    "    \n",
    "    if score > best_score:\n",
    "        best_score = score\n",
    "        best_est = est\n",
    "        \n",
    "print('F1 (n_estimators = {}): {}'.format(best_est, best_score)) "
   ]
  },
  {
   "cell_type": "code",
   "execution_count": 56,
   "metadata": {},
   "outputs": [
    {
     "name": "stdout",
     "output_type": "stream",
     "text": [
      "F1 (n_estimators = 9): 0.5770750988142291\n"
     ]
    }
   ],
   "source": [
    "# calculamos F1 sin ajuste de clases con conjunto de validacion\n",
    "\n",
    "best_score = 0\n",
    "best_est = 0\n",
    "\n",
    "for est in range(1, 11):\n",
    "    model = RandomForestClassifier(random_state = 12345, n_estimators = est)\n",
    "    model.fit(features_train, target_train)\n",
    "    predictions = model.predict(features_valid)\n",
    "    score = f1_score(target_valid, predictions)\n",
    "    \n",
    "    if score > best_score:\n",
    "        best_score = score\n",
    "        best_est = est\n",
    "        \n",
    "print('F1 (n_estimators = {}): {}'.format(best_est, best_score)) "
   ]
  },
  {
   "cell_type": "code",
   "execution_count": 57,
   "metadata": {},
   "outputs": [
    {
     "name": "stdout",
     "output_type": "stream",
     "text": [
      "AUC-ROC: 0.7973661347112351\n"
     ]
    }
   ],
   "source": [
    "# calculamos AUC-ROC sin ajuste de clases\n",
    "\n",
    "probabilities_test = model.predict_proba(features_test)\n",
    "probabilities_one_test = probabilities_test[:, 1]\n",
    "\n",
    "auc_roc = roc_auc_score(target_test, probabilities_one_test)\n",
    "\n",
    "print('AUC-ROC:', auc_roc)"
   ]
  },
  {
   "cell_type": "code",
   "execution_count": 58,
   "metadata": {},
   "outputs": [
    {
     "data": {
      "image/png": "[encoded data removed]",
      "text/plain": [
       "<Figure size 432x288 with 1 Axes>"
      ]
     },
     "metadata": {
      "needs_background": "light"
     },
     "output_type": "display_data"
    }
   ],
   "source": [
    "# mostramos la curva ROC sin ajuste de clases\n",
    "\n",
    "fpr, tpr, thresholds = roc_curve(target_test, probabilities_one_test)\n",
    "\n",
    "plt.figure()\n",
    "plt.plot(fpr, tpr)\n",
    "plt.plot([0, 1], [0, 1], linestyle = '--')\n",
    "plt.xlim([0.0, 1.0])\n",
    "plt.ylim([0.0, 1.0])\n",
    "plt.xlabel('TASA DE FALSOS POSITIVOS')\n",
    "plt.ylabel('TASA DE VERDADEROS POSITIVOS')\n",
    "plt.title('CURVA ROC DEL MODELO DE BOSQUE ALEATORIO SIN AJUSTE DE CLASES')\n",
    "plt.show()"
   ]
  },
  {
   "cell_type": "markdown",
   "metadata": {},
   "source": [
    "### Construcción de Modelos Con Ajuste de Clases"
   ]
  },
  {
   "cell_type": "markdown",
   "metadata": {},
   "source": [
    "#### Regresión Logística"
   ]
  },
  {
   "cell_type": "code",
   "execution_count": 59,
   "metadata": {},
   "outputs": [
    {
     "name": "stdout",
     "output_type": "stream",
     "text": [
      "EXACTITUD EN EL CONJUNTO DE PRUEBA: 0.7214484679665738\n"
     ]
    }
   ],
   "source": [
    "# evaluación del modelo con ajuste de clases con conjunto de prueba\n",
    "\n",
    "model = LogisticRegression(random_state = 12345, solver = 'liblinear', class_weight = 'balanced')\n",
    "model.fit(features_train, target_train)\n",
    "predictions_test = model.predict(features_test)\n",
    "accuracy_test = accuracy_score(target_test, predictions_test)\n",
    "\n",
    "print('EXACTITUD EN EL CONJUNTO DE PRUEBA:', accuracy_test)"
   ]
  },
  {
   "cell_type": "code",
   "execution_count": 60,
   "metadata": {},
   "outputs": [
    {
     "name": "stdout",
     "output_type": "stream",
     "text": [
      "EXACTITUD EN EL CONJUNTO DE ENTRENAMIENTO: 0.7260110431278913\n"
     ]
    }
   ],
   "source": [
    "# evaluación del modelo con ajuste de clases con conjunto de entrenamiento\n",
    "\n",
    "model = LogisticRegression(random_state = 12345, solver = 'liblinear', class_weight = 'balanced')\n",
    "model.fit(features_train, target_train)\n",
    "predictions_train = model.predict(features_train)\n",
    "accuracy_train = accuracy_score(target_train, predictions_train)\n",
    "\n",
    "print('EXACTITUD EN EL CONJUNTO DE ENTRENAMIENTO:', accuracy_train)"
   ]
  },
  {
   "cell_type": "code",
   "execution_count": 61,
   "metadata": {},
   "outputs": [
    {
     "name": "stdout",
     "output_type": "stream",
     "text": [
      "EXACTITUD EN EL CONJUNTO DE PRUEBA: 0.7402506963788301\n"
     ]
    }
   ],
   "source": [
    "# evaluación del modelo con ajuste de clases con conjunto de validación\n",
    "\n",
    "model = LogisticRegression(random_state = 12345, solver = 'liblinear', class_weight = 'balanced')\n",
    "model.fit(features_train, target_train)\n",
    "predictions_valid = model.predict(features_valid)\n",
    "accuracy_valid  = accuracy_score(target_valid, predictions_valid)\n",
    "\n",
    "print('EXACTITUD EN EL CONJUNTO DE PRUEBA:', accuracy_valid)"
   ]
  },
  {
   "cell_type": "code",
   "execution_count": 62,
   "metadata": {},
   "outputs": [
    {
     "name": "stdout",
     "output_type": "stream",
     "text": [
      "F1: 0.5049504950495048\n"
     ]
    }
   ],
   "source": [
    "# calculamos F1 con ajuste de clases con el conjunto de prueba\n",
    "\n",
    "predicted_test = model.predict(features_test)\n",
    "print('F1:', f1_score(target_test, predicted_test))"
   ]
  },
  {
   "cell_type": "code",
   "execution_count": 63,
   "metadata": {},
   "outputs": [
    {
     "name": "stdout",
     "output_type": "stream",
     "text": [
      "F1: 0.51092168353756\n"
     ]
    }
   ],
   "source": [
    "# calculamos F1 con ajuste de clases con el conjunto de entrenamiento\n",
    "\n",
    "predicted_train = model.predict(features_train)\n",
    "print('F1:', f1_score(target_train, predicted_train))"
   ]
  },
  {
   "cell_type": "code",
   "execution_count": 64,
   "metadata": {},
   "outputs": [
    {
     "name": "stdout",
     "output_type": "stream",
     "text": [
      "F1: 0.5412054120541206\n"
     ]
    }
   ],
   "source": [
    "# calculamos F1 con ajuste de clases con el conjunto de validacion\n",
    "\n",
    "predicted_valid = model.predict(features_valid)\n",
    "print('F1:', f1_score(target_valid, predicted_valid))"
   ]
  },
  {
   "cell_type": "code",
   "execution_count": 65,
   "metadata": {},
   "outputs": [
    {
     "name": "stdout",
     "output_type": "stream",
     "text": [
      "AUC-ROC: 0.7822915237703294\n"
     ]
    }
   ],
   "source": [
    "# calculamos AUC-ROC con ajuste de clases\n",
    "\n",
    "probabilities_test = model.predict_proba(features_test)\n",
    "probabilities_one_test = probabilities_test[:, 1]\n",
    "\n",
    "auc_roc = roc_auc_score(target_test, probabilities_one_test)\n",
    "print('AUC-ROC:', auc_roc)"
   ]
  },
  {
   "cell_type": "code",
   "execution_count": 66,
   "metadata": {},
   "outputs": [
    {
     "data": {
      "image/png": "[encoded data removed]",
      "text/plain": [
       "<Figure size 432x288 with 1 Axes>"
      ]
     },
     "metadata": {
      "needs_background": "light"
     },
     "output_type": "display_data"
    }
   ],
   "source": [
    "# mostramos la curva ROC con ajuste de clases\n",
    "\n",
    "fpr, tpr, thresholds = roc_curve(target_test, probabilities_one_test)\n",
    "\n",
    "plt.figure()\n",
    "plt.plot(fpr, tpr)\n",
    "plt.plot([0, 1], [0, 1], linestyle = '--')\n",
    "plt.xlim([0.0, 1.0])\n",
    "plt.ylim([0.0, 1.0])\n",
    "plt.xlabel('TASA DE FALSOS POSITIVOS')\n",
    "plt.ylabel('TASA DE VERDADEROS POSITIVOS')\n",
    "plt.title('CURVA ROC DEL MODELO DE REGRESIÓN LOGÍSITCA CON AJUSTE DE CLASES')\n",
    "plt.show()"
   ]
  },
  {
   "cell_type": "markdown",
   "metadata": {},
   "source": [
    "##### Sobremuestreo"
   ]
  },
  {
   "cell_type": "code",
   "execution_count": 67,
   "metadata": {},
   "outputs": [],
   "source": [
    "# definimos las funciones para ajustar las clases \n",
    "\n",
    "def upsample(features, target, repeat):\n",
    "    features_zeros = features[target == 0]\n",
    "    features_ones = features[target == 1]\n",
    "    target_zeros = target[target == 0]\n",
    "    target_ones = target[target == 1]\n",
    "    \n",
    "    features_upsampled = pd.concat([features_zeros] + [features_ones] * repeat)\n",
    "    target_upsampled = pd.concat([target_zeros] + [target_ones] * repeat)\n",
    "    \n",
    "    features_upsampled, target_upsampled = shuffle(\n",
    "        features_upsampled, target_upsampled, random_state = 12345\n",
    "    )\n",
    "    \n",
    "    return features_upsampled, target_upsampled\n",
    "\n",
    "features_upsampled, target_upsampled = upsample(\n",
    "    features_train, target_train, 20\n",
    ")"
   ]
  },
  {
   "cell_type": "code",
   "execution_count": 68,
   "metadata": {},
   "outputs": [
    {
     "name": "stdout",
     "output_type": "stream",
     "text": [
      "EXACTITUD EN EL CONJUNTO DE PRUEBA: 0.7214484679665738\n"
     ]
    }
   ],
   "source": [
    "# evaluación del modelo con ajuste de clases con sobremuestreo con conjunto de prueba\n",
    "\n",
    "model.fit(features_upsampled, target_upsampled)\n",
    "predictions_test = model.predict(features_test)\n",
    "accuracy_test = accuracy_score(target_test, predictions_test)\n",
    "\n",
    "print('EXACTITUD EN EL CONJUNTO DE PRUEBA:', accuracy_test)"
   ]
  },
  {
   "cell_type": "code",
   "execution_count": 69,
   "metadata": {},
   "outputs": [
    {
     "name": "stdout",
     "output_type": "stream",
     "text": [
      "EXACTITUD EN EL CONJUNTO DE ENTRENAMIENTO: 0.726309506043874\n"
     ]
    }
   ],
   "source": [
    "# evaluación del modelo con ajuste de clases con sobremuestreo con conjunto de entrenamiento\n",
    "\n",
    "model.fit(features_upsampled, target_upsampled)\n",
    "predictions_train = model.predict(features_train)\n",
    "accuracy_train = accuracy_score(target_train, predictions_train)\n",
    "\n",
    "print('EXACTITUD EN EL CONJUNTO DE ENTRENAMIENTO:', accuracy_train)"
   ]
  },
  {
   "cell_type": "code",
   "execution_count": 70,
   "metadata": {},
   "outputs": [
    {
     "name": "stdout",
     "output_type": "stream",
     "text": [
      "EXACTITUD EN EL CONJUNTO DE VALIDACION: 0.7402506963788301\n"
     ]
    }
   ],
   "source": [
    "# evaluación del modelo con ajuste de clases con sobremuestreo con conjunto de validación\n",
    "\n",
    "model.fit(features_upsampled, target_upsampled)\n",
    "predictions_valid = model.predict(features_valid)\n",
    "accuracy_valid = accuracy_score(target_valid, predictions_valid)\n",
    "\n",
    "print('EXACTITUD EN EL CONJUNTO DE VALIDACION:', accuracy_valid)"
   ]
  },
  {
   "cell_type": "code",
   "execution_count": 71,
   "metadata": {
    "scrolled": true
   },
   "outputs": [
    {
     "name": "stdout",
     "output_type": "stream",
     "text": [
      "F1: 0.5049504950495048\n"
     ]
    }
   ],
   "source": [
    "# calculamos F1 con ajuste de clases con sobremuestreo con conjunto de prueba\n",
    "\n",
    "print('F1:', f1_score(target_test, predicted_test))"
   ]
  },
  {
   "cell_type": "code",
   "execution_count": 72,
   "metadata": {},
   "outputs": [
    {
     "name": "stdout",
     "output_type": "stream",
     "text": [
      "AUC-ROC: 0.7822884753151341\n"
     ]
    }
   ],
   "source": [
    "# calculamos AUC-ROC con ajuste de clases con sobremuestreo\n",
    "\n",
    "probabilities_test = model.predict_proba(features_test)\n",
    "probabilities_one_test = probabilities_test[:, 1]\n",
    "\n",
    "auc_roc = roc_auc_score(target_test, probabilities_one_test)\n",
    "\n",
    "print('AUC-ROC:', auc_roc)"
   ]
  },
  {
   "cell_type": "code",
   "execution_count": 73,
   "metadata": {},
   "outputs": [
    {
     "data": {
      "image/png": "[encoded data removed]",
      "text/plain": [
       "<Figure size 432x288 with 1 Axes>"
      ]
     },
     "metadata": {
      "needs_background": "light"
     },
     "output_type": "display_data"
    }
   ],
   "source": [
    "# mostramos la curva ROC con ajuste de clases con sobremuestreo\n",
    "\n",
    "fpr, tpr, thresholds = roc_curve(target_test, probabilities_one_test)\n",
    "\n",
    "plt.figure()\n",
    "plt.plot(fpr, tpr)\n",
    "plt.plot([0, 1], [0, 1], linestyle = '--')\n",
    "plt.xlim([0.0, 1.0])\n",
    "plt.ylim([0.0, 1.0])\n",
    "plt.xlabel('TASA DE FALSOS POSITIVOS')\n",
    "plt.ylabel('TASA DE VERDADEROS POSITIVOS')\n",
    "plt.title('CURVA ROC DEL MODELO DE REGRESIÓN LOGÍSITCA CON SOBREMUESTREO')\n",
    "plt.show()"
   ]
  },
  {
   "cell_type": "markdown",
   "metadata": {},
   "source": [
    "##### Submuestreo"
   ]
  },
  {
   "cell_type": "code",
   "execution_count": 74,
   "metadata": {},
   "outputs": [],
   "source": [
    "# definimos las funciones para ajustar las clases \n",
    "\n",
    "def downsample(features, target, fraction):\n",
    "    features_zeros = features[target == 0]\n",
    "    features_ones = features[target == 1]\n",
    "    target_zeros = target[target == 0]\n",
    "    target_ones = target[target == 1]\n",
    "    \n",
    "    features_downsampled = pd.concat(\n",
    "        [features_zeros.sample(frac = fraction, random_state = 12345)] + [features_ones]\n",
    "    )\n",
    "    \n",
    "    target_downsampled = pd.concat(\n",
    "        [target_zeros.sample(frac = fraction, random_state = 12345)] + [target_ones]\n",
    "    )\n",
    "\n",
    "    features_downsampled, target_downsampled = shuffle(\n",
    "        features_downsampled, target_downsampled, random_state = 12345\n",
    "    )\n",
    "    \n",
    "    return features_downsampled, target_downsampled\n",
    "\n",
    "features_downsampled, target_downsampled = downsample(\n",
    "    features_train, target_train, 0.1\n",
    ")"
   ]
  },
  {
   "cell_type": "code",
   "execution_count": 75,
   "metadata": {},
   "outputs": [
    {
     "name": "stdout",
     "output_type": "stream",
     "text": [
      "EXACTITUD EN EL CONJUNTO DE PRUEBA: 0.7193593314763231\n"
     ]
    }
   ],
   "source": [
    "# evaluación del modelo con ajuste de clases con submuestreo\n",
    "\n",
    "model.fit(features_downsampled, target_downsampled)\n",
    "predictions_test = model.predict(features_test)\n",
    "accuracy_test = accuracy_score(target_test, predictions_test)\n",
    "\n",
    "print('EXACTITUD EN EL CONJUNTO DE PRUEBA:', accuracy_test)"
   ]
  },
  {
   "cell_type": "code",
   "execution_count": 76,
   "metadata": {},
   "outputs": [
    {
     "name": "stdout",
     "output_type": "stream",
     "text": [
      "EXACTITUD EN EL CONJUNTO DE ENTRENAMIENTO: 0.7281002835397702\n"
     ]
    }
   ],
   "source": [
    "# evaluación del modelo con ajuste de clases con submuestreo\n",
    "\n",
    "model.fit(features_downsampled, target_downsampled)\n",
    "predictions_train = model.predict(features_train)\n",
    "accuracy_train = accuracy_score(target_train, predictions_train)\n",
    "\n",
    "print('EXACTITUD EN EL CONJUNTO DE ENTRENAMIENTO:', accuracy_train)"
   ]
  },
  {
   "cell_type": "code",
   "execution_count": 77,
   "metadata": {},
   "outputs": [
    {
     "name": "stdout",
     "output_type": "stream",
     "text": [
      "EXACTITUD EN EL CONJUNTO DE VALIDACION: 0.7325905292479109\n"
     ]
    }
   ],
   "source": [
    "# evaluación del modelo con ajuste de clases con submuestreo\n",
    "\n",
    "model.fit(features_downsampled, target_downsampled)\n",
    "predictions_valid = model.predict(features_valid)\n",
    "accuracy_valid = accuracy_score(target_valid, predictions_valid)\n",
    "\n",
    "print('EXACTITUD EN EL CONJUNTO DE VALIDACION:', accuracy_valid)"
   ]
  },
  {
   "cell_type": "code",
   "execution_count": 78,
   "metadata": {},
   "outputs": [
    {
     "name": "stdout",
     "output_type": "stream",
     "text": [
      "F1: 0.5049504950495048\n"
     ]
    }
   ],
   "source": [
    "# calculamos F1 con ajuste de clases con submuestreo con conjunto de prueba\n",
    "\n",
    "print('F1:', f1_score(target_test, predicted_test))"
   ]
  },
  {
   "cell_type": "code",
   "execution_count": 79,
   "metadata": {},
   "outputs": [
    {
     "name": "stdout",
     "output_type": "stream",
     "text": [
      "AUC-ROC: 0.7809258158428217\n"
     ]
    }
   ],
   "source": [
    "# calculamos AUC-ROC con ajuste de clases con submuestreo\n",
    "\n",
    "probabilities_test = model.predict_proba(features_test)\n",
    "probabilities_one_test = probabilities_test[:, 1]\n",
    "\n",
    "auc_roc = roc_auc_score(target_test, probabilities_one_test)\n",
    "\n",
    "print('AUC-ROC:', auc_roc)"
   ]
  },
  {
   "cell_type": "code",
   "execution_count": 80,
   "metadata": {},
   "outputs": [
    {
     "data": {
      "image/png": "[encoded data removed]",
      "text/plain": [
       "<Figure size 432x288 with 1 Axes>"
      ]
     },
     "metadata": {
      "needs_background": "light"
     },
     "output_type": "display_data"
    }
   ],
   "source": [
    "# mostramos la curva ROC con ajuste de clases con submuestreo\n",
    "\n",
    "\n",
    "fpr, tpr, thresholds = roc_curve(target_test, probabilities_one_test)\n",
    "\n",
    "plt.figure()\n",
    "plt.plot(fpr, tpr)\n",
    "plt.plot([0, 1], [0, 1], linestyle = '--')\n",
    "plt.xlim([0.0, 1.0])\n",
    "plt.ylim([0.0, 1.0])\n",
    "plt.xlabel('TASA DE FALSOS POSITIVOS')\n",
    "plt.ylabel('TASA DE VERDADEROS POSITIVOS')\n",
    "plt.title('CURVA ROC DEL MODELO DE REGRESIÓN LOGÍSITCA CON SUBMUESTREO')\n",
    "plt.show()"
   ]
  },
  {
   "cell_type": "markdown",
   "metadata": {},
   "source": [
    "#### Árbol de Decisión"
   ]
  },
  {
   "cell_type": "code",
   "execution_count": 81,
   "metadata": {},
   "outputs": [
    {
     "name": "stdout",
     "output_type": "stream",
     "text": [
      "EXACTITUD EN EL CONJUNTO DE PRUEBA: 0.7771587743732591\n"
     ]
    }
   ],
   "source": [
    "best_model = None\n",
    "best_result = 0\n",
    "\n",
    "for depth in range(1, 6):\n",
    "    model = DecisionTreeClassifier(random_state = 12345, max_depth = depth, class_weight = 'balanced')\n",
    "    model.fit(features_train, target_train)\n",
    "    predictions = model.predict(features_test)\n",
    "    result = accuracy_score(target_test, predictions)\n",
    "    \n",
    "    if result > best_result:\n",
    "        best_model = model\n",
    "        best_result = result\n",
    "        \n",
    "print('EXACTITUD EN EL CONJUNTO DE PRUEBA:', best_result)"
   ]
  },
  {
   "cell_type": "code",
   "execution_count": 82,
   "metadata": {},
   "outputs": [
    {
     "name": "stdout",
     "output_type": "stream",
     "text": [
      "EXACTITUD EN EL CONJUNTO DE ENTRENAMIENTO: 0.7803312938367408\n"
     ]
    }
   ],
   "source": [
    "best_model = None\n",
    "best_result = 0\n",
    "\n",
    "for depth in range(1, 6):\n",
    "    model = DecisionTreeClassifier(random_state = 12345, max_depth = depth, class_weight = 'balanced')\n",
    "    model.fit(features_train, target_train)\n",
    "    predictions = model.predict(features_train)\n",
    "    result = accuracy_score(target_train, predictions)\n",
    "    \n",
    "    if result > best_result:\n",
    "        best_model = model\n",
    "        best_result = result\n",
    "        \n",
    "print('EXACTITUD EN EL CONJUNTO DE ENTRENAMIENTO:', best_result)"
   ]
  },
  {
   "cell_type": "code",
   "execution_count": 83,
   "metadata": {},
   "outputs": [
    {
     "name": "stdout",
     "output_type": "stream",
     "text": [
      "EXACTITUD EN EL CONJUNTO DE VALIDACION: 0.7778551532033426\n"
     ]
    }
   ],
   "source": [
    "best_model = None\n",
    "best_result = 0\n",
    "\n",
    "for depth in range(1, 6):\n",
    "    model = DecisionTreeClassifier(random_state = 12345, max_depth = depth, class_weight = 'balanced')\n",
    "    model.fit(features_train, target_train)\n",
    "    predictions = model.predict(features_valid)\n",
    "    result = accuracy_score(target_valid, predictions)\n",
    "    \n",
    "    if result > best_result:\n",
    "        best_model = model\n",
    "        best_result = result\n",
    "        \n",
    "print('EXACTITUD EN EL CONJUNTO DE VALIDACION:', best_result)"
   ]
  },
  {
   "cell_type": "code",
   "execution_count": 84,
   "metadata": {},
   "outputs": [
    {
     "name": "stdout",
     "output_type": "stream",
     "text": [
      "F1 con conjunto de prueba: 0.5541561712846347\n"
     ]
    }
   ],
   "source": [
    "best_model = None\n",
    "best_result = 0\n",
    "\n",
    "for depth in range(1 , 6):\n",
    "    model = DecisionTreeClassifier(random_state = 12345, max_depth = depth, class_weight = 'balanced')\n",
    "    model.fit(features_train, target_train)\n",
    "    predictions = model.predict(features_test)\n",
    "    result = f1_score(target_test, predictions)\n",
    "    \n",
    "    if result > best_result:\n",
    "        best_model = model\n",
    "        best_result = result\n",
    "        \n",
    "print('F1 con conjunto de prueba:', best_result)        "
   ]
  },
  {
   "cell_type": "code",
   "execution_count": 85,
   "metadata": {},
   "outputs": [
    {
     "name": "stdout",
     "output_type": "stream",
     "text": [
      "F1 con conjunto de entrenamiento: 0.5712740059507709\n"
     ]
    }
   ],
   "source": [
    "best_model = None\n",
    "best_result = 0\n",
    "\n",
    "for depth in range(1 , 6):\n",
    "    model = DecisionTreeClassifier(random_state = 12345, max_depth = depth, class_weight = 'balanced')\n",
    "    model.fit(features_train, target_train)\n",
    "    predictions = model.predict(features_train)\n",
    "    result = f1_score(target_train, predictions)\n",
    "    \n",
    "    if result > best_result:\n",
    "        best_model = model\n",
    "        best_result = result\n",
    "        \n",
    "print('F1 con conjunto de entrenamiento:', best_result)   "
   ]
  },
  {
   "cell_type": "code",
   "execution_count": 86,
   "metadata": {},
   "outputs": [
    {
     "name": "stdout",
     "output_type": "stream",
     "text": [
      "F1 con conjunto de validación: 0.5804020100502512\n"
     ]
    }
   ],
   "source": [
    "best_model = None\n",
    "best_result = 0\n",
    "\n",
    "for depth in range(1 , 6):\n",
    "    model = DecisionTreeClassifier(random_state = 12345, max_depth = depth, class_weight = 'balanced')\n",
    "    model.fit(features_train, target_train)\n",
    "    predictions = model.predict(features_valid)\n",
    "    result = f1_score(target_valid, predictions)\n",
    "    \n",
    "    if result > best_result:\n",
    "        best_model = model\n",
    "        best_result = result\n",
    "        \n",
    "print('F1 con conjunto de validación:', best_result)   "
   ]
  },
  {
   "cell_type": "code",
   "execution_count": 87,
   "metadata": {},
   "outputs": [
    {
     "name": "stdout",
     "output_type": "stream",
     "text": [
      "AUC-ROC: 0.7809258158428217\n"
     ]
    }
   ],
   "source": [
    "# calculamos AUC-ROC\n",
    "\n",
    "probabilities_train = model.predict_proba(features_train)\n",
    "probabilities_one_train = probabilities_train[:, 1]\n",
    "\n",
    "auc_roc = roc_auc_score(target_test, probabilities_one_test)\n",
    "\n",
    "print('AUC-ROC:', auc_roc)"
   ]
  },
  {
   "cell_type": "code",
   "execution_count": 88,
   "metadata": {},
   "outputs": [
    {
     "data": {
      "image/png": "[encoded data removed]",
      "text/plain": [
       "<Figure size 432x288 with 1 Axes>"
      ]
     },
     "metadata": {
      "needs_background": "light"
     },
     "output_type": "display_data"
    }
   ],
   "source": [
    "# mostramos la curva ROC\n",
    "\n",
    "fpr, tpr, thresholds = roc_curve(target_test, probabilities_one_test)\n",
    "\n",
    "plt.figure()\n",
    "plt.plot(fpr, tpr)\n",
    "plt.plot([0, 1], [0, 1], linestyle = '--')\n",
    "plt.xlim([0.0, 1.0])\n",
    "plt.ylim([0.0, 1.0])\n",
    "plt.xlabel('TASA DE FALSOS POSITIVOS')\n",
    "plt.ylabel('TASA DE VERDADEROS POSITIVOS')\n",
    "plt.title('CURVA ROC DEL MODELO DE ÁRBOL DE DECISIÓN CON AJUSTE DE CLASE')\n",
    "plt.show()"
   ]
  },
  {
   "cell_type": "markdown",
   "metadata": {},
   "source": [
    "##### Sobremuestreo"
   ]
  },
  {
   "cell_type": "code",
   "execution_count": 89,
   "metadata": {},
   "outputs": [],
   "source": [
    "features_upsampled, target_upsampled = upsample(\n",
    "    features_train, target_train, 20\n",
    ")"
   ]
  },
  {
   "cell_type": "code",
   "execution_count": 90,
   "metadata": {},
   "outputs": [
    {
     "name": "stdout",
     "output_type": "stream",
     "text": [
      "EXACTITUD CON DATOS DE PRUEBA: 0.7534818941504178\n"
     ]
    }
   ],
   "source": [
    "model.fit(features_upsampled, target_upsampled)\n",
    "predictions_test = model.predict(features_test)\n",
    "accuracy_test = accuracy_score(target_test, predictions_test)\n",
    "\n",
    "print('EXACTITUD CON DATOS DE PRUEBA:', accuracy_test)"
   ]
  },
  {
   "cell_type": "code",
   "execution_count": 91,
   "metadata": {},
   "outputs": [
    {
     "name": "stdout",
     "output_type": "stream",
     "text": [
      "EXACTITUD CON DATOS DE ENTRENAMIENTO: 0.7634681390837188\n"
     ]
    }
   ],
   "source": [
    "model.fit(features_upsampled, target_upsampled)\n",
    "predictions_train = model.predict(features_train)\n",
    "accuracy_train = accuracy_score(target_train, predictions_train)\n",
    "\n",
    "print('EXACTITUD CON DATOS DE ENTRENAMIENTO:', accuracy_train)"
   ]
  },
  {
   "cell_type": "code",
   "execution_count": 92,
   "metadata": {},
   "outputs": [
    {
     "name": "stdout",
     "output_type": "stream",
     "text": [
      "EXACTITUD CON DATOS DE PRUEBA: 0.7674094707520891\n"
     ]
    }
   ],
   "source": [
    "model.fit(features_upsampled, target_upsampled)\n",
    "predictions_valid = model.predict(features_valid)\n",
    "accuracy_valid = accuracy_score(target_valid, predictions_valid)\n",
    "\n",
    "print('EXACTITUD CON DATOS DE PRUEBA:', accuracy_valid)"
   ]
  },
  {
   "cell_type": "code",
   "execution_count": 93,
   "metadata": {},
   "outputs": [
    {
     "name": "stdout",
     "output_type": "stream",
     "text": [
      "F1: 0.5049504950495048\n"
     ]
    }
   ],
   "source": [
    "# calculamos F1\n",
    "\n",
    "print('F1:', f1_score(target_test, predicted_test))"
   ]
  },
  {
   "cell_type": "code",
   "execution_count": 94,
   "metadata": {},
   "outputs": [
    {
     "name": "stdout",
     "output_type": "stream",
     "text": [
      "0.8353712256314112\n"
     ]
    }
   ],
   "source": [
    "# calculamos AUC-ROC\n",
    "\n",
    "probabilities_test = model.predict_proba(features_test)\n",
    "probabilities_one_test = probabilities_test[:, 1]\n",
    "\n",
    "auc_roc = roc_auc_score(target_test, probabilities_one_test)\n",
    "\n",
    "print(auc_roc)"
   ]
  },
  {
   "cell_type": "code",
   "execution_count": 95,
   "metadata": {},
   "outputs": [
    {
     "data": {
      "image/png": "[encoded data removed]",
      "text/plain": [
       "<Figure size 432x288 with 1 Axes>"
      ]
     },
     "metadata": {
      "needs_background": "light"
     },
     "output_type": "display_data"
    }
   ],
   "source": [
    "# mostramos la curva ROC\n",
    "\n",
    "fpr, tpr, thresholds = roc_curve(target_test, probabilities_one_test)\n",
    "\n",
    "plt.figure()\n",
    "plt.plot(fpr, tpr)\n",
    "plt.plot([0, 1], [0, 1], linestyle = '--')\n",
    "plt.xlim([0.0, 1.0])\n",
    "plt.ylim([0.0, 1.0])\n",
    "plt.xlabel('TASA DE FALSOS POSITIVOS')\n",
    "plt.ylabel('TASA DE VERDADEROS POSITIVOS')\n",
    "plt.title('CURVA ROC DEL MODELO DE ÁRBOL DE DECISIÓN CON SOBREMUESTREO')\n",
    "plt.show()"
   ]
  },
  {
   "cell_type": "markdown",
   "metadata": {},
   "source": [
    "##### SUBMUESTREO"
   ]
  },
  {
   "cell_type": "code",
   "execution_count": 96,
   "metadata": {},
   "outputs": [],
   "source": [
    "features_downsampled, target_downsampled = downsample(\n",
    "    features_train, target_train, 0.1\n",
    ")"
   ]
  },
  {
   "cell_type": "code",
   "execution_count": 97,
   "metadata": {},
   "outputs": [
    {
     "name": "stdout",
     "output_type": "stream",
     "text": [
      "EXACTITUD CON DATOS DE PRUEBA: 0.7263231197771588\n"
     ]
    }
   ],
   "source": [
    "model.fit(features_downsampled, target_downsampled)\n",
    "predictions_test = model.predict(features_test)\n",
    "accuracy_test = accuracy_score(target_test, predictions_test)\n",
    "\n",
    "print('EXACTITUD CON DATOS DE PRUEBA:', accuracy_test)"
   ]
  },
  {
   "cell_type": "code",
   "execution_count": 98,
   "metadata": {},
   "outputs": [
    {
     "name": "stdout",
     "output_type": "stream",
     "text": [
      "EXACTITUD CON DATOS DE ENTRENAMIENTO: 0.7373526339352335\n"
     ]
    }
   ],
   "source": [
    "model.fit(features_downsampled, target_downsampled)\n",
    "predictions_train = model.predict(features_train)\n",
    "accuracy_train = accuracy_score(target_train, predictions_train)\n",
    "\n",
    "print('EXACTITUD CON DATOS DE ENTRENAMIENTO:', accuracy_train)"
   ]
  },
  {
   "cell_type": "code",
   "execution_count": 99,
   "metadata": {},
   "outputs": [
    {
     "name": "stdout",
     "output_type": "stream",
     "text": [
      "EXACTITUD CON DATOS DE VALIDACION: 0.7360724233983287\n"
     ]
    }
   ],
   "source": [
    "model.fit(features_downsampled, target_downsampled)\n",
    "predictions_valid = model.predict(features_valid)\n",
    "accuracy_valid = accuracy_score(target_valid, predictions_valid)\n",
    "\n",
    "print('EXACTITUD CON DATOS DE VALIDACION:', accuracy_valid)"
   ]
  },
  {
   "cell_type": "code",
   "execution_count": 100,
   "metadata": {},
   "outputs": [
    {
     "name": "stdout",
     "output_type": "stream",
     "text": [
      "F1: 0.5049504950495048\n"
     ]
    }
   ],
   "source": [
    "print('F1:', f1_score(target_test, predicted_test))"
   ]
  },
  {
   "cell_type": "code",
   "execution_count": 101,
   "metadata": {},
   "outputs": [
    {
     "name": "stdout",
     "output_type": "stream",
     "text": [
      "AUC-ROC: 0.8115947993354368\n"
     ]
    }
   ],
   "source": [
    "# calculamos AUC-ROC\n",
    "\n",
    "probabilities_test = model.predict_proba(features_test)\n",
    "probabilities_one_test = probabilities_test[:, 1]\n",
    "\n",
    "auc_roc = roc_auc_score(target_test, probabilities_one_test)\n",
    "\n",
    "print('AUC-ROC:', auc_roc)"
   ]
  },
  {
   "cell_type": "code",
   "execution_count": 102,
   "metadata": {},
   "outputs": [
    {
     "data": {
      "image/png": "[encoded data removed]",
      "text/plain": [
       "<Figure size 432x288 with 1 Axes>"
      ]
     },
     "metadata": {
      "needs_background": "light"
     },
     "output_type": "display_data"
    }
   ],
   "source": [
    "# mostramos la curva ROC\n",
    "\n",
    "fpr, tpr, thresholds = roc_curve(target_test, probabilities_one_test)\n",
    "\n",
    "plt.figure()\n",
    "plt.plot(fpr, tpr)\n",
    "plt.plot([0, 1], [0, 1], linestyle = '--')\n",
    "plt.xlim([0.0, 1.0])\n",
    "plt.ylim([0.0, 1.0])\n",
    "plt.xlabel('TASA DE FALSOS POSITIVOS')\n",
    "plt.ylabel('TASA DE VERDADEROS POSITIVOS')\n",
    "plt.title('CURVA ROC DEL MODELO DE ÁRBOL DE DECISIÓN CON SUBMUESTREO')\n",
    "plt.show()"
   ]
  },
  {
   "cell_type": "markdown",
   "metadata": {},
   "source": [
    "#### Bosque Aleatorio"
   ]
  },
  {
   "cell_type": "code",
   "execution_count": 103,
   "metadata": {},
   "outputs": [
    {
     "name": "stdout",
     "output_type": "stream",
     "text": [
      "EXACTITUD DEL MEJOR MODELO EN EL CONJUNTO DE PRUEBA (n_estimators = 10): 0.8551532033426184\n"
     ]
    }
   ],
   "source": [
    "best_score = 0\n",
    "best_est = 0\n",
    "\n",
    "for est in range(1, 11):\n",
    "    model = RandomForestClassifier(random_state = 12345, n_estimators = est, class_weight = 'balanced')\n",
    "    model.fit(features_train, target_train)\n",
    "    score = model.score(features_test, target_test)\n",
    "    \n",
    "    if score > best_score:\n",
    "        best_score = score\n",
    "        best_est = est\n",
    "        \n",
    "print('EXACTITUD DEL MEJOR MODELO EN EL CONJUNTO DE PRUEBA (n_estimators = {}): {}'.format(best_est, best_score))"
   ]
  },
  {
   "cell_type": "code",
   "execution_count": 104,
   "metadata": {},
   "outputs": [
    {
     "name": "stdout",
     "output_type": "stream",
     "text": [
      "EXACTITUD DEL MEJOR MODELO EN EL CONJUNTO DE ENTRENAMIENTO (n_estimators = 9): 0.9867184002387703\n"
     ]
    }
   ],
   "source": [
    "best_score = 0\n",
    "best_est = 0\n",
    "\n",
    "for est in range(1, 11):\n",
    "    model = RandomForestClassifier(random_state = 12345, n_estimators = est, class_weight = 'balanced')\n",
    "    model.fit(features_train, target_train)\n",
    "    score = model.score(features_train, target_train)\n",
    "    \n",
    "    if score > best_score:\n",
    "        best_score = score\n",
    "        best_est = est\n",
    "        \n",
    "print('EXACTITUD DEL MEJOR MODELO EN EL CONJUNTO DE ENTRENAMIENTO (n_estimators = {}): {}'.format(best_est, best_score))"
   ]
  },
  {
   "cell_type": "code",
   "execution_count": 105,
   "metadata": {},
   "outputs": [
    {
     "name": "stdout",
     "output_type": "stream",
     "text": [
      "EXACTITUD DEL MEJOR MODELO EN EL CONJUNTO DE VALIDACION (n_estimators = 8): 0.8426183844011143\n"
     ]
    }
   ],
   "source": [
    "best_score = 0\n",
    "best_est = 0\n",
    "\n",
    "for est in range(1, 11):\n",
    "    model = RandomForestClassifier(random_state = 12345, n_estimators = est, class_weight = 'balanced')\n",
    "    model.fit(features_train, target_train)\n",
    "    score = model.score(features_valid, target_valid)\n",
    "    \n",
    "    if score > best_score:\n",
    "        best_score = score\n",
    "        best_est = est\n",
    "        \n",
    "print('EXACTITUD DEL MEJOR MODELO EN EL CONJUNTO DE VALIDACION (n_estimators = {}): {}'.format(best_est, best_score))"
   ]
  },
  {
   "cell_type": "code",
   "execution_count": 106,
   "metadata": {},
   "outputs": [
    {
     "name": "stdout",
     "output_type": "stream",
     "text": [
      "F1 DEL MODELO CON CONJUNTO DE PRUEBA(n_estimators = 9): 0.5504201680672268\n"
     ]
    }
   ],
   "source": [
    "best_score = 0\n",
    "best_est = 0\n",
    "\n",
    "for est in range(1, 11):\n",
    "    model = RandomForestClassifier(random_state = 12345, n_estimators = est, class_weight = 'balanced')\n",
    "    model.fit(features_train, target_train)\n",
    "    predictions = model.predict(features_test)\n",
    "    score = f1_score(target_test, predictions)\n",
    "    \n",
    "    if score > best_score:\n",
    "        best_score = score\n",
    "        best_est = est\n",
    "        \n",
    "print('F1 DEL MODELO CON CONJUNTO DE PRUEBA(n_estimators = {}): {}'.format(best_est, best_score))     "
   ]
  },
  {
   "cell_type": "code",
   "execution_count": 107,
   "metadata": {},
   "outputs": [
    {
     "name": "stdout",
     "output_type": "stream",
     "text": [
      "F1 DEL MODELO CON CONJUNTO DE ENTRENAMIENTO (n_estimators = 9): 0.9659134431252394\n"
     ]
    }
   ],
   "source": [
    "best_score = 0\n",
    "best_est = 0\n",
    "\n",
    "for est in range(1, 11):\n",
    "    model = RandomForestClassifier(random_state = 12345, n_estimators = est, class_weight = 'balanced')\n",
    "    model.fit(features_train, target_train)\n",
    "    predictions = model.predict(features_train)\n",
    "    score = f1_score(target_train, predictions)\n",
    "    \n",
    "    if score > best_score:\n",
    "        best_score = score\n",
    "        best_est = est\n",
    "        \n",
    "print('F1 DEL MODELO CON CONJUNTO DE ENTRENAMIENTO (n_estimators = {}): {}'.format(best_est, best_score))     "
   ]
  },
  {
   "cell_type": "code",
   "execution_count": 108,
   "metadata": {},
   "outputs": [
    {
     "name": "stdout",
     "output_type": "stream",
     "text": [
      "F1 DEL MODELO CON CONJUNTO DE VALIDACION (n_estimators = 9): 0.5365853658536586\n"
     ]
    }
   ],
   "source": [
    "best_score = 0\n",
    "best_est = 0\n",
    "\n",
    "for est in range(1, 11):\n",
    "    model = RandomForestClassifier(random_state = 12345, n_estimators = est, class_weight = 'balanced')\n",
    "    model.fit(features_train, target_train)\n",
    "    predictions = model.predict(features_valid)\n",
    "    score = f1_score(target_valid, predictions)\n",
    "    \n",
    "    if score > best_score:\n",
    "        best_score = score\n",
    "        best_est = est\n",
    "        \n",
    "print('F1 DEL MODELO CON CONJUNTO DE VALIDACION (n_estimators = {}): {}'.format(best_est, best_score))     "
   ]
  },
  {
   "cell_type": "code",
   "execution_count": 109,
   "metadata": {},
   "outputs": [
    {
     "name": "stdout",
     "output_type": "stream",
     "text": [
      "AUC-ROC: 0.8111588702425045\n"
     ]
    }
   ],
   "source": [
    "# calculamos AUC-ROC\n",
    "\n",
    "probabilities_test = model.predict_proba(features_test)\n",
    "probabilities_one_test = probabilities_test[:, 1]\n",
    "\n",
    "auc_roc = roc_auc_score(target_test, probabilities_one_test)\n",
    "\n",
    "print('AUC-ROC:', auc_roc)"
   ]
  },
  {
   "cell_type": "code",
   "execution_count": 110,
   "metadata": {},
   "outputs": [
    {
     "data": {
      "image/png": "[encoded data removed]",
      "text/plain": [
       "<Figure size 432x288 with 1 Axes>"
      ]
     },
     "metadata": {
      "needs_background": "light"
     },
     "output_type": "display_data"
    }
   ],
   "source": [
    "# mostramos la curva ROC\n",
    "\n",
    "fpr, tpr, thresholds = roc_curve(target_test, probabilities_one_test)\n",
    "\n",
    "plt.figure()\n",
    "plt.plot(fpr, tpr)\n",
    "plt.plot([0, 1], [0, 1], linestyle = '--')\n",
    "plt.xlim([0.0, 1.0])\n",
    "plt.ylim([0.0, 1.0])\n",
    "plt.xlabel('TASA DE FALSOS POSITIVOS')\n",
    "plt.ylabel('TASA DE VERDADEROS POSITIVOS')\n",
    "plt.title('CURVA ROC DEL MODELO DE BOSQUE ALEATORIO CON AJUSTE DE CLASES')\n",
    "plt.show()"
   ]
  },
  {
   "cell_type": "markdown",
   "metadata": {},
   "source": [
    "##### Sobremuestreo"
   ]
  },
  {
   "cell_type": "code",
   "execution_count": 111,
   "metadata": {},
   "outputs": [],
   "source": [
    "# ajustamos de clase usando submuestreo\n",
    "\n",
    "features_upsampled, target_upsampled = upsample(\n",
    "    features_train, target_train, 20\n",
    ")"
   ]
  },
  {
   "cell_type": "code",
   "execution_count": 112,
   "metadata": {},
   "outputs": [
    {
     "name": "stdout",
     "output_type": "stream",
     "text": [
      "EXACTITUD CON DATOS DE PRUEBA: 0.8516713091922006\n"
     ]
    }
   ],
   "source": [
    "# calculamos la exactitud del modelo de bosque aleatorio con submuestreo\n",
    "\n",
    "model.fit(features_upsampled, target_upsampled)\n",
    "predictions_test = model.predict(features_test)\n",
    "accuracy_test = accuracy_score(target_test, predictions_test)\n",
    "\n",
    "print('EXACTITUD CON DATOS DE PRUEBA:', accuracy_test)"
   ]
  },
  {
   "cell_type": "code",
   "execution_count": 113,
   "metadata": {},
   "outputs": [
    {
     "name": "stdout",
     "output_type": "stream",
     "text": [
      "EXACTITUD CON DATOS DE ENTRENAMIENTO: 0.9983584539620952\n"
     ]
    }
   ],
   "source": [
    "# calculamos la exactitud del modelo de bosque aleatorio con submuestreo\n",
    "\n",
    "model.fit(features_upsampled, target_upsampled)\n",
    "predictions_train = model.predict(features_train)\n",
    "accuracy_train = accuracy_score(target_train, predictions_train)\n",
    "\n",
    "print('EXACTITUD CON DATOS DE ENTRENAMIENTO:', accuracy_train)"
   ]
  },
  {
   "cell_type": "code",
   "execution_count": 114,
   "metadata": {},
   "outputs": [
    {
     "name": "stdout",
     "output_type": "stream",
     "text": [
      "EXACTITUD CON DATOS DE VALIDACION: 0.8384401114206128\n"
     ]
    }
   ],
   "source": [
    "# calculamos la exactitud del modelo de bosque aleatorio con submuestreo\n",
    "\n",
    "model.fit(features_upsampled, target_upsampled)\n",
    "predictions_valid = model.predict(features_valid)\n",
    "accuracy_valid = accuracy_score(target_valid, predictions_valid)\n",
    "\n",
    "print('EXACTITUD CON DATOS DE VALIDACION:', accuracy_valid)"
   ]
  },
  {
   "cell_type": "code",
   "execution_count": 115,
   "metadata": {},
   "outputs": [
    {
     "name": "stdout",
     "output_type": "stream",
     "text": [
      "F1: 0.5049504950495048\n"
     ]
    }
   ],
   "source": [
    "# calculamos F1 del modelo de bosque aleatorio con sobremuestreo\n",
    "\n",
    "print('F1:', f1_score(target_test, predicted_test))"
   ]
  },
  {
   "cell_type": "code",
   "execution_count": 116,
   "metadata": {},
   "outputs": [
    {
     "name": "stdout",
     "output_type": "stream",
     "text": [
      "AUC-ROC: 0.8193333028487814\n"
     ]
    }
   ],
   "source": [
    "# calculamos AUC-ROC\n",
    "\n",
    "probabilities_test = model.predict_proba(features_test)\n",
    "probabilities_one_test = probabilities_test[:, 1]\n",
    "\n",
    "auc_roc = roc_auc_score(target_test, probabilities_one_test)\n",
    "\n",
    "print('AUC-ROC:', auc_roc)"
   ]
  },
  {
   "cell_type": "code",
   "execution_count": 117,
   "metadata": {},
   "outputs": [
    {
     "data": {
      "image/png": "[encoded data removed]",
      "text/plain": [
       "<Figure size 432x288 with 1 Axes>"
      ]
     },
     "metadata": {
      "needs_background": "light"
     },
     "output_type": "display_data"
    }
   ],
   "source": [
    "# mostramos la curva ROC\n",
    "\n",
    "fpr, tpr, thresholds = roc_curve(target_test, probabilities_one_test)\n",
    "\n",
    "plt.figure()\n",
    "plt.plot(fpr, tpr)\n",
    "plt.plot([0, 1], [0, 1], linestyle = '--')\n",
    "plt.xlim([0.0, 1.0])\n",
    "plt.ylim([0.0, 1.0])\n",
    "plt.xlabel('TASA DE FALSOS POSITIVOS')\n",
    "plt.ylabel('TASA DE VERDADEROS POSITIVOS')\n",
    "plt.title('CURVA ROC DEL MODELO DE BOSQUE ALEATORIO CON SOBREMUESTREO')\n",
    "plt.show()"
   ]
  },
  {
   "cell_type": "markdown",
   "metadata": {},
   "source": [
    "##### Submuestreo\n",
    "\n"
   ]
  },
  {
   "cell_type": "code",
   "execution_count": 118,
   "metadata": {},
   "outputs": [],
   "source": [
    "# ajustamos de clase usando submuestreo\n",
    "\n",
    "features_downsampled, target_downsampled = downsample(\n",
    "    features_train, target_train, 0.1\n",
    ")"
   ]
  },
  {
   "cell_type": "code",
   "execution_count": 119,
   "metadata": {},
   "outputs": [
    {
     "name": "stdout",
     "output_type": "stream",
     "text": [
      "EXACTITUD CON DATOS DE PRUEBA: 0.6086350974930362\n"
     ]
    }
   ],
   "source": [
    "# calculamos la exactitud del modelo de bosque aleatorio con submuestreo\n",
    "\n",
    "model.fit(features_downsampled, target_downsampled)\n",
    "predictions_test = model.predict(features_test)\n",
    "accuracy_test = accuracy_score(target_test, predictions_test)\n",
    "\n",
    "print('EXACTITUD CON DATOS DE PRUEBA:', accuracy_test)"
   ]
  },
  {
   "cell_type": "code",
   "execution_count": 120,
   "metadata": {},
   "outputs": [
    {
     "name": "stdout",
     "output_type": "stream",
     "text": [
      "EXACTITUD CON DATOS DE ENTRENAMIENTO: 0.677361587822713\n"
     ]
    }
   ],
   "source": [
    "# calculamos la exactitud del modelo de bosque aleatorio con submuestreo\n",
    "\n",
    "model.fit(features_downsampled, target_downsampled)\n",
    "predictions_train = model.predict(features_train)\n",
    "accuracy_train = accuracy_score(target_train, predictions_train)\n",
    "\n",
    "print('EXACTITUD CON DATOS DE ENTRENAMIENTO:', accuracy_train)"
   ]
  },
  {
   "cell_type": "code",
   "execution_count": 121,
   "metadata": {},
   "outputs": [
    {
     "name": "stdout",
     "output_type": "stream",
     "text": [
      "EXACTITUD CON DATOS DE VALIDACION: 0.6051532033426184\n"
     ]
    }
   ],
   "source": [
    "# calculamos la exactitud del modelo de bosque aleatorio con submuestreo\n",
    "\n",
    "model.fit(features_downsampled, target_downsampled)\n",
    "predictions_valid = model.predict(features_valid)\n",
    "accuracy_valid = accuracy_score(target_valid, predictions_valid)\n",
    "\n",
    "print('EXACTITUD CON DATOS DE VALIDACION:', accuracy_valid)"
   ]
  },
  {
   "cell_type": "code",
   "execution_count": 122,
   "metadata": {},
   "outputs": [
    {
     "name": "stdout",
     "output_type": "stream",
     "text": [
      "F1: 0.5049504950495048\n"
     ]
    }
   ],
   "source": [
    "# calculamos F1 del modelo de bosque aleatorio con submuestreo\n",
    "\n",
    "print('F1:', f1_score(target_test, predicted_test))"
   ]
  },
  {
   "cell_type": "code",
   "execution_count": 123,
   "metadata": {},
   "outputs": [
    {
     "name": "stdout",
     "output_type": "stream",
     "text": [
      "AUC-ROC: 0.8012513908576828\n"
     ]
    }
   ],
   "source": [
    "# calculamos AUC-ROC\n",
    "\n",
    "probabilities_test = model.predict_proba(features_test)\n",
    "probabilities_one_test = probabilities_test[:, 1]\n",
    "\n",
    "auc_roc = roc_auc_score(target_test, probabilities_one_test)\n",
    "\n",
    "print('AUC-ROC:', auc_roc)"
   ]
  },
  {
   "cell_type": "code",
   "execution_count": 124,
   "metadata": {
    "scrolled": true
   },
   "outputs": [
    {
     "data": {
      "image/png": "[encoded data removed]",
      "text/plain": [
       "<Figure size 432x288 with 1 Axes>"
      ]
     },
     "metadata": {
      "needs_background": "light"
     },
     "output_type": "display_data"
    }
   ],
   "source": [
    "# mostramos la curva ROC\n",
    "\n",
    "fpr, tpr, thresholds = roc_curve(target_test, probabilities_one_test)\n",
    "\n",
    "plt.figure()\n",
    "plt.plot(fpr, tpr)\n",
    "plt.plot([0, 1], [0, 1], linestyle = '--')\n",
    "plt.xlim([0.0, 1.0])\n",
    "plt.ylim([0.0, 1.0])\n",
    "plt.xlabel('TASA DE FALSOS POSITIVOS')\n",
    "plt.ylabel('TASA DE VERDADEROS POSITIVOS')\n",
    "plt.title('CURVA ROC DEL MODELO DE BOSQUE ALEATORIO CON SUBMUESTREO')\n",
    "plt.show()"
   ]
  },
  {
   "cell_type": "markdown",
   "metadata": {},
   "source": [
    "## Validación del Modelo Seleccionado"
   ]
  },
  {
   "cell_type": "code",
   "execution_count": 125,
   "metadata": {},
   "outputs": [
    {
     "name": "stdout",
     "output_type": "stream",
     "text": [
      "EXACTITUD DEL MEJOR MODELO EN EL CONJUNTO DE PRUEBA: 0.7778551532033426\n"
     ]
    }
   ],
   "source": [
    "# Evaluamos la exactitud del modelo del árbol de decisión con los datos de prueba, usando el ajuste de clases\n",
    "\n",
    "best_model = None\n",
    "best_result = 0\n",
    "\n",
    "for depth in range(1, 7):\n",
    "    model = DecisionTreeClassifier(random_state = 12345, max_depth = depth, class_weight = 'balanced')\n",
    "    model.fit(features_train, target_train)\n",
    "    predictions = model.predict(features_valid)\n",
    "    result = accuracy_score(target_valid, predictions)\n",
    "    \n",
    "    if result > best_result:\n",
    "        best_model = model\n",
    "        best_result = result\n",
    "        \n",
    "print('EXACTITUD DEL MEJOR MODELO EN EL CONJUNTO DE PRUEBA:', best_result)  "
   ]
  },
  {
   "cell_type": "code",
   "execution_count": 126,
   "metadata": {},
   "outputs": [
    {
     "name": "stdout",
     "output_type": "stream",
     "text": [
      "F1: 0.5804020100502512\n"
     ]
    }
   ],
   "source": [
    "# calculamos F1 del árbol de decisión con los datos de validación\n",
    "\n",
    "best_model = None\n",
    "best_result = 0\n",
    "\n",
    "for depth in range(1, 7):\n",
    "    model = DecisionTreeClassifier(random_state = 12345, max_depth = depth, class_weight = 'balanced')\n",
    "    model.fit(features_train, target_train)\n",
    "    predictions = model.predict(features_valid)\n",
    "    result = f1_score(target_valid, predictions)\n",
    "    \n",
    "    if result > best_result:\n",
    "        best_model = model\n",
    "        best_result = result\n",
    "        \n",
    "print('F1:', best_result)  "
   ]
  },
  {
   "cell_type": "code",
   "execution_count": 127,
   "metadata": {},
   "outputs": [
    {
     "name": "stdout",
     "output_type": "stream",
     "text": [
      "0.8275670680676959\n"
     ]
    }
   ],
   "source": [
    "# calculamos AUC-ROC\n",
    "\n",
    "probabilities_valid = model.predict_proba(features_valid)\n",
    "probabilities_one_valid = probabilities_valid[:, 1]\n",
    "\n",
    "auc_roc = roc_auc_score(target_valid, probabilities_one_valid)\n",
    "\n",
    "print(auc_roc)"
   ]
  },
  {
   "cell_type": "code",
   "execution_count": 128,
   "metadata": {},
   "outputs": [
    {
     "data": {
      "image/png": "[encoded data removed]",
      "text/plain": [
       "<Figure size 432x288 with 1 Axes>"
      ]
     },
     "metadata": {
      "needs_background": "light"
     },
     "output_type": "display_data"
    }
   ],
   "source": [
    "# mostramos la curva ROC\n",
    "\n",
    "fpr, tpr, thresholds = roc_curve(target_valid, probabilities_one_valid)\n",
    "\n",
    "plt.figure()\n",
    "plt.plot(fpr, tpr)\n",
    "plt.plot([0, 1], [0, 1], linestyle = '--')\n",
    "plt.xlim([0.0, 1.0])\n",
    "plt.ylim([0.0, 1.0])\n",
    "plt.xlabel('TASA DE FALSOS POSITIVOS')\n",
    "plt.ylabel('TASA DE VERDADEROS POSITIVOS')\n",
    "plt.title('CURVA ROC')\n",
    "plt.show()"
   ]
  },
  {
   "cell_type": "markdown",
   "metadata": {},
   "source": [
    "## Conclusiones"
   ]
  },
  {
   "cell_type": "markdown",
   "metadata": {},
   "source": [
    "**Las variables de \"age\" y \"credit_score\" mostraron valores atípicos. Para \"age\", un 3.6% de los valores estaban por encima del valor límite superior mientras que para \"credit_score\", un 0.15% de los valores estaban por debajo del límite inferior. Se procedió a eliminar estos valores.**\n",
    "\n",
    "**Sin el ajuste de clases, hay dos modelos que cumplen con el objetivo de F1 de 0.54, los cuales son: árbol de decisión y bosque aleatorio. Cabe destacar que estos dos modelos nos brindan buenos resultados, incluso sin balancear las clases.**\n",
    "\n",
    "**En la etapa de prueba, el mejor modelo de predicción de la retención de clientes fue el del árbol de decisión, con un F1 igual a 0.57. Acá, se utilizaron datos de prueba balanceados por el método \"class_weight = 'balanced'\". Asimismo, se obtuvo un sobreajuste mínimo (+1%), los resultados de exactitud y el coeficiente AUC-ROC fueron aceptables (0.77 y 0.84, respectivamente). No obstante, el modelo no cumplió con el objetivo requerido (F1 = 0.59).**\n",
    "\n",
    "**Al momento de predecir la retención de los clientes, el modelo del árbol de decisión fue balanceado con el parámetro \"class_weight = 'balanced'\", siendo validado con un resultado de F1 igual a 0.59, lo cual cumple con el objetivo requerido.**"
   ]
  },
  {
   "cell_type": "code",
   "execution_count": null,
   "metadata": {},
   "outputs": [],
   "source": []
  }
 ],
 "metadata": {
  "kernelspec": {
   "display_name": "Python 3 (ipykernel)",
   "language": "python",
   "name": "python3"
  },
  "language_info": {
   "codemirror_mode": {
    "name": "ipython",
    "version": 3
   },
   "file_extension": ".py",
   "mimetype": "text/x-python",
   "name": "python",
   "nbconvert_exporter": "python",
   "pygments_lexer": "ipython3",
   "version": "3.11.4"
  },
  "toc": {
   "base_numbering": 1,
   "nav_menu": {},
   "number_sections": true,
   "sideBar": true,
   "skip_h1_title": true,
   "title_cell": "Table of Contents",
   "title_sidebar": "Contents",
   "toc_cell": false,
   "toc_position": {
    "height": "calc(100% - 180px)",
    "left": "10px",
    "top": "150px",
    "width": "182px"
   },
   "toc_section_display": true,
   "toc_window_display": true
  }
 },
 "nbformat": 4,
 "nbformat_minor": 4
}
