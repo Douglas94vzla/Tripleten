{
 "cells": [
  {
   "cell_type": "markdown",
   "id": "9a67b746",
   "metadata": {},
   "source": [
    "# Descripción del proyecto\n"
   ]
  },
  {
   "cell_type": "markdown",
   "id": "83e37b3e",
   "metadata": {},
   "source": [
    "La compañía móvil Megaline no está satisfecha al ver que muchos de sus clientes utilizan planes heredados. Quieren desarrollar un modelo que pueda analizar el comportamiento de los clientes y recomendar uno de los nuevos planes de Megaline: Smart o Ultra.\n",
    "\n",
    "Tienes acceso a los datos de comportamiento de los suscriptores que ya se han cambiado a los planes nuevos (del proyecto del curso de Análisis estadístico de datos). Para esta tarea de clasificación debes crear un modelo que escoja el plan correcto. Como ya hiciste el paso de procesar los datos, puedes lanzarte directo a crear el modelo.\n",
    "\n",
    "Desarrolla un modelo con la mayor exactitud posible. En este proyecto, el umbral de exactitud es 0.75. Usa el dataset para comprobar la exactitud."
   ]
  },
  {
   "cell_type": "markdown",
   "id": "f1862ef8",
   "metadata": {},
   "source": [
    "# Tabla de contenidos"
   ]
  },
  {
   "cell_type": "markdown",
   "id": "f1a98440",
   "metadata": {},
   "source": [
    "* [1. Inicialización](#1) \n",
    "    * [1.1 Información General de 'df'](#1.1)\n",
    "* [2. EDA](#2)\n",
    "* [3. Preparación del Modelo](#3)\n",
    "* [4. Evaluación del Modelo](#4)\n",
    "    * [4.1 Árbol de Decisión](#4.1)\n",
    "    * [4.2 Bosque Aleatorio](#4.2)\n",
    "    * [4.3 Regresión Logística](#4.3)\n",
    "    * [4.4 Modelo de Cordura](#4.4)\n",
    "* [5. Validación del Mejor Modelo](#5)\n",
    "* [6. Conclusiones](#6)\n"
   ]
  },
  {
   "cell_type": "markdown",
   "id": "e5210260",
   "metadata": {},
   "source": [
    "## Inicialización"
   ]
  },
  {
   "cell_type": "code",
   "execution_count": 30,
   "id": "5c0adf34",
   "metadata": {},
   "outputs": [],
   "source": [
    "# CARGAMOS LAS LIBRERIAS\n",
    "\n",
    "import pandas as pd\n",
    "import matplotlib.pyplot as plt\n",
    "from sklearn.metrics import mean_squared_error\n",
    "from sklearn.metrics import accuracy_score\n",
    "from sklearn.model_selection import train_test_split\n",
    "from sklearn.tree import DecisionTreeClassifier\n",
    "from sklearn.ensemble import RandomForestClassifier\n",
    "from sklearn.linear_model import LogisticRegression\n",
    "from sklearn.dummy import DummyClassifier"
   ]
  },
  {
   "cell_type": "code",
   "execution_count": 2,
   "id": "2b6398a8",
   "metadata": {},
   "outputs": [],
   "source": [
    "# CARGAMOS LA DATA\n",
    "\n",
    "df = pd.read_csv('/datasets/users_behavior.csv')"
   ]
  },
  {
   "cell_type": "markdown",
   "id": "c004d1f7",
   "metadata": {},
   "source": [
    "### Información General de 'df'"
   ]
  },
  {
   "cell_type": "code",
   "execution_count": 3,
   "id": "1bff54b4",
   "metadata": {},
   "outputs": [
    {
     "data": {
      "text/html": [
       "<div>\n",
       "<style scoped>\n",
       "    .dataframe tbody tr th:only-of-type {\n",
       "        vertical-align: middle;\n",
       "    }\n",
       "\n",
       "    .dataframe tbody tr th {\n",
       "        vertical-align: top;\n",
       "    }\n",
       "\n",
       "    .dataframe thead th {\n",
       "        text-align: right;\n",
       "    }\n",
       "</style>\n",
       "<table border=\"1\" class=\"dataframe\">\n",
       "  <thead>\n",
       "    <tr style=\"text-align: right;\">\n",
       "      <th></th>\n",
       "      <th>calls</th>\n",
       "      <th>minutes</th>\n",
       "      <th>messages</th>\n",
       "      <th>mb_used</th>\n",
       "      <th>is_ultra</th>\n",
       "    </tr>\n",
       "  </thead>\n",
       "  <tbody>\n",
       "    <tr>\n",
       "      <th>0</th>\n",
       "      <td>40.0</td>\n",
       "      <td>311.90</td>\n",
       "      <td>83.0</td>\n",
       "      <td>19915.42</td>\n",
       "      <td>0</td>\n",
       "    </tr>\n",
       "    <tr>\n",
       "      <th>1</th>\n",
       "      <td>85.0</td>\n",
       "      <td>516.75</td>\n",
       "      <td>56.0</td>\n",
       "      <td>22696.96</td>\n",
       "      <td>0</td>\n",
       "    </tr>\n",
       "    <tr>\n",
       "      <th>2</th>\n",
       "      <td>77.0</td>\n",
       "      <td>467.66</td>\n",
       "      <td>86.0</td>\n",
       "      <td>21060.45</td>\n",
       "      <td>0</td>\n",
       "    </tr>\n",
       "    <tr>\n",
       "      <th>3</th>\n",
       "      <td>106.0</td>\n",
       "      <td>745.53</td>\n",
       "      <td>81.0</td>\n",
       "      <td>8437.39</td>\n",
       "      <td>1</td>\n",
       "    </tr>\n",
       "    <tr>\n",
       "      <th>4</th>\n",
       "      <td>66.0</td>\n",
       "      <td>418.74</td>\n",
       "      <td>1.0</td>\n",
       "      <td>14502.75</td>\n",
       "      <td>0</td>\n",
       "    </tr>\n",
       "  </tbody>\n",
       "</table>\n",
       "</div>"
      ],
      "text/plain": [
       "   calls  minutes  messages   mb_used  is_ultra\n",
       "0   40.0   311.90      83.0  19915.42         0\n",
       "1   85.0   516.75      56.0  22696.96         0\n",
       "2   77.0   467.66      86.0  21060.45         0\n",
       "3  106.0   745.53      81.0   8437.39         1\n",
       "4   66.0   418.74       1.0  14502.75         0"
      ]
     },
     "execution_count": 3,
     "metadata": {},
     "output_type": "execute_result"
    }
   ],
   "source": [
    "# MOSTRAMOS UNA VISTA PREVIA\n",
    "\n",
    "df.head()"
   ]
  },
  {
   "cell_type": "code",
   "execution_count": 4,
   "id": "a445597a",
   "metadata": {},
   "outputs": [
    {
     "name": "stdout",
     "output_type": "stream",
     "text": [
      "<class 'pandas.core.frame.DataFrame'>\n",
      "RangeIndex: 3214 entries, 0 to 3213\n",
      "Data columns (total 5 columns):\n",
      " #   Column    Non-Null Count  Dtype  \n",
      "---  ------    --------------  -----  \n",
      " 0   calls     3214 non-null   float64\n",
      " 1   minutes   3214 non-null   float64\n",
      " 2   messages  3214 non-null   float64\n",
      " 3   mb_used   3214 non-null   float64\n",
      " 4   is_ultra  3214 non-null   int64  \n",
      "dtypes: float64(4), int64(1)\n",
      "memory usage: 125.7 KB\n"
     ]
    }
   ],
   "source": [
    "# MOSTRAMOS LA INFORMACIÓN GENERAL\n",
    "\n",
    "df.info()"
   ]
  },
  {
   "cell_type": "markdown",
   "id": "748cb293",
   "metadata": {},
   "source": [
    "Tenemos la siguiente información:\n",
    "\n",
    "* **сalls**: número de llamadas,\n",
    "* **minutes**: duración total de la llamada en minutos,\n",
    "* **messages**: número de mensajes de texto,\n",
    "* **mb_used**: tráfico de Internet utilizado en MB,\n",
    "* **is_ultra**: plan para el mes actual (Ultra - 1, Smart - 0)."
   ]
  },
  {
   "cell_type": "code",
   "execution_count": 5,
   "id": "2f577a31",
   "metadata": {},
   "outputs": [
    {
     "data": {
      "text/html": [
       "<div>\n",
       "<style scoped>\n",
       "    .dataframe tbody tr th:only-of-type {\n",
       "        vertical-align: middle;\n",
       "    }\n",
       "\n",
       "    .dataframe tbody tr th {\n",
       "        vertical-align: top;\n",
       "    }\n",
       "\n",
       "    .dataframe thead th {\n",
       "        text-align: right;\n",
       "    }\n",
       "</style>\n",
       "<table border=\"1\" class=\"dataframe\">\n",
       "  <thead>\n",
       "    <tr style=\"text-align: right;\">\n",
       "      <th></th>\n",
       "      <th>calls</th>\n",
       "      <th>minutes</th>\n",
       "      <th>messages</th>\n",
       "      <th>mb_used</th>\n",
       "      <th>is_ultra</th>\n",
       "    </tr>\n",
       "  </thead>\n",
       "  <tbody>\n",
       "    <tr>\n",
       "      <th>count</th>\n",
       "      <td>3214.000000</td>\n",
       "      <td>3214.000000</td>\n",
       "      <td>3214.000000</td>\n",
       "      <td>3214.000000</td>\n",
       "      <td>3214.000000</td>\n",
       "    </tr>\n",
       "    <tr>\n",
       "      <th>mean</th>\n",
       "      <td>63.038892</td>\n",
       "      <td>438.208787</td>\n",
       "      <td>38.281269</td>\n",
       "      <td>17207.673836</td>\n",
       "      <td>0.306472</td>\n",
       "    </tr>\n",
       "    <tr>\n",
       "      <th>std</th>\n",
       "      <td>33.236368</td>\n",
       "      <td>234.569872</td>\n",
       "      <td>36.148326</td>\n",
       "      <td>7570.968246</td>\n",
       "      <td>0.461100</td>\n",
       "    </tr>\n",
       "    <tr>\n",
       "      <th>min</th>\n",
       "      <td>0.000000</td>\n",
       "      <td>0.000000</td>\n",
       "      <td>0.000000</td>\n",
       "      <td>0.000000</td>\n",
       "      <td>0.000000</td>\n",
       "    </tr>\n",
       "    <tr>\n",
       "      <th>25%</th>\n",
       "      <td>40.000000</td>\n",
       "      <td>274.575000</td>\n",
       "      <td>9.000000</td>\n",
       "      <td>12491.902500</td>\n",
       "      <td>0.000000</td>\n",
       "    </tr>\n",
       "    <tr>\n",
       "      <th>50%</th>\n",
       "      <td>62.000000</td>\n",
       "      <td>430.600000</td>\n",
       "      <td>30.000000</td>\n",
       "      <td>16943.235000</td>\n",
       "      <td>0.000000</td>\n",
       "    </tr>\n",
       "    <tr>\n",
       "      <th>75%</th>\n",
       "      <td>82.000000</td>\n",
       "      <td>571.927500</td>\n",
       "      <td>57.000000</td>\n",
       "      <td>21424.700000</td>\n",
       "      <td>1.000000</td>\n",
       "    </tr>\n",
       "    <tr>\n",
       "      <th>max</th>\n",
       "      <td>244.000000</td>\n",
       "      <td>1632.060000</td>\n",
       "      <td>224.000000</td>\n",
       "      <td>49745.730000</td>\n",
       "      <td>1.000000</td>\n",
       "    </tr>\n",
       "  </tbody>\n",
       "</table>\n",
       "</div>"
      ],
      "text/plain": [
       "             calls      minutes     messages       mb_used     is_ultra\n",
       "count  3214.000000  3214.000000  3214.000000   3214.000000  3214.000000\n",
       "mean     63.038892   438.208787    38.281269  17207.673836     0.306472\n",
       "std      33.236368   234.569872    36.148326   7570.968246     0.461100\n",
       "min       0.000000     0.000000     0.000000      0.000000     0.000000\n",
       "25%      40.000000   274.575000     9.000000  12491.902500     0.000000\n",
       "50%      62.000000   430.600000    30.000000  16943.235000     0.000000\n",
       "75%      82.000000   571.927500    57.000000  21424.700000     1.000000\n",
       "max     244.000000  1632.060000   224.000000  49745.730000     1.000000"
      ]
     },
     "execution_count": 5,
     "metadata": {},
     "output_type": "execute_result"
    }
   ],
   "source": [
    "# MOSTRAMOS INFORMACIÓN ESTADÍSTICA\n",
    "\n",
    "df.describe()"
   ]
  },
  {
   "cell_type": "markdown",
   "id": "37253f9e",
   "metadata": {},
   "source": [
    "**Conclusiones Intermedias**: \n",
    "\n",
    "**a**: Tenemos un conjunto de datos de 3214 entradas, con 5 columnas, donde todas tienen tipos float menos 'is_ultra' que es de tipo entero o 'int'.\n",
    "\n",
    "**b**: El conjunto de datos no presenta valores ausentes ni duplicados.\n",
    "\n",
    "**c**: Con respecto a las columnas, podemos ver que información como que el promedio de los megas consumidos por los usuarios es de 17207 en un mes, como también el promedio de llamadas es de 60 al mes. \n",
    "\n"
   ]
  },
  {
   "cell_type": "markdown",
   "id": "d482c8a2",
   "metadata": {},
   "source": [
    "## EDA"
   ]
  },
  {
   "cell_type": "code",
   "execution_count": 23,
   "id": "65ee1803",
   "metadata": {
    "scrolled": false
   },
   "outputs": [
    {
     "data": {
      "image/png": "[encoded data removed]",
      "text/plain": [
       "<Figure size 648x396 with 1 Axes>"
      ]
     },
     "metadata": {
      "needs_background": "light"
     },
     "output_type": "display_data"
    },
    {
     "data": {
      "image/png": "[encoded data removed]",
      "text/plain": [
       "<Figure size 648x396 with 1 Axes>"
      ]
     },
     "metadata": {
      "needs_background": "light"
     },
     "output_type": "display_data"
    },
    {
     "data": {
      "image/png": "[encoded data removed]",
      "text/plain": [
       "<Figure size 648x396 with 1 Axes>"
      ]
     },
     "metadata": {
      "needs_background": "light"
     },
     "output_type": "display_data"
    },
    {
     "data": {
      "image/png": "[encoded data removed]",
      "text/plain": [
       "<Figure size 648x396 with 1 Axes>"
      ]
     },
     "metadata": {
      "needs_background": "light"
     },
     "output_type": "display_data"
    }
   ],
   "source": [
    "# REALIZAMOS UN ALGORITMO PARA MOSTRAR LA DISTRIBUCIÓN\n",
    "\n",
    "for label in df.columns[:-1]:\n",
    "    plt.figure(figsize=(9, 5.5))\n",
    "    plt.hist(df[df['is_ultra']==1][label], color='blue', label='Ultimate', alpha=0.7, density=True)\n",
    "    plt.hist(df[df['is_ultra']==0][label], color='red', label='Surf', alpha=0.7, density=True)\n",
    "    plt.title(label)\n",
    "    plt.ylabel('Frecuencia')\n",
    "    plt.xlabel(label)\n",
    "    plt.legend()\n",
    "    plt.show()\n"
   ]
  },
  {
   "cell_type": "markdown",
   "id": "ad83224a",
   "metadata": {},
   "source": [
    "**Conclusiones Intermedias**:\n",
    "\n",
    "**a**. En el gráfico de las llamadas, visualizamos que los usuarios de ambos planes realizan mayormente entre 25 y 80 llamadas en un mes.\n",
    "\n",
    "**b**. Observando a los minutos, tenemos que el consumo va desde los 200 hasta los 600 en un mes en promedio, para ambos planes.\n",
    "\n",
    "**c**. Con respecto a los mensajes de texto, podemos observar que la mayoría de ambos usuarios no usan el servicio, siendo 30 mensajes de texto como máximo para el promedio de ambos usuarios.\n",
    "\n",
    "**d**. Visualizando los megas consumidos, ambos usuarios utilizan en su mayoría entre los 10.000 y 20.000 megas al mes.\n",
    "\n",
    "**e**. En materia general, hay varios picos en el estudio de las frecuencias y estos pertenecen a los usuarios del Plan Surf, mientras que al estudiar las variables de consumo, el Plan Ultimate ofrece mas recorrido."
   ]
  },
  {
   "cell_type": "markdown",
   "id": "c4b08d6b",
   "metadata": {},
   "source": [
    "## Preparación del Modelo"
   ]
  },
  {
   "cell_type": "code",
   "execution_count": 24,
   "id": "ac0e37da",
   "metadata": {},
   "outputs": [],
   "source": [
    "# PROCEDEMOS CON LA DIVISION DEL DATAFRAME EN CONJUNTOS DE ENTRENAMIENTO Y PRUEBA\n",
    "\n",
    "df_train, df_test = train_test_split(df, test_size = 0.20, random_state = 12345)\n",
    "\n",
    "features_train = df_train.drop(['is_ultra'], axis = 1)\n",
    "target_train = df_train['is_ultra']\n",
    "\n",
    "features_test = df_test.drop(['is_ultra'], axis = 1)\n",
    "target_test = df_test['is_ultra']"
   ]
  },
  {
   "cell_type": "code",
   "execution_count": 40,
   "id": "a06ebea0",
   "metadata": {},
   "outputs": [
    {
     "name": "stdout",
     "output_type": "stream",
     "text": [
      "(2410, 4)\n",
      "(2410,)\n",
      "(643, 4)\n",
      "(643,)\n"
     ]
    }
   ],
   "source": [
    "# MOSTRAMOS LAS DIMENSIONES DE LOS OBJETIVOS Y CARACTERÍSTICAS DE LOS CONJUNTOS DE ENTRENAMIENTO Y PRUEBA\n",
    "\n",
    "print(features_train.shape)\n",
    "print(target_train.shape)\n",
    "print(features_test.shape)\n",
    "print(target_test.shape)"
   ]
  },
  {
   "cell_type": "code",
   "execution_count": 26,
   "id": "8eb8c1f1",
   "metadata": {},
   "outputs": [
    {
     "data": {
      "text/html": [
       "<div>\n",
       "<style scoped>\n",
       "    .dataframe tbody tr th:only-of-type {\n",
       "        vertical-align: middle;\n",
       "    }\n",
       "\n",
       "    .dataframe tbody tr th {\n",
       "        vertical-align: top;\n",
       "    }\n",
       "\n",
       "    .dataframe thead th {\n",
       "        text-align: right;\n",
       "    }\n",
       "</style>\n",
       "<table border=\"1\" class=\"dataframe\">\n",
       "  <thead>\n",
       "    <tr style=\"text-align: right;\">\n",
       "      <th></th>\n",
       "      <th>calls</th>\n",
       "      <th>minutes</th>\n",
       "      <th>messages</th>\n",
       "      <th>mb_used</th>\n",
       "      <th>is_ultra</th>\n",
       "    </tr>\n",
       "  </thead>\n",
       "  <tbody>\n",
       "    <tr>\n",
       "      <th>348</th>\n",
       "      <td>77.0</td>\n",
       "      <td>522.65</td>\n",
       "      <td>14.0</td>\n",
       "      <td>19462.45</td>\n",
       "      <td>0</td>\n",
       "    </tr>\n",
       "    <tr>\n",
       "      <th>1172</th>\n",
       "      <td>144.0</td>\n",
       "      <td>1031.79</td>\n",
       "      <td>99.0</td>\n",
       "      <td>40174.34</td>\n",
       "      <td>1</td>\n",
       "    </tr>\n",
       "    <tr>\n",
       "      <th>2315</th>\n",
       "      <td>48.0</td>\n",
       "      <td>341.65</td>\n",
       "      <td>0.0</td>\n",
       "      <td>19000.02</td>\n",
       "      <td>0</td>\n",
       "    </tr>\n",
       "    <tr>\n",
       "      <th>954</th>\n",
       "      <td>52.0</td>\n",
       "      <td>383.90</td>\n",
       "      <td>40.0</td>\n",
       "      <td>24574.82</td>\n",
       "      <td>0</td>\n",
       "    </tr>\n",
       "    <tr>\n",
       "      <th>2918</th>\n",
       "      <td>77.0</td>\n",
       "      <td>445.00</td>\n",
       "      <td>100.0</td>\n",
       "      <td>10518.28</td>\n",
       "      <td>1</td>\n",
       "    </tr>\n",
       "  </tbody>\n",
       "</table>\n",
       "</div>"
      ],
      "text/plain": [
       "      calls  minutes  messages   mb_used  is_ultra\n",
       "348    77.0   522.65      14.0  19462.45         0\n",
       "1172  144.0  1031.79      99.0  40174.34         1\n",
       "2315   48.0   341.65       0.0  19000.02         0\n",
       "954    52.0   383.90      40.0  24574.82         0\n",
       "2918   77.0   445.00     100.0  10518.28         1"
      ]
     },
     "execution_count": 26,
     "metadata": {},
     "output_type": "execute_result"
    }
   ],
   "source": [
    "# DAMOS UNA MUETRA DEL CONJUNTO DE ENTRENAMIENTO\n",
    "\n",
    "df_train.head()"
   ]
  },
  {
   "cell_type": "markdown",
   "id": "d1a963c2",
   "metadata": {},
   "source": [
    "## Evaluación del Modelo"
   ]
  },
  {
   "cell_type": "markdown",
   "id": "39229e34",
   "metadata": {},
   "source": [
    "### Árbol de Decisión "
   ]
  },
  {
   "cell_type": "code",
   "execution_count": 27,
   "id": "7c3ef339",
   "metadata": {},
   "outputs": [
    {
     "name": "stdout",
     "output_type": "stream",
     "text": [
      "Exactitud del mejor modelo en el conjunto de prueba: 0.78538\n"
     ]
    }
   ],
   "source": [
    "# EVALUAMOS CON LOS DATOS DE PRUEBA\n",
    "\n",
    "best_model = None\n",
    "best_result = 0\n",
    "\n",
    "for depth in range(1, 6):\n",
    "    model = DecisionTreeClassifier(random_state = 12345, max_depth = depth)\n",
    "    model.fit(features_train, target_train)\n",
    "    predictions = model.predict(features_test)\n",
    "    result = accuracy_score(target_test, predictions)\n",
    "    \n",
    "    if result > best_result:\n",
    "        best_model = model\n",
    "        best_result = result\n",
    "\n",
    "print(\"Exactitud del mejor modelo en el conjunto de prueba:\", round(best_result, 5))\n"
   ]
  },
  {
   "cell_type": "markdown",
   "id": "9a1c517c",
   "metadata": {},
   "source": [
    "### Bosque Aleatorio"
   ]
  },
  {
   "cell_type": "code",
   "execution_count": 28,
   "id": "043857d3",
   "metadata": {},
   "outputs": [
    {
     "name": "stdout",
     "output_type": "stream",
     "text": [
      "Exactitud del mejor modelo en el conjunto de prueba (n_estimators = 4): 0.77449\n"
     ]
    }
   ],
   "source": [
    "# EVALUAMOS CON LOS DATOS DE PRUEBA\n",
    "\n",
    "best_score = 0\n",
    "best_est = 0\n",
    "\n",
    "for est in range(1,11):\n",
    "    model = RandomForestClassifier(random_state = 12345, n_estimators = est)\n",
    "    model.fit(features_train, target_train)\n",
    "    score = model.score(features_test, target_test)\n",
    "    \n",
    "    if score > best_score:\n",
    "        best_score = score\n",
    "        best_est = est\n",
    "            \n",
    "print(\"Exactitud del mejor modelo en el conjunto de prueba (n_estimators = {}): {:.5f}\".format(best_est, best_score))\n"
   ]
  },
  {
   "cell_type": "markdown",
   "id": "dc312e79",
   "metadata": {},
   "source": [
    "### Regresión Logística"
   ]
  },
  {
   "cell_type": "code",
   "execution_count": 29,
   "id": "0dfc1aad",
   "metadata": {
    "scrolled": true
   },
   "outputs": [
    {
     "name": "stdout",
     "output_type": "stream",
     "text": [
      "Exactitud del modelo en el conjunto de prueba: 0.70295\n"
     ]
    }
   ],
   "source": [
    "# EVALUAMOS CON LOS DATOS DE PRUEBA\n",
    "\n",
    "model = LogisticRegression(random_state = 54321, solver = 'liblinear') \n",
    "model.fit(features_train, target_train) \n",
    "score_test = model.score(features_test, target_test)\n",
    "\n",
    "print(\"Exactitud del modelo en el conjunto de prueba:\", round(score_test, 5))"
   ]
  },
  {
   "cell_type": "markdown",
   "id": "b093ee51",
   "metadata": {},
   "source": [
    "### Modelo de Cordura (Model Sanity Check)"
   ]
  },
  {
   "cell_type": "code",
   "execution_count": 33,
   "id": "5f7cdfce",
   "metadata": {},
   "outputs": [
    {
     "name": "stdout",
     "output_type": "stream",
     "text": [
      "Exactitud del modelo en el conjunto de prueba: 0.69518\n"
     ]
    }
   ],
   "source": [
    "# EVALUAMOS CON LOS DATOS DE PRUEBA\n",
    "\n",
    "model = DummyClassifier(random_state = 42)\n",
    "model.fit(features_test, target_test)\n",
    "predictions = model.predict(features_test)\n",
    "score_test = model.score(features_test, target_test)\n",
    "\n",
    "print(\"Exactitud del modelo en el conjunto de prueba:\", round(score_test, 5))\n"
   ]
  },
  {
   "cell_type": "markdown",
   "id": "31a2f152",
   "metadata": {},
   "source": [
    "**Conclusiones Intermedias**:\n",
    "\n",
    "Despues de evaluar los modelos en los conjuntos de prueba, tenemos los siguientes resultados:\n",
    "\n",
    "* **Árbol de Decisión**: 0.78538\n",
    "* **Bosque Aleatorio**: 0.77449\n",
    "* **Regresión Logísitca**: 0.70295\n",
    "* **Modelo de Cordura**: 0.69518\n",
    "\n",
    "Donde el mejor resultado de exactitud nos los da el modelo de **Árbol de Decisión**. Por ende, se utilizará dicho modelo para aplicarle el conjunto de validación."
   ]
  },
  {
   "cell_type": "markdown",
   "id": "6b940a78",
   "metadata": {},
   "source": [
    "## Validación del Mejor Modelo"
   ]
  },
  {
   "cell_type": "code",
   "execution_count": 35,
   "id": "ceaef099",
   "metadata": {},
   "outputs": [],
   "source": [
    "# PROCEDEMOS CON LA DIVISION DEL DATAFRAME EN CONJUNTOS DE ENTRENAMIENTO Y PRUEBA\n",
    "\n",
    "df_train, df_valid = train_test_split(df, test_size = 0.25, random_state = 12345)\n",
    "\n",
    "features_train = df_train.drop(['is_ultra'], axis = 1)\n",
    "target_train = df_train['is_ultra']\n",
    "\n",
    "features_valid = df_valid.drop(['is_ultra'], axis = 1)\n",
    "target_valid = df_valid['is_ultra']"
   ]
  },
  {
   "cell_type": "code",
   "execution_count": 41,
   "id": "bd5f15c4",
   "metadata": {},
   "outputs": [
    {
     "name": "stdout",
     "output_type": "stream",
     "text": [
      "(2410, 4)\n",
      "(2410,)\n",
      "(804, 4)\n",
      "(804,)\n"
     ]
    }
   ],
   "source": [
    "# MOSTRAMOS LAS DIMENSIONES DE LOS OBJETIVOS Y CARACTERÍSTICAS DE LOS CONJUNTOS DE ENTRENAMIENTO Y VALIDACIÓN\n",
    "\n",
    "print(features_train.shape)\n",
    "print(target_train.shape)\n",
    "print(features_valid.shape)\n",
    "print(target_valid.shape)"
   ]
  },
  {
   "cell_type": "code",
   "execution_count": 37,
   "id": "3515709c",
   "metadata": {},
   "outputs": [
    {
     "name": "stdout",
     "output_type": "stream",
     "text": [
      "Exactitud del mejor modelo en el conjunto de validación: 0.78856\n"
     ]
    }
   ],
   "source": [
    "# EVALUAMOS CON LOS DATOS DE PRUEBA\n",
    "\n",
    "best_model_v = None\n",
    "best_result_v = 0\n",
    "\n",
    "for depth in range(1, 6):\n",
    "    model = DecisionTreeClassifier(random_state = 12345, max_depth = depth)\n",
    "    model.fit(features_train, target_train)\n",
    "    predictions_v = model.predict(features_valid)\n",
    "    result_v = accuracy_score(target_valid, predictions_v)\n",
    "    \n",
    "    if result_v > best_result_v:\n",
    "        best_model = model\n",
    "        best_result_v = result_v\n",
    "\n",
    "print(\"Exactitud del mejor modelo en el conjunto de validación:\", round(best_result_v, 5))"
   ]
  },
  {
   "cell_type": "markdown",
   "id": "3b05c848",
   "metadata": {},
   "source": [
    "## Conclusiones"
   ]
  },
  {
   "cell_type": "markdown",
   "id": "88d21ac8",
   "metadata": {},
   "source": [
    "**a**: Tenemos un conjunto de datos con 3214 entradas por columnas, donde son 5. Este conjunto, no presentó valores ausentes ni duplicados.\n",
    "\n",
    "**b**: En el EDA, visualizamos las interacciones entre los usuarios del Plan Surf y Ultimate, las tendencias de consumo por el mes estudiado.\n",
    "\n",
    "**c**: Aplicamos 4 modelos, donde la mejor exactitud nos las dio el **Árbol de Decisión**, con una exactitud de 0.78538.\n",
    "\n",
    "**d**: Al momento de validar el modelo, la exactitud tuvo un ligero cambio de 0.00318, con un cambio en la proporción de la división de los conjuntos en 75:25.\n"
   ]
  }
 ],
 "metadata": {
  "kernelspec": {
   "display_name": "Python 3 (ipykernel)",
   "language": "python",
   "name": "python3"
  },
  "language_info": {
   "codemirror_mode": {
    "name": "ipython",
    "version": 3
   },
   "file_extension": ".py",
   "mimetype": "text/x-python",
   "name": "python",
   "nbconvert_exporter": "python",
   "pygments_lexer": "ipython3",
   "version": "3.9.5"
  },
  "toc": {
   "base_numbering": 1,
   "nav_menu": {},
   "number_sections": true,
   "sideBar": true,
   "skip_h1_title": true,
   "title_cell": "Table of Contents",
   "title_sidebar": "Contents",
   "toc_cell": false,
   "toc_position": {},
   "toc_section_display": true,
   "toc_window_display": false
  }
 },
 "nbformat": 4,
 "nbformat_minor": 5
}
