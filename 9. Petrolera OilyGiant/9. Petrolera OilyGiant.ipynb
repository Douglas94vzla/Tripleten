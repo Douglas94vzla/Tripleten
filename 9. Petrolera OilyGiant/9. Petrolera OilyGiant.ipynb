{
 "cells": [
  {
   "cell_type": "markdown",
   "metadata": {},
   "source": [
    "Hola Douglas!\n",
    "\n",
    "Mi nombre es Matias y voy a estar revisando tu proyecto.\n",
    "\n",
    "En la primer revision, de encontrar errores voy a estar marcandotelos para que puedas corregirlos por tu cuenta. Lo mas parecido a una situacion real de trabajo como DA. De haber posteriores revisiones\n",
    "\n",
    "Encontraras mis comentarios debajo - **por favor no los muevas, modifiques o elimines**.\n",
    "\n",
    "Encontraras mis comentarios en verde, amarillo o rojo de esta manera:\n",
    "\n",
    "<div class=\"alert alert-block alert-success\">\n",
    "<b>Comentario de Revisor</b> <a class=\"tocSkip\"></a>\n",
    "\n",
    "Genial, buen trabajo.\n",
    "</div>\n",
    "\n",
    "<div class=\"alert alert-block alert-warning\">\n",
    "<b>Comentario de Revisor</b> <a class=\"tocSkip\"></a>\n",
    "\n",
    "Cuidado, se recomienda...\n",
    "</div>\n",
    "\n",
    "<div class=\"alert alert-block alert-danger\">\n",
    "\n",
    "<b>Comentario de Revisor</b> <a class=\"tocSkip\"></a>\n",
    "\n",
    "Necesita correcion. El trabajo no puede ser aceptado si precisa correcion.\n",
    "</div>\n",
    "\n",
    "Puedes responder a mis comentarios utilizando un mensaje de este tipo:\n",
    "\n",
    "<div class=\"alert alert-block alert-info\">\n",
    "<b>Respuesta de estudiante.</b> <a class=\"tocSkip\"></a>\n",
    "</div>"
   ]
  },
  {
   "cell_type": "markdown",
   "metadata": {},
   "source": [
    "# Modelados para las Operaciones de la Petrolera OilyGiant\n"
   ]
  },
  {
   "cell_type": "markdown",
   "metadata": {},
   "source": [
    "# Tabla de contenido\n",
    "\n",
    "* [1 Preprocesamiento de Datos](#1)\n",
    "* [2 Análisis Exploratorio de Datos (EDA)](#2)\n",
    "    * [2.1 EDA de la Primera Región](#2.1)\n",
    "    * [2.2 EDA de la Segunda Región](#2.2)\n",
    "    * [2.3 EDA de la Tercera Región](#2.3)\n",
    "* [3 Estandarización de los Datos](#3)\n",
    "* [4 Evaluación de Modelos](#4)   \n",
    "    * [3.1 Evaluación del Modelo Lineal para las Tres Regiones](#4.1)   \n",
    "* [5 Determinar el Volumen Promedio de Reservas](#5)\n",
    "* [6 Cálculo de Ganancias](#6)\n",
    "* [7 Cálculo de Beneficios y Riesgos para cada Región](#7)\n",
    "* [8 Conclusiones Generales](#8)\n",
    "\n"
   ]
  },
  {
   "cell_type": "markdown",
   "metadata": {},
   "source": [
    "## Preprocesamiento de Datos"
   ]
  },
  {
   "cell_type": "code",
   "execution_count": 1,
   "metadata": {},
   "outputs": [],
   "source": [
    "# cargamos todas las librerías\n",
    "\n",
    "import pandas as pd\n",
    "import numpy as np\n",
    "from numpy.random import RandomState\n",
    "from scipy import stats as st\n",
    "from scipy.stats import sem\n",
    "import matplotlib.pyplot as plt\n",
    "from collections import defaultdict\n",
    "\n",
    "from sklearn.model_selection import train_test_split\n",
    "from sklearn.preprocessing import StandardScaler\n",
    "from sklearn.linear_model import LinearRegression\n",
    "from sklearn.metrics import mean_squared_error\n",
    "from sklearn.metrics import mean_absolute_error\n",
    "from sklearn.metrics import r2_score\n",
    "from sklearn.model_selection import cross_val_score\n"
   ]
  },
  {
   "cell_type": "code",
   "execution_count": 2,
   "metadata": {},
   "outputs": [],
   "source": [
    "# definimos los dataframes\n",
    "\n",
    "data_0 = pd.read_csv('/datasets/geo_data_0.csv')\n",
    "\n",
    "data_1 = pd.read_csv('/datasets/geo_data_1.csv')\n",
    "\n",
    "data_2 = pd.read_csv('/datasets/geo_data_2.csv')"
   ]
  },
  {
   "cell_type": "code",
   "execution_count": 3,
   "metadata": {},
   "outputs": [
    {
     "data": {
      "text/html": [
       "<div>\n",
       "<style scoped>\n",
       "    .dataframe tbody tr th:only-of-type {\n",
       "        vertical-align: middle;\n",
       "    }\n",
       "\n",
       "    .dataframe tbody tr th {\n",
       "        vertical-align: top;\n",
       "    }\n",
       "\n",
       "    .dataframe thead th {\n",
       "        text-align: right;\n",
       "    }\n",
       "</style>\n",
       "<table border=\"1\" class=\"dataframe\">\n",
       "  <thead>\n",
       "    <tr style=\"text-align: right;\">\n",
       "      <th></th>\n",
       "      <th>id</th>\n",
       "      <th>f0</th>\n",
       "      <th>f1</th>\n",
       "      <th>f2</th>\n",
       "      <th>product</th>\n",
       "    </tr>\n",
       "  </thead>\n",
       "  <tbody>\n",
       "    <tr>\n",
       "      <th>0</th>\n",
       "      <td>txEyH</td>\n",
       "      <td>0.705745</td>\n",
       "      <td>-0.497823</td>\n",
       "      <td>1.221170</td>\n",
       "      <td>105.280062</td>\n",
       "    </tr>\n",
       "    <tr>\n",
       "      <th>1</th>\n",
       "      <td>2acmU</td>\n",
       "      <td>1.334711</td>\n",
       "      <td>-0.340164</td>\n",
       "      <td>4.365080</td>\n",
       "      <td>73.037750</td>\n",
       "    </tr>\n",
       "    <tr>\n",
       "      <th>2</th>\n",
       "      <td>409Wp</td>\n",
       "      <td>1.022732</td>\n",
       "      <td>0.151990</td>\n",
       "      <td>1.419926</td>\n",
       "      <td>85.265647</td>\n",
       "    </tr>\n",
       "    <tr>\n",
       "      <th>3</th>\n",
       "      <td>iJLyR</td>\n",
       "      <td>-0.032172</td>\n",
       "      <td>0.139033</td>\n",
       "      <td>2.978566</td>\n",
       "      <td>168.620776</td>\n",
       "    </tr>\n",
       "    <tr>\n",
       "      <th>4</th>\n",
       "      <td>Xdl7t</td>\n",
       "      <td>1.988431</td>\n",
       "      <td>0.155413</td>\n",
       "      <td>4.751769</td>\n",
       "      <td>154.036647</td>\n",
       "    </tr>\n",
       "  </tbody>\n",
       "</table>\n",
       "</div>"
      ],
      "text/plain": [
       "      id        f0        f1        f2     product\n",
       "0  txEyH  0.705745 -0.497823  1.221170  105.280062\n",
       "1  2acmU  1.334711 -0.340164  4.365080   73.037750\n",
       "2  409Wp  1.022732  0.151990  1.419926   85.265647\n",
       "3  iJLyR -0.032172  0.139033  2.978566  168.620776\n",
       "4  Xdl7t  1.988431  0.155413  4.751769  154.036647"
      ]
     },
     "execution_count": 3,
     "metadata": {},
     "output_type": "execute_result"
    }
   ],
   "source": [
    "# mostramos información general de data_0\n",
    "\n",
    "data_0.head()"
   ]
  },
  {
   "cell_type": "code",
   "execution_count": 4,
   "metadata": {},
   "outputs": [
    {
     "name": "stdout",
     "output_type": "stream",
     "text": [
      "<class 'pandas.core.frame.DataFrame'>\n",
      "RangeIndex: 100000 entries, 0 to 99999\n",
      "Data columns (total 5 columns):\n",
      " #   Column   Non-Null Count   Dtype  \n",
      "---  ------   --------------   -----  \n",
      " 0   id       100000 non-null  object \n",
      " 1   f0       100000 non-null  float64\n",
      " 2   f1       100000 non-null  float64\n",
      " 3   f2       100000 non-null  float64\n",
      " 4   product  100000 non-null  float64\n",
      "dtypes: float64(4), object(1)\n",
      "memory usage: 3.8+ MB\n"
     ]
    }
   ],
   "source": [
    "data_0.info()"
   ]
  },
  {
   "cell_type": "code",
   "execution_count": 5,
   "metadata": {},
   "outputs": [
    {
     "data": {
      "text/html": [
       "<div>\n",
       "<style scoped>\n",
       "    .dataframe tbody tr th:only-of-type {\n",
       "        vertical-align: middle;\n",
       "    }\n",
       "\n",
       "    .dataframe tbody tr th {\n",
       "        vertical-align: top;\n",
       "    }\n",
       "\n",
       "    .dataframe thead th {\n",
       "        text-align: right;\n",
       "    }\n",
       "</style>\n",
       "<table border=\"1\" class=\"dataframe\">\n",
       "  <thead>\n",
       "    <tr style=\"text-align: right;\">\n",
       "      <th></th>\n",
       "      <th>f0</th>\n",
       "      <th>f1</th>\n",
       "      <th>f2</th>\n",
       "      <th>product</th>\n",
       "    </tr>\n",
       "  </thead>\n",
       "  <tbody>\n",
       "    <tr>\n",
       "      <th>count</th>\n",
       "      <td>100000.000000</td>\n",
       "      <td>100000.000000</td>\n",
       "      <td>100000.000000</td>\n",
       "      <td>100000.000000</td>\n",
       "    </tr>\n",
       "    <tr>\n",
       "      <th>mean</th>\n",
       "      <td>0.500419</td>\n",
       "      <td>0.250143</td>\n",
       "      <td>2.502647</td>\n",
       "      <td>92.500000</td>\n",
       "    </tr>\n",
       "    <tr>\n",
       "      <th>std</th>\n",
       "      <td>0.871832</td>\n",
       "      <td>0.504433</td>\n",
       "      <td>3.248248</td>\n",
       "      <td>44.288691</td>\n",
       "    </tr>\n",
       "    <tr>\n",
       "      <th>min</th>\n",
       "      <td>-1.408605</td>\n",
       "      <td>-0.848218</td>\n",
       "      <td>-12.088328</td>\n",
       "      <td>0.000000</td>\n",
       "    </tr>\n",
       "    <tr>\n",
       "      <th>25%</th>\n",
       "      <td>-0.072580</td>\n",
       "      <td>-0.200881</td>\n",
       "      <td>0.287748</td>\n",
       "      <td>56.497507</td>\n",
       "    </tr>\n",
       "    <tr>\n",
       "      <th>50%</th>\n",
       "      <td>0.502360</td>\n",
       "      <td>0.250252</td>\n",
       "      <td>2.515969</td>\n",
       "      <td>91.849972</td>\n",
       "    </tr>\n",
       "    <tr>\n",
       "      <th>75%</th>\n",
       "      <td>1.073581</td>\n",
       "      <td>0.700646</td>\n",
       "      <td>4.715088</td>\n",
       "      <td>128.564089</td>\n",
       "    </tr>\n",
       "    <tr>\n",
       "      <th>max</th>\n",
       "      <td>2.362331</td>\n",
       "      <td>1.343769</td>\n",
       "      <td>16.003790</td>\n",
       "      <td>185.364347</td>\n",
       "    </tr>\n",
       "  </tbody>\n",
       "</table>\n",
       "</div>"
      ],
      "text/plain": [
       "                  f0             f1             f2        product\n",
       "count  100000.000000  100000.000000  100000.000000  100000.000000\n",
       "mean        0.500419       0.250143       2.502647      92.500000\n",
       "std         0.871832       0.504433       3.248248      44.288691\n",
       "min        -1.408605      -0.848218     -12.088328       0.000000\n",
       "25%        -0.072580      -0.200881       0.287748      56.497507\n",
       "50%         0.502360       0.250252       2.515969      91.849972\n",
       "75%         1.073581       0.700646       4.715088     128.564089\n",
       "max         2.362331       1.343769      16.003790     185.364347"
      ]
     },
     "execution_count": 5,
     "metadata": {},
     "output_type": "execute_result"
    }
   ],
   "source": [
    "data_0.describe()"
   ]
  },
  {
   "cell_type": "code",
   "execution_count": 6,
   "metadata": {},
   "outputs": [
    {
     "data": {
      "text/html": [
       "<div>\n",
       "<style scoped>\n",
       "    .dataframe tbody tr th:only-of-type {\n",
       "        vertical-align: middle;\n",
       "    }\n",
       "\n",
       "    .dataframe tbody tr th {\n",
       "        vertical-align: top;\n",
       "    }\n",
       "\n",
       "    .dataframe thead th {\n",
       "        text-align: right;\n",
       "    }\n",
       "</style>\n",
       "<table border=\"1\" class=\"dataframe\">\n",
       "  <thead>\n",
       "    <tr style=\"text-align: right;\">\n",
       "      <th></th>\n",
       "      <th>id</th>\n",
       "      <th>f0</th>\n",
       "      <th>f1</th>\n",
       "      <th>f2</th>\n",
       "      <th>product</th>\n",
       "    </tr>\n",
       "  </thead>\n",
       "  <tbody>\n",
       "    <tr>\n",
       "      <th>0</th>\n",
       "      <td>kBEdx</td>\n",
       "      <td>-15.001348</td>\n",
       "      <td>-8.276000</td>\n",
       "      <td>-0.005876</td>\n",
       "      <td>3.179103</td>\n",
       "    </tr>\n",
       "    <tr>\n",
       "      <th>1</th>\n",
       "      <td>62mP7</td>\n",
       "      <td>14.272088</td>\n",
       "      <td>-3.475083</td>\n",
       "      <td>0.999183</td>\n",
       "      <td>26.953261</td>\n",
       "    </tr>\n",
       "    <tr>\n",
       "      <th>2</th>\n",
       "      <td>vyE1P</td>\n",
       "      <td>6.263187</td>\n",
       "      <td>-5.948386</td>\n",
       "      <td>5.001160</td>\n",
       "      <td>134.766305</td>\n",
       "    </tr>\n",
       "    <tr>\n",
       "      <th>3</th>\n",
       "      <td>KcrkZ</td>\n",
       "      <td>-13.081196</td>\n",
       "      <td>-11.506057</td>\n",
       "      <td>4.999415</td>\n",
       "      <td>137.945408</td>\n",
       "    </tr>\n",
       "    <tr>\n",
       "      <th>4</th>\n",
       "      <td>AHL4O</td>\n",
       "      <td>12.702195</td>\n",
       "      <td>-8.147433</td>\n",
       "      <td>5.004363</td>\n",
       "      <td>134.766305</td>\n",
       "    </tr>\n",
       "  </tbody>\n",
       "</table>\n",
       "</div>"
      ],
      "text/plain": [
       "      id         f0         f1        f2     product\n",
       "0  kBEdx -15.001348  -8.276000 -0.005876    3.179103\n",
       "1  62mP7  14.272088  -3.475083  0.999183   26.953261\n",
       "2  vyE1P   6.263187  -5.948386  5.001160  134.766305\n",
       "3  KcrkZ -13.081196 -11.506057  4.999415  137.945408\n",
       "4  AHL4O  12.702195  -8.147433  5.004363  134.766305"
      ]
     },
     "execution_count": 6,
     "metadata": {},
     "output_type": "execute_result"
    }
   ],
   "source": [
    "# mostramos información general de data_1\n",
    "\n",
    "data_1.head()"
   ]
  },
  {
   "cell_type": "code",
   "execution_count": 7,
   "metadata": {},
   "outputs": [
    {
     "name": "stdout",
     "output_type": "stream",
     "text": [
      "<class 'pandas.core.frame.DataFrame'>\n",
      "RangeIndex: 100000 entries, 0 to 99999\n",
      "Data columns (total 5 columns):\n",
      " #   Column   Non-Null Count   Dtype  \n",
      "---  ------   --------------   -----  \n",
      " 0   id       100000 non-null  object \n",
      " 1   f0       100000 non-null  float64\n",
      " 2   f1       100000 non-null  float64\n",
      " 3   f2       100000 non-null  float64\n",
      " 4   product  100000 non-null  float64\n",
      "dtypes: float64(4), object(1)\n",
      "memory usage: 3.8+ MB\n"
     ]
    }
   ],
   "source": [
    "data_1.info()"
   ]
  },
  {
   "cell_type": "code",
   "execution_count": 8,
   "metadata": {},
   "outputs": [
    {
     "data": {
      "text/html": [
       "<div>\n",
       "<style scoped>\n",
       "    .dataframe tbody tr th:only-of-type {\n",
       "        vertical-align: middle;\n",
       "    }\n",
       "\n",
       "    .dataframe tbody tr th {\n",
       "        vertical-align: top;\n",
       "    }\n",
       "\n",
       "    .dataframe thead th {\n",
       "        text-align: right;\n",
       "    }\n",
       "</style>\n",
       "<table border=\"1\" class=\"dataframe\">\n",
       "  <thead>\n",
       "    <tr style=\"text-align: right;\">\n",
       "      <th></th>\n",
       "      <th>f0</th>\n",
       "      <th>f1</th>\n",
       "      <th>f2</th>\n",
       "      <th>product</th>\n",
       "    </tr>\n",
       "  </thead>\n",
       "  <tbody>\n",
       "    <tr>\n",
       "      <th>count</th>\n",
       "      <td>100000.000000</td>\n",
       "      <td>100000.000000</td>\n",
       "      <td>100000.000000</td>\n",
       "      <td>100000.000000</td>\n",
       "    </tr>\n",
       "    <tr>\n",
       "      <th>mean</th>\n",
       "      <td>1.141296</td>\n",
       "      <td>-4.796579</td>\n",
       "      <td>2.494541</td>\n",
       "      <td>68.825000</td>\n",
       "    </tr>\n",
       "    <tr>\n",
       "      <th>std</th>\n",
       "      <td>8.965932</td>\n",
       "      <td>5.119872</td>\n",
       "      <td>1.703572</td>\n",
       "      <td>45.944423</td>\n",
       "    </tr>\n",
       "    <tr>\n",
       "      <th>min</th>\n",
       "      <td>-31.609576</td>\n",
       "      <td>-26.358598</td>\n",
       "      <td>-0.018144</td>\n",
       "      <td>0.000000</td>\n",
       "    </tr>\n",
       "    <tr>\n",
       "      <th>25%</th>\n",
       "      <td>-6.298551</td>\n",
       "      <td>-8.267985</td>\n",
       "      <td>1.000021</td>\n",
       "      <td>26.953261</td>\n",
       "    </tr>\n",
       "    <tr>\n",
       "      <th>50%</th>\n",
       "      <td>1.153055</td>\n",
       "      <td>-4.813172</td>\n",
       "      <td>2.011479</td>\n",
       "      <td>57.085625</td>\n",
       "    </tr>\n",
       "    <tr>\n",
       "      <th>75%</th>\n",
       "      <td>8.621015</td>\n",
       "      <td>-1.332816</td>\n",
       "      <td>3.999904</td>\n",
       "      <td>107.813044</td>\n",
       "    </tr>\n",
       "    <tr>\n",
       "      <th>max</th>\n",
       "      <td>29.421755</td>\n",
       "      <td>18.734063</td>\n",
       "      <td>5.019721</td>\n",
       "      <td>137.945408</td>\n",
       "    </tr>\n",
       "  </tbody>\n",
       "</table>\n",
       "</div>"
      ],
      "text/plain": [
       "                  f0             f1             f2        product\n",
       "count  100000.000000  100000.000000  100000.000000  100000.000000\n",
       "mean        1.141296      -4.796579       2.494541      68.825000\n",
       "std         8.965932       5.119872       1.703572      45.944423\n",
       "min       -31.609576     -26.358598      -0.018144       0.000000\n",
       "25%        -6.298551      -8.267985       1.000021      26.953261\n",
       "50%         1.153055      -4.813172       2.011479      57.085625\n",
       "75%         8.621015      -1.332816       3.999904     107.813044\n",
       "max        29.421755      18.734063       5.019721     137.945408"
      ]
     },
     "execution_count": 8,
     "metadata": {},
     "output_type": "execute_result"
    }
   ],
   "source": [
    "data_1.describe()"
   ]
  },
  {
   "cell_type": "code",
   "execution_count": 9,
   "metadata": {},
   "outputs": [
    {
     "data": {
      "text/html": [
       "<div>\n",
       "<style scoped>\n",
       "    .dataframe tbody tr th:only-of-type {\n",
       "        vertical-align: middle;\n",
       "    }\n",
       "\n",
       "    .dataframe tbody tr th {\n",
       "        vertical-align: top;\n",
       "    }\n",
       "\n",
       "    .dataframe thead th {\n",
       "        text-align: right;\n",
       "    }\n",
       "</style>\n",
       "<table border=\"1\" class=\"dataframe\">\n",
       "  <thead>\n",
       "    <tr style=\"text-align: right;\">\n",
       "      <th></th>\n",
       "      <th>id</th>\n",
       "      <th>f0</th>\n",
       "      <th>f1</th>\n",
       "      <th>f2</th>\n",
       "      <th>product</th>\n",
       "    </tr>\n",
       "  </thead>\n",
       "  <tbody>\n",
       "    <tr>\n",
       "      <th>0</th>\n",
       "      <td>fwXo0</td>\n",
       "      <td>-1.146987</td>\n",
       "      <td>0.963328</td>\n",
       "      <td>-0.828965</td>\n",
       "      <td>27.758673</td>\n",
       "    </tr>\n",
       "    <tr>\n",
       "      <th>1</th>\n",
       "      <td>WJtFt</td>\n",
       "      <td>0.262778</td>\n",
       "      <td>0.269839</td>\n",
       "      <td>-2.530187</td>\n",
       "      <td>56.069697</td>\n",
       "    </tr>\n",
       "    <tr>\n",
       "      <th>2</th>\n",
       "      <td>ovLUW</td>\n",
       "      <td>0.194587</td>\n",
       "      <td>0.289035</td>\n",
       "      <td>-5.586433</td>\n",
       "      <td>62.871910</td>\n",
       "    </tr>\n",
       "    <tr>\n",
       "      <th>3</th>\n",
       "      <td>q6cA6</td>\n",
       "      <td>2.236060</td>\n",
       "      <td>-0.553760</td>\n",
       "      <td>0.930038</td>\n",
       "      <td>114.572842</td>\n",
       "    </tr>\n",
       "    <tr>\n",
       "      <th>4</th>\n",
       "      <td>WPMUX</td>\n",
       "      <td>-0.515993</td>\n",
       "      <td>1.716266</td>\n",
       "      <td>5.899011</td>\n",
       "      <td>149.600746</td>\n",
       "    </tr>\n",
       "  </tbody>\n",
       "</table>\n",
       "</div>"
      ],
      "text/plain": [
       "      id        f0        f1        f2     product\n",
       "0  fwXo0 -1.146987  0.963328 -0.828965   27.758673\n",
       "1  WJtFt  0.262778  0.269839 -2.530187   56.069697\n",
       "2  ovLUW  0.194587  0.289035 -5.586433   62.871910\n",
       "3  q6cA6  2.236060 -0.553760  0.930038  114.572842\n",
       "4  WPMUX -0.515993  1.716266  5.899011  149.600746"
      ]
     },
     "execution_count": 9,
     "metadata": {},
     "output_type": "execute_result"
    }
   ],
   "source": [
    "# mostramos información general de data_2\n",
    "\n",
    "data_2.head()"
   ]
  },
  {
   "cell_type": "code",
   "execution_count": 10,
   "metadata": {},
   "outputs": [
    {
     "name": "stdout",
     "output_type": "stream",
     "text": [
      "<class 'pandas.core.frame.DataFrame'>\n",
      "RangeIndex: 100000 entries, 0 to 99999\n",
      "Data columns (total 5 columns):\n",
      " #   Column   Non-Null Count   Dtype  \n",
      "---  ------   --------------   -----  \n",
      " 0   id       100000 non-null  object \n",
      " 1   f0       100000 non-null  float64\n",
      " 2   f1       100000 non-null  float64\n",
      " 3   f2       100000 non-null  float64\n",
      " 4   product  100000 non-null  float64\n",
      "dtypes: float64(4), object(1)\n",
      "memory usage: 3.8+ MB\n"
     ]
    }
   ],
   "source": [
    "data_2.info()"
   ]
  },
  {
   "cell_type": "code",
   "execution_count": 11,
   "metadata": {},
   "outputs": [
    {
     "data": {
      "text/html": [
       "<div>\n",
       "<style scoped>\n",
       "    .dataframe tbody tr th:only-of-type {\n",
       "        vertical-align: middle;\n",
       "    }\n",
       "\n",
       "    .dataframe tbody tr th {\n",
       "        vertical-align: top;\n",
       "    }\n",
       "\n",
       "    .dataframe thead th {\n",
       "        text-align: right;\n",
       "    }\n",
       "</style>\n",
       "<table border=\"1\" class=\"dataframe\">\n",
       "  <thead>\n",
       "    <tr style=\"text-align: right;\">\n",
       "      <th></th>\n",
       "      <th>f0</th>\n",
       "      <th>f1</th>\n",
       "      <th>f2</th>\n",
       "      <th>product</th>\n",
       "    </tr>\n",
       "  </thead>\n",
       "  <tbody>\n",
       "    <tr>\n",
       "      <th>count</th>\n",
       "      <td>100000.000000</td>\n",
       "      <td>100000.000000</td>\n",
       "      <td>100000.000000</td>\n",
       "      <td>100000.000000</td>\n",
       "    </tr>\n",
       "    <tr>\n",
       "      <th>mean</th>\n",
       "      <td>0.002023</td>\n",
       "      <td>-0.002081</td>\n",
       "      <td>2.495128</td>\n",
       "      <td>95.000000</td>\n",
       "    </tr>\n",
       "    <tr>\n",
       "      <th>std</th>\n",
       "      <td>1.732045</td>\n",
       "      <td>1.730417</td>\n",
       "      <td>3.473445</td>\n",
       "      <td>44.749921</td>\n",
       "    </tr>\n",
       "    <tr>\n",
       "      <th>min</th>\n",
       "      <td>-8.760004</td>\n",
       "      <td>-7.084020</td>\n",
       "      <td>-11.970335</td>\n",
       "      <td>0.000000</td>\n",
       "    </tr>\n",
       "    <tr>\n",
       "      <th>25%</th>\n",
       "      <td>-1.162288</td>\n",
       "      <td>-1.174820</td>\n",
       "      <td>0.130359</td>\n",
       "      <td>59.450441</td>\n",
       "    </tr>\n",
       "    <tr>\n",
       "      <th>50%</th>\n",
       "      <td>0.009424</td>\n",
       "      <td>-0.009482</td>\n",
       "      <td>2.484236</td>\n",
       "      <td>94.925613</td>\n",
       "    </tr>\n",
       "    <tr>\n",
       "      <th>75%</th>\n",
       "      <td>1.158535</td>\n",
       "      <td>1.163678</td>\n",
       "      <td>4.858794</td>\n",
       "      <td>130.595027</td>\n",
       "    </tr>\n",
       "    <tr>\n",
       "      <th>max</th>\n",
       "      <td>7.238262</td>\n",
       "      <td>7.844801</td>\n",
       "      <td>16.739402</td>\n",
       "      <td>190.029838</td>\n",
       "    </tr>\n",
       "  </tbody>\n",
       "</table>\n",
       "</div>"
      ],
      "text/plain": [
       "                  f0             f1             f2        product\n",
       "count  100000.000000  100000.000000  100000.000000  100000.000000\n",
       "mean        0.002023      -0.002081       2.495128      95.000000\n",
       "std         1.732045       1.730417       3.473445      44.749921\n",
       "min        -8.760004      -7.084020     -11.970335       0.000000\n",
       "25%        -1.162288      -1.174820       0.130359      59.450441\n",
       "50%         0.009424      -0.009482       2.484236      94.925613\n",
       "75%         1.158535       1.163678       4.858794     130.595027\n",
       "max         7.238262       7.844801      16.739402     190.029838"
      ]
     },
     "execution_count": 11,
     "metadata": {},
     "output_type": "execute_result"
    }
   ],
   "source": [
    "data_2.describe()"
   ]
  },
  {
   "cell_type": "markdown",
   "metadata": {},
   "source": [
    "<div class=\"alert alert-block alert-info\">\n",
    "<b>Agregué los describe a cada Dataframe </b> <a class=\"tocSkip\"></a>\n",
    "</div>"
   ]
  },
  {
   "cell_type": "code",
   "execution_count": 12,
   "metadata": {},
   "outputs": [],
   "source": [
    "# eliminamos las columnas \"id\" de cada dataframe\n",
    "\n",
    "data_0 = data_0.drop(['id'], axis = 1)\n",
    "\n",
    "data_1 = data_1.drop(['id'], axis = 1)\n",
    "\n",
    "data_2 = data_2.drop(['id'], axis = 1)"
   ]
  },
  {
   "cell_type": "code",
   "execution_count": 13,
   "metadata": {},
   "outputs": [
    {
     "name": "stdout",
     "output_type": "stream",
     "text": [
      "<class 'pandas.core.frame.DataFrame'>\n",
      "RangeIndex: 100000 entries, 0 to 99999\n",
      "Data columns (total 4 columns):\n",
      " #   Column   Non-Null Count   Dtype  \n",
      "---  ------   --------------   -----  \n",
      " 0   f0       100000 non-null  float64\n",
      " 1   f1       100000 non-null  float64\n",
      " 2   f2       100000 non-null  float64\n",
      " 3   product  100000 non-null  float64\n",
      "dtypes: float64(4)\n",
      "memory usage: 3.1 MB\n"
     ]
    }
   ],
   "source": [
    "# volvemos a mostrar la información general de cada dataframe\n",
    "\n",
    "data_0.info()\n"
   ]
  },
  {
   "cell_type": "code",
   "execution_count": 14,
   "metadata": {},
   "outputs": [
    {
     "name": "stdout",
     "output_type": "stream",
     "text": [
      "<class 'pandas.core.frame.DataFrame'>\n",
      "RangeIndex: 100000 entries, 0 to 99999\n",
      "Data columns (total 4 columns):\n",
      " #   Column   Non-Null Count   Dtype  \n",
      "---  ------   --------------   -----  \n",
      " 0   f0       100000 non-null  float64\n",
      " 1   f1       100000 non-null  float64\n",
      " 2   f2       100000 non-null  float64\n",
      " 3   product  100000 non-null  float64\n",
      "dtypes: float64(4)\n",
      "memory usage: 3.1 MB\n"
     ]
    }
   ],
   "source": [
    "data_1.info()"
   ]
  },
  {
   "cell_type": "code",
   "execution_count": 15,
   "metadata": {},
   "outputs": [
    {
     "name": "stdout",
     "output_type": "stream",
     "text": [
      "<class 'pandas.core.frame.DataFrame'>\n",
      "RangeIndex: 100000 entries, 0 to 99999\n",
      "Data columns (total 4 columns):\n",
      " #   Column   Non-Null Count   Dtype  \n",
      "---  ------   --------------   -----  \n",
      " 0   f0       100000 non-null  float64\n",
      " 1   f1       100000 non-null  float64\n",
      " 2   f2       100000 non-null  float64\n",
      " 3   product  100000 non-null  float64\n",
      "dtypes: float64(4)\n",
      "memory usage: 3.1 MB\n"
     ]
    }
   ],
   "source": [
    "data_2.info()"
   ]
  },
  {
   "cell_type": "markdown",
   "metadata": {},
   "source": [
    "<div class=\"alert alert-block alert-success\">\n",
    "<b>Comentario de Revisor</b> <a class=\"tocSkip\"></a>\n",
    "\n",
    "Genial, buen comienzo.\n",
    "</div>\n",
    "\n",
    "<div class=\"alert alert-block alert-warning\">\n",
    "<b>Comentario de Revisor</b> <a class=\"tocSkip\"></a>\n",
    "\n",
    "Recomiendo siempre sumar al primer vistazo que damos a los datos, ademas de head() e info(), explorar las distribuciones con describe()\n",
    "</div>"
   ]
  },
  {
   "cell_type": "markdown",
   "metadata": {},
   "source": [
    "## Análisis Exploratorio de datos (EDA)"
   ]
  },
  {
   "cell_type": "code",
   "execution_count": 16,
   "metadata": {},
   "outputs": [],
   "source": [
    "# definimos las variables a estudiar para el EDA, de los tres dataframes\n",
    "\n",
    "var = ['f0', 'f1', 'f2', 'product']"
   ]
  },
  {
   "cell_type": "markdown",
   "metadata": {},
   "source": [
    "### EDA de la Primera Región"
   ]
  },
  {
   "cell_type": "code",
   "execution_count": 17,
   "metadata": {},
   "outputs": [
    {
     "data": {
      "image/png": "[encoded data removed]",
      "text/plain": [
       "<Figure size 432x288 with 1 Axes>"
      ]
     },
     "metadata": {
      "needs_background": "light"
     },
     "output_type": "display_data"
    },
    {
     "data": {
      "image/png": "[encoded data removed]",
      "text/plain": [
       "<Figure size 432x288 with 1 Axes>"
      ]
     },
     "metadata": {
      "needs_background": "light"
     },
     "output_type": "display_data"
    },
    {
     "data": {
      "image/png": "[encoded data removed]",
      "text/plain": [
       "<Figure size 432x288 with 1 Axes>"
      ]
     },
     "metadata": {
      "needs_background": "light"
     },
     "output_type": "display_data"
    },
    {
     "data": {
      "image/png": "[encoded data removed]",
      "text/plain": [
       "<Figure size 432x288 with 1 Axes>"
      ]
     },
     "metadata": {
      "needs_background": "light"
     },
     "output_type": "display_data"
    }
   ],
   "source": [
    "# Histogramas\n",
    "\n",
    "for i in range(len(var)):\n",
    "    data_0.hist(var[i])"
   ]
  },
  {
   "cell_type": "markdown",
   "metadata": {},
   "source": [
    "#### Diagramas de Caja"
   ]
  },
  {
   "cell_type": "code",
   "execution_count": 18,
   "metadata": {},
   "outputs": [
    {
     "data": {
      "image/png": "[encoded data removed]",
      "text/plain": [
       "<Figure size 432x288 with 1 Axes>"
      ]
     },
     "metadata": {
      "needs_background": "light"
     },
     "output_type": "display_data"
    },
    {
     "data": {
      "image/png": "[encoded data removed]",
      "text/plain": [
       "<Figure size 432x288 with 1 Axes>"
      ]
     },
     "metadata": {
      "needs_background": "light"
     },
     "output_type": "display_data"
    },
    {
     "data": {
      "image/png": "[encoded data removed]",
      "text/plain": [
       "<Figure size 432x288 with 1 Axes>"
      ]
     },
     "metadata": {
      "needs_background": "light"
     },
     "output_type": "display_data"
    },
    {
     "data": {
      "image/png": "[encoded data removed]",
      "text/plain": [
       "<Figure size 432x288 with 1 Axes>"
      ]
     },
     "metadata": {
      "needs_background": "light"
     },
     "output_type": "display_data"
    }
   ],
   "source": [
    "for i in var:\n",
    "    plt.figure()\n",
    "    plt.boxplot(data_0[i])\n",
    "    plt.title(i)"
   ]
  },
  {
   "cell_type": "markdown",
   "metadata": {},
   "source": [
    "#### Estadística Descriptiva"
   ]
  },
  {
   "cell_type": "code",
   "execution_count": 19,
   "metadata": {},
   "outputs": [
    {
     "name": "stdout",
     "output_type": "stream",
     "text": [
      "count    100000.000000\n",
      "mean          0.500419\n",
      "std           0.871832\n",
      "min          -1.408605\n",
      "25%          -0.072580\n",
      "50%           0.502360\n",
      "75%           1.073581\n",
      "max           2.362331\n",
      "Name: f0, dtype: float64\n",
      "count    100000.000000\n",
      "mean          0.250143\n",
      "std           0.504433\n",
      "min          -0.848218\n",
      "25%          -0.200881\n",
      "50%           0.250252\n",
      "75%           0.700646\n",
      "max           1.343769\n",
      "Name: f1, dtype: float64\n",
      "count    100000.000000\n",
      "mean          2.502647\n",
      "std           3.248248\n",
      "min         -12.088328\n",
      "25%           0.287748\n",
      "50%           2.515969\n",
      "75%           4.715088\n",
      "max          16.003790\n",
      "Name: f2, dtype: float64\n",
      "count    100000.000000\n",
      "mean         92.500000\n",
      "std          44.288691\n",
      "min           0.000000\n",
      "25%          56.497507\n",
      "50%          91.849972\n",
      "75%         128.564089\n",
      "max         185.364347\n",
      "Name: product, dtype: float64\n"
     ]
    }
   ],
   "source": [
    "for i in var:\n",
    "    print(data_0[i].describe())"
   ]
  },
  {
   "cell_type": "markdown",
   "metadata": {},
   "source": [
    "#### Estudio de valores atípicos"
   ]
  },
  {
   "cell_type": "code",
   "execution_count": 20,
   "metadata": {},
   "outputs": [],
   "source": [
    "# Determinamos las funciones para el cálculo de los valores atípicos\n",
    "\n",
    "def lower_limit(Q1, Q3):\n",
    "    IQR = Q3 - Q1\n",
    "    lower = Q1 - 1.5 * IQR\n",
    "    return lower\n",
    "\n",
    "def upper_limit(Q1, Q3):\n",
    "    IQR = Q3 - Q1\n",
    "    upper = Q3 + 1.5 * IQR\n",
    "    return upper"
   ]
  },
  {
   "cell_type": "code",
   "execution_count": 21,
   "metadata": {},
   "outputs": [],
   "source": [
    "# Determinamos la función para el cálculo de cuantiles\n",
    "\n",
    "def quantiles(vector):\n",
    "    Q1 = vector.quantile(0.25)\n",
    "    Q3 = vector.quantile(0.75)\n",
    "    return Q1, Q3"
   ]
  },
  {
   "cell_type": "code",
   "execution_count": 22,
   "metadata": {},
   "outputs": [
    {
     "data": {
      "text/plain": [
       "(0.28774815581444596, 4.715087898413286)"
      ]
     },
     "execution_count": 22,
     "metadata": {},
     "output_type": "execute_result"
    }
   ],
   "source": [
    "# Cálculo de los cuantiles\n",
    "\n",
    "data_0_f2 = data_0['f2']\n",
    "quantiles(data_0_f2)"
   ]
  },
  {
   "cell_type": "code",
   "execution_count": 23,
   "metadata": {},
   "outputs": [
    {
     "data": {
      "text/plain": [
       "-6.3549999999999995"
      ]
     },
     "execution_count": 23,
     "metadata": {},
     "output_type": "execute_result"
    }
   ],
   "source": [
    "# Cálculo del límite inferior\n",
    "\n",
    "lower_limit(0.29, 4.72)"
   ]
  },
  {
   "cell_type": "code",
   "execution_count": 24,
   "metadata": {},
   "outputs": [
    {
     "data": {
      "text/plain": [
       "11.364999999999998"
      ]
     },
     "execution_count": 24,
     "metadata": {},
     "output_type": "execute_result"
    }
   ],
   "source": [
    "# Cálculo del límite superior\n",
    "\n",
    "upper_limit(0.29, 4.72)"
   ]
  },
  {
   "cell_type": "code",
   "execution_count": 25,
   "metadata": {},
   "outputs": [],
   "source": [
    "# Definimos las funciones para eliminar los valores atípicos\n",
    "\n",
    "def porc_inf_atipic(vector, umbral, dataframe):\n",
    "    sum_vector = (vector < umbral).sum()\n",
    "    total_df = dataframe.shape[0]\n",
    "    percent = (sum_vector / total_df) * 100\n",
    "    return percent\n",
    "\n",
    "def porc_sup_atipic(vector, umbral, dataframe):\n",
    "    sum_vector = (vector > umbral).sum()\n",
    "    total_df = dataframe.shape[0]\n",
    "    percent = (sum_vector / total_df) * 100\n",
    "    return percent"
   ]
  },
  {
   "cell_type": "code",
   "execution_count": 26,
   "metadata": {},
   "outputs": [
    {
     "data": {
      "text/plain": [
       "0.26"
      ]
     },
     "execution_count": 26,
     "metadata": {},
     "output_type": "execute_result"
    }
   ],
   "source": [
    "# Porcentaje de datos atípicos inferior que serán eliminados\n",
    "\n",
    "porc_inf_atipic(data_0_f2, -6.35, data_0)"
   ]
  },
  {
   "cell_type": "code",
   "execution_count": 27,
   "metadata": {},
   "outputs": [
    {
     "data": {
      "text/plain": [
       "0.247"
      ]
     },
     "execution_count": 27,
     "metadata": {},
     "output_type": "execute_result"
    }
   ],
   "source": [
    "# Porcentaje de datos atípicos superiores que serán eliminados\n",
    "\n",
    "porc_sup_atipic(data_0_f2, 11.36, data_0)"
   ]
  },
  {
   "cell_type": "code",
   "execution_count": 28,
   "metadata": {},
   "outputs": [
    {
     "name": "stdout",
     "output_type": "stream",
     "text": [
      "<class 'pandas.core.frame.DataFrame'>\n",
      "Int64Index: 99493 entries, 0 to 99999\n",
      "Data columns (total 4 columns):\n",
      " #   Column   Non-Null Count  Dtype  \n",
      "---  ------   --------------  -----  \n",
      " 0   f0       99493 non-null  float64\n",
      " 1   f1       99493 non-null  float64\n",
      " 2   f2       99493 non-null  float64\n",
      " 3   product  99493 non-null  float64\n",
      "dtypes: float64(4)\n",
      "memory usage: 3.8 MB\n"
     ]
    }
   ],
   "source": [
    "# Almacenamos los datos sin valores atípicos en un nuevo Dataframe\n",
    "\n",
    "data_0_clean = data_0[(data_0['f2'] < 11.36) & (data_0['f2'] > -6.35)]\n",
    "\n",
    "data_0_clean.info()"
   ]
  },
  {
   "cell_type": "markdown",
   "metadata": {},
   "source": [
    "### EDA de la Segunda Región"
   ]
  },
  {
   "cell_type": "code",
   "execution_count": 29,
   "metadata": {},
   "outputs": [
    {
     "data": {
      "image/png": "[encoded data removed]",
      "text/plain": [
       "<Figure size 432x288 with 1 Axes>"
      ]
     },
     "metadata": {
      "needs_background": "light"
     },
     "output_type": "display_data"
    },
    {
     "data": {
      "image/png": "[encoded data removed]",
      "text/plain": [
       "<Figure size 432x288 with 1 Axes>"
      ]
     },
     "metadata": {
      "needs_background": "light"
     },
     "output_type": "display_data"
    },
    {
     "data": {
      "image/png": "[encoded data removed]",
      "text/plain": [
       "<Figure size 432x288 with 1 Axes>"
      ]
     },
     "metadata": {
      "needs_background": "light"
     },
     "output_type": "display_data"
    },
    {
     "data": {
      "image/png": "[encoded data removed]",
      "text/plain": [
       "<Figure size 432x288 with 1 Axes>"
      ]
     },
     "metadata": {
      "needs_background": "light"
     },
     "output_type": "display_data"
    }
   ],
   "source": [
    "# Histogramas\n",
    "\n",
    "for i in range(len(var)):\n",
    "    data_1.hist(var[i])"
   ]
  },
  {
   "cell_type": "markdown",
   "metadata": {},
   "source": [
    "#### Diagramas de Caja"
   ]
  },
  {
   "cell_type": "code",
   "execution_count": 30,
   "metadata": {},
   "outputs": [
    {
     "data": {
      "image/png": "[encoded data removed]",
      "text/plain": [
       "<Figure size 432x288 with 1 Axes>"
      ]
     },
     "metadata": {
      "needs_background": "light"
     },
     "output_type": "display_data"
    },
    {
     "data": {
      "image/png": "[encoded data removed]",
      "text/plain": [
       "<Figure size 432x288 with 1 Axes>"
      ]
     },
     "metadata": {
      "needs_background": "light"
     },
     "output_type": "display_data"
    },
    {
     "data": {
      "image/png": "[encoded data removed]",
      "text/plain": [
       "<Figure size 432x288 with 1 Axes>"
      ]
     },
     "metadata": {
      "needs_background": "light"
     },
     "output_type": "display_data"
    },
    {
     "data": {
      "image/png": "[encoded data removed]",
      "text/plain": [
       "<Figure size 432x288 with 1 Axes>"
      ]
     },
     "metadata": {
      "needs_background": "light"
     },
     "output_type": "display_data"
    }
   ],
   "source": [
    "for i in var:\n",
    "    plt.figure()\n",
    "    plt.boxplot(data_1[i])\n",
    "    plt.title(i)"
   ]
  },
  {
   "cell_type": "markdown",
   "metadata": {},
   "source": [
    "#### Estadística Descriptiva"
   ]
  },
  {
   "cell_type": "code",
   "execution_count": 31,
   "metadata": {},
   "outputs": [
    {
     "name": "stdout",
     "output_type": "stream",
     "text": [
      "count    100000.000000\n",
      "mean          1.141296\n",
      "std           8.965932\n",
      "min         -31.609576\n",
      "25%          -6.298551\n",
      "50%           1.153055\n",
      "75%           8.621015\n",
      "max          29.421755\n",
      "Name: f0, dtype: float64\n",
      "count    100000.000000\n",
      "mean         -4.796579\n",
      "std           5.119872\n",
      "min         -26.358598\n",
      "25%          -8.267985\n",
      "50%          -4.813172\n",
      "75%          -1.332816\n",
      "max          18.734063\n",
      "Name: f1, dtype: float64\n",
      "count    100000.000000\n",
      "mean          2.494541\n",
      "std           1.703572\n",
      "min          -0.018144\n",
      "25%           1.000021\n",
      "50%           2.011479\n",
      "75%           3.999904\n",
      "max           5.019721\n",
      "Name: f2, dtype: float64\n",
      "count    100000.000000\n",
      "mean         68.825000\n",
      "std          45.944423\n",
      "min           0.000000\n",
      "25%          26.953261\n",
      "50%          57.085625\n",
      "75%         107.813044\n",
      "max         137.945408\n",
      "Name: product, dtype: float64\n"
     ]
    }
   ],
   "source": [
    "for i in var:\n",
    "    print(data_1[i].describe())"
   ]
  },
  {
   "cell_type": "markdown",
   "metadata": {},
   "source": [
    "#### Estudio de valores atípicos"
   ]
  },
  {
   "cell_type": "code",
   "execution_count": 32,
   "metadata": {},
   "outputs": [
    {
     "data": {
      "text/plain": [
       "(-8.26798483466915, -1.3328160113936642)"
      ]
     },
     "execution_count": 32,
     "metadata": {},
     "output_type": "execute_result"
    }
   ],
   "source": [
    "# Cálculo de los cuantiles\n",
    "\n",
    "data_1_f1 = data_1['f1']\n",
    "quantiles(data_1_f1)"
   ]
  },
  {
   "cell_type": "code",
   "execution_count": 33,
   "metadata": {},
   "outputs": [
    {
     "data": {
      "text/plain": [
       "-18.68"
      ]
     },
     "execution_count": 33,
     "metadata": {},
     "output_type": "execute_result"
    }
   ],
   "source": [
    "# Cálculo del límite inferior\n",
    "\n",
    "lower_limit(-8.27, -1.33)"
   ]
  },
  {
   "cell_type": "code",
   "execution_count": 34,
   "metadata": {},
   "outputs": [
    {
     "data": {
      "text/plain": [
       "9.08"
      ]
     },
     "execution_count": 34,
     "metadata": {},
     "output_type": "execute_result"
    }
   ],
   "source": [
    "# Cálculo del límite superior\n",
    "\n",
    "upper_limit(-8.27, -1.33)"
   ]
  },
  {
   "cell_type": "code",
   "execution_count": 35,
   "metadata": {},
   "outputs": [
    {
     "data": {
      "text/plain": [
       "0.295"
      ]
     },
     "execution_count": 35,
     "metadata": {},
     "output_type": "execute_result"
    }
   ],
   "source": [
    "# Porcentaje de datos atípicos inferior que serán eliminados\n",
    "\n",
    "porc_inf_atipic(data_1_f1, -18.68, data_1)"
   ]
  },
  {
   "cell_type": "code",
   "execution_count": 36,
   "metadata": {},
   "outputs": [
    {
     "data": {
      "text/plain": [
       "0.33899999999999997"
      ]
     },
     "execution_count": 36,
     "metadata": {},
     "output_type": "execute_result"
    }
   ],
   "source": [
    "# Porcentaje de datos atípicos superiores que serán eliminados\n",
    "\n",
    "porc_sup_atipic(data_1_f1, 9.08, data_1)"
   ]
  },
  {
   "cell_type": "code",
   "execution_count": 37,
   "metadata": {},
   "outputs": [
    {
     "name": "stdout",
     "output_type": "stream",
     "text": [
      "<class 'pandas.core.frame.DataFrame'>\n",
      "Int64Index: 99366 entries, 0 to 99999\n",
      "Data columns (total 4 columns):\n",
      " #   Column   Non-Null Count  Dtype  \n",
      "---  ------   --------------  -----  \n",
      " 0   f0       99366 non-null  float64\n",
      " 1   f1       99366 non-null  float64\n",
      " 2   f2       99366 non-null  float64\n",
      " 3   product  99366 non-null  float64\n",
      "dtypes: float64(4)\n",
      "memory usage: 3.8 MB\n"
     ]
    }
   ],
   "source": [
    "# Almacenamos los datos sin valores atípicos en un nuevo Dataframe\n",
    "\n",
    "data_1_clean = data_1[(data_1['f1'] < 9.08) & (data_1['f1'] > -18.68)]\n",
    "\n",
    "data_1_clean.info()"
   ]
  },
  {
   "cell_type": "markdown",
   "metadata": {},
   "source": [
    "### EDA de la Tercera Región"
   ]
  },
  {
   "cell_type": "code",
   "execution_count": 38,
   "metadata": {},
   "outputs": [
    {
     "data": {
      "image/png": "[encoded data removed]",
      "text/plain": [
       "<Figure size 432x288 with 1 Axes>"
      ]
     },
     "metadata": {
      "needs_background": "light"
     },
     "output_type": "display_data"
    },
    {
     "data": {
      "image/png": "[encoded data removed]",
      "text/plain": [
       "<Figure size 432x288 with 1 Axes>"
      ]
     },
     "metadata": {
      "needs_background": "light"
     },
     "output_type": "display_data"
    },
    {
     "data": {
      "image/png": "[encoded data removed]",
      "text/plain": [
       "<Figure size 432x288 with 1 Axes>"
      ]
     },
     "metadata": {
      "needs_background": "light"
     },
     "output_type": "display_data"
    },
    {
     "data": {
      "image/png": "[encoded data removed]",
      "text/plain": [
       "<Figure size 432x288 with 1 Axes>"
      ]
     },
     "metadata": {
      "needs_background": "light"
     },
     "output_type": "display_data"
    }
   ],
   "source": [
    "# Histogramas\n",
    "\n",
    "for i in range(len(var)):\n",
    "    data_2.hist(var[i])"
   ]
  },
  {
   "cell_type": "markdown",
   "metadata": {},
   "source": [
    "#### Diagramas de Caja"
   ]
  },
  {
   "cell_type": "code",
   "execution_count": 39,
   "metadata": {},
   "outputs": [
    {
     "data": {
      "image/png": "[encoded data removed]",
      "text/plain": [
       "<Figure size 432x288 with 1 Axes>"
      ]
     },
     "metadata": {
      "needs_background": "light"
     },
     "output_type": "display_data"
    },
    {
     "data": {
      "image/png": "[encoded data removed]",
      "text/plain": [
       "<Figure size 432x288 with 1 Axes>"
      ]
     },
     "metadata": {
      "needs_background": "light"
     },
     "output_type": "display_data"
    },
    {
     "data": {
      "image/png": "[encoded data removed]",
      "text/plain": [
       "<Figure size 432x288 with 1 Axes>"
      ]
     },
     "metadata": {
      "needs_background": "light"
     },
     "output_type": "display_data"
    },
    {
     "data": {
      "image/png": "[encoded data removed]",
      "text/plain": [
       "<Figure size 432x288 with 1 Axes>"
      ]
     },
     "metadata": {
      "needs_background": "light"
     },
     "output_type": "display_data"
    }
   ],
   "source": [
    "for i in var:\n",
    "    plt.figure()\n",
    "    plt.boxplot(data_2[i])\n",
    "    plt.title(i)"
   ]
  },
  {
   "cell_type": "markdown",
   "metadata": {},
   "source": [
    "#### Estadística Descriptiva"
   ]
  },
  {
   "cell_type": "code",
   "execution_count": 40,
   "metadata": {},
   "outputs": [
    {
     "name": "stdout",
     "output_type": "stream",
     "text": [
      "count    100000.000000\n",
      "mean          0.002023\n",
      "std           1.732045\n",
      "min          -8.760004\n",
      "25%          -1.162288\n",
      "50%           0.009424\n",
      "75%           1.158535\n",
      "max           7.238262\n",
      "Name: f0, dtype: float64\n",
      "count    100000.000000\n",
      "mean         -0.002081\n",
      "std           1.730417\n",
      "min          -7.084020\n",
      "25%          -1.174820\n",
      "50%          -0.009482\n",
      "75%           1.163678\n",
      "max           7.844801\n",
      "Name: f1, dtype: float64\n",
      "count    100000.000000\n",
      "mean          2.495128\n",
      "std           3.473445\n",
      "min         -11.970335\n",
      "25%           0.130359\n",
      "50%           2.484236\n",
      "75%           4.858794\n",
      "max          16.739402\n",
      "Name: f2, dtype: float64\n",
      "count    100000.000000\n",
      "mean         95.000000\n",
      "std          44.749921\n",
      "min           0.000000\n",
      "25%          59.450441\n",
      "50%          94.925613\n",
      "75%         130.595027\n",
      "max         190.029838\n",
      "Name: product, dtype: float64\n"
     ]
    }
   ],
   "source": [
    "for i in var:\n",
    "    print(data_2[i].describe())"
   ]
  },
  {
   "cell_type": "markdown",
   "metadata": {},
   "source": [
    "#### Estudio de valores atípicos"
   ]
  },
  {
   "cell_type": "code",
   "execution_count": 41,
   "metadata": {},
   "outputs": [
    {
     "data": {
      "text/plain": [
       "(-1.1622884801574571, 1.1585353487528773)"
      ]
     },
     "execution_count": 41,
     "metadata": {},
     "output_type": "execute_result"
    }
   ],
   "source": [
    "# Cálculo de los cuantiles\n",
    "\n",
    "data_2_f0 = data_2['f0']\n",
    "quantiles(data_2_f0)"
   ]
  },
  {
   "cell_type": "code",
   "execution_count": 42,
   "metadata": {},
   "outputs": [
    {
     "data": {
      "text/plain": [
       "-4.624999999999999"
      ]
     },
     "execution_count": 42,
     "metadata": {},
     "output_type": "execute_result"
    }
   ],
   "source": [
    "# Cálculo del límite inferior\n",
    "\n",
    "lower_limit(-1.16, 1.15)"
   ]
  },
  {
   "cell_type": "code",
   "execution_count": 43,
   "metadata": {},
   "outputs": [
    {
     "data": {
      "text/plain": [
       "4.614999999999999"
      ]
     },
     "execution_count": 43,
     "metadata": {},
     "output_type": "execute_result"
    }
   ],
   "source": [
    "# Cálculo del límite superior\n",
    "\n",
    "upper_limit(-1.16, 1.15)"
   ]
  },
  {
   "cell_type": "code",
   "execution_count": 44,
   "metadata": {},
   "outputs": [
    {
     "data": {
      "text/plain": [
       "0.366"
      ]
     },
     "execution_count": 44,
     "metadata": {},
     "output_type": "execute_result"
    }
   ],
   "source": [
    "# Porcentaje de datos atípicos inferior que serán eliminados\n",
    "\n",
    "porc_inf_atipic(data_2_f0, -4.62, data_2)"
   ]
  },
  {
   "cell_type": "code",
   "execution_count": 45,
   "metadata": {},
   "outputs": [
    {
     "data": {
      "text/plain": [
       "0.398"
      ]
     },
     "execution_count": 45,
     "metadata": {},
     "output_type": "execute_result"
    }
   ],
   "source": [
    "# Porcentaje de datos atípicos superiores que serán eliminados\n",
    "\n",
    "porc_sup_atipic(data_2_f0, 4.61, data_2)"
   ]
  },
  {
   "cell_type": "code",
   "execution_count": 46,
   "metadata": {},
   "outputs": [
    {
     "data": {
      "text/plain": [
       "(-1.174819610202934, 1.1636778666142238)"
      ]
     },
     "execution_count": 46,
     "metadata": {},
     "output_type": "execute_result"
    }
   ],
   "source": [
    "# Cálculo de los cuantiles\n",
    "\n",
    "data_2_f1 = data_2['f1']\n",
    "quantiles(data_2_f1)"
   ]
  },
  {
   "cell_type": "code",
   "execution_count": 47,
   "metadata": {},
   "outputs": [
    {
     "data": {
      "text/plain": [
       "-4.665"
      ]
     },
     "execution_count": 47,
     "metadata": {},
     "output_type": "execute_result"
    }
   ],
   "source": [
    "# Cálculo del límite inferior\n",
    "\n",
    "lower_limit(-1.17, 1.16)"
   ]
  },
  {
   "cell_type": "code",
   "execution_count": 48,
   "metadata": {},
   "outputs": [
    {
     "data": {
      "text/plain": [
       "4.655"
      ]
     },
     "execution_count": 48,
     "metadata": {},
     "output_type": "execute_result"
    }
   ],
   "source": [
    "# Cálculo del límite superior\n",
    "\n",
    "upper_limit(-1.17, 1.16)"
   ]
  },
  {
   "cell_type": "code",
   "execution_count": 49,
   "metadata": {},
   "outputs": [
    {
     "data": {
      "text/plain": [
       "0.004"
      ]
     },
     "execution_count": 49,
     "metadata": {},
     "output_type": "execute_result"
    }
   ],
   "source": [
    "# Porcentaje de datos atípicos inferior que serán eliminados\n",
    "\n",
    "porc_inf_atipic(data_2_f1, -6.62, data_2)"
   ]
  },
  {
   "cell_type": "code",
   "execution_count": 50,
   "metadata": {},
   "outputs": [
    {
     "data": {
      "text/plain": [
       "0.357"
      ]
     },
     "execution_count": 50,
     "metadata": {},
     "output_type": "execute_result"
    }
   ],
   "source": [
    "# Porcentaje de datos atípicos superiores que serán eliminados\n",
    "\n",
    "porc_sup_atipic(data_2_f1, 4.65, data_2)"
   ]
  },
  {
   "cell_type": "code",
   "execution_count": 51,
   "metadata": {},
   "outputs": [
    {
     "data": {
      "text/plain": [
       "(0.13035864392872082, 4.85879359743347)"
      ]
     },
     "execution_count": 51,
     "metadata": {},
     "output_type": "execute_result"
    }
   ],
   "source": [
    "# Cálculo de los cuantiles\n",
    "\n",
    "data_2_f2 = data_2['f2']\n",
    "quantiles(data_2_f2)"
   ]
  },
  {
   "cell_type": "code",
   "execution_count": 52,
   "metadata": {},
   "outputs": [
    {
     "data": {
      "text/plain": [
       "-6.95"
      ]
     },
     "execution_count": 52,
     "metadata": {},
     "output_type": "execute_result"
    }
   ],
   "source": [
    "# Cálculo del límite inferior\n",
    "\n",
    "lower_limit(0.13, 4.85)"
   ]
  },
  {
   "cell_type": "code",
   "execution_count": 53,
   "metadata": {},
   "outputs": [
    {
     "data": {
      "text/plain": [
       "11.93"
      ]
     },
     "execution_count": 53,
     "metadata": {},
     "output_type": "execute_result"
    }
   ],
   "source": [
    "# Cálculo del límite superior\n",
    "\n",
    "upper_limit(0.13, 4.85)"
   ]
  },
  {
   "cell_type": "code",
   "execution_count": 54,
   "metadata": {},
   "outputs": [
    {
     "data": {
      "text/plain": [
       "0.301"
      ]
     },
     "execution_count": 54,
     "metadata": {},
     "output_type": "execute_result"
    }
   ],
   "source": [
    "# Porcentaje de datos atípicos inferior que serán eliminados\n",
    "\n",
    "porc_inf_atipic(data_2_f2, -6.95, data_2)"
   ]
  },
  {
   "cell_type": "code",
   "execution_count": 55,
   "metadata": {},
   "outputs": [
    {
     "data": {
      "text/plain": [
       "0.28800000000000003"
      ]
     },
     "execution_count": 55,
     "metadata": {},
     "output_type": "execute_result"
    }
   ],
   "source": [
    "# Porcentaje de datos atípicos superiores que serán eliminados\n",
    "\n",
    "porc_sup_atipic(data_2_f2, 11.93, data_2)"
   ]
  },
  {
   "cell_type": "code",
   "execution_count": 56,
   "metadata": {},
   "outputs": [
    {
     "name": "stdout",
     "output_type": "stream",
     "text": [
      "<class 'pandas.core.frame.DataFrame'>\n",
      "Int64Index: 97927 entries, 0 to 99999\n",
      "Data columns (total 4 columns):\n",
      " #   Column   Non-Null Count  Dtype  \n",
      "---  ------   --------------  -----  \n",
      " 0   f0       97927 non-null  float64\n",
      " 1   f1       97927 non-null  float64\n",
      " 2   f2       97927 non-null  float64\n",
      " 3   product  97927 non-null  float64\n",
      "dtypes: float64(4)\n",
      "memory usage: 3.7 MB\n"
     ]
    }
   ],
   "source": [
    "# Almacenamos los datos sin valores atípicos en un nuevo Dataframe\n",
    "\n",
    "data_2_clean = data_2[(data_2['f0'] < 4.61 ) \n",
    "                    & (data_2['f0'] > -4.62)\n",
    "                    & (data_2['f1'] < 4.65)\n",
    "                    & (data_2['f1'] > -4.62)\n",
    "                    & (data_2['f2'] < 11.93)\n",
    "                    & (data_2['f2'] > -6.95)]\n",
    "        \n",
    "data_2_clean.info()"
   ]
  },
  {
   "cell_type": "markdown",
   "metadata": {},
   "source": [
    "* En este apartado, se limpiaron los tres Dataframes y se utilizaran como data_0_clean, data_1_clean y data_2 clean.\n",
    "* No era necesario usar la columna 'id'.\n"
   ]
  },
  {
   "cell_type": "markdown",
   "metadata": {},
   "source": [
    "<div class=\"alert alert-block alert-success\">\n",
    "<b>Comentario de Revisor</b> <a class=\"tocSkip\"></a>\n",
    "\n",
    "Buen trabajo preprocesando los datos\n",
    "</div>\n",
    "\n",
    "<div class=\"alert alert-block alert-danger\">\n",
    "<b>Comentario de Revisor</b> <a class=\"tocSkip\"></a>\n",
    "\n",
    "Necesita correccion\n",
    "    \n",
    "En esta seccion, mas importante que lidiar con los outliers era identificar que las variables numericas en los 3 datasets estan en escalas diferentes y que una **standarizacion/scaling** es algo muy necesario para que el modelo a entrenar sea mejor a la hora de predecir sobre datos desconocidos\n",
    "</div>"
   ]
  },
  {
   "cell_type": "markdown",
   "metadata": {},
   "source": [
    "## Estandarización de los datos"
   ]
  },
  {
   "cell_type": "code",
   "execution_count": 57,
   "metadata": {},
   "outputs": [
    {
     "data": {
      "text/html": [
       "<div>\n",
       "<style scoped>\n",
       "    .dataframe tbody tr th:only-of-type {\n",
       "        vertical-align: middle;\n",
       "    }\n",
       "\n",
       "    .dataframe tbody tr th {\n",
       "        vertical-align: top;\n",
       "    }\n",
       "\n",
       "    .dataframe thead th {\n",
       "        text-align: right;\n",
       "    }\n",
       "</style>\n",
       "<table border=\"1\" class=\"dataframe\">\n",
       "  <thead>\n",
       "    <tr style=\"text-align: right;\">\n",
       "      <th></th>\n",
       "      <th>f0</th>\n",
       "      <th>f1</th>\n",
       "      <th>f2</th>\n",
       "      <th>product</th>\n",
       "    </tr>\n",
       "  </thead>\n",
       "  <tbody>\n",
       "    <tr>\n",
       "      <th>count</th>\n",
       "      <td>99493.000000</td>\n",
       "      <td>99493.000000</td>\n",
       "      <td>99493.000000</td>\n",
       "      <td>99493.000000</td>\n",
       "    </tr>\n",
       "    <tr>\n",
       "      <th>mean</th>\n",
       "      <td>0.500583</td>\n",
       "      <td>0.250042</td>\n",
       "      <td>2.503666</td>\n",
       "      <td>92.502265</td>\n",
       "    </tr>\n",
       "    <tr>\n",
       "      <th>std</th>\n",
       "      <td>0.871833</td>\n",
       "      <td>0.504439</td>\n",
       "      <td>3.181088</td>\n",
       "      <td>44.228100</td>\n",
       "    </tr>\n",
       "    <tr>\n",
       "      <th>min</th>\n",
       "      <td>-1.408605</td>\n",
       "      <td>-0.848218</td>\n",
       "      <td>-6.349353</td>\n",
       "      <td>0.000000</td>\n",
       "    </tr>\n",
       "    <tr>\n",
       "      <th>25%</th>\n",
       "      <td>-0.072374</td>\n",
       "      <td>-0.201075</td>\n",
       "      <td>0.301577</td>\n",
       "      <td>56.569544</td>\n",
       "    </tr>\n",
       "    <tr>\n",
       "      <th>50%</th>\n",
       "      <td>0.502611</td>\n",
       "      <td>0.250025</td>\n",
       "      <td>2.516356</td>\n",
       "      <td>91.843135</td>\n",
       "    </tr>\n",
       "    <tr>\n",
       "      <th>75%</th>\n",
       "      <td>1.073730</td>\n",
       "      <td>0.700574</td>\n",
       "      <td>4.704297</td>\n",
       "      <td>128.518797</td>\n",
       "    </tr>\n",
       "    <tr>\n",
       "      <th>max</th>\n",
       "      <td>2.362331</td>\n",
       "      <td>1.343769</td>\n",
       "      <td>11.358920</td>\n",
       "      <td>185.364347</td>\n",
       "    </tr>\n",
       "  </tbody>\n",
       "</table>\n",
       "</div>"
      ],
      "text/plain": [
       "                 f0            f1            f2       product\n",
       "count  99493.000000  99493.000000  99493.000000  99493.000000\n",
       "mean       0.500583      0.250042      2.503666     92.502265\n",
       "std        0.871833      0.504439      3.181088     44.228100\n",
       "min       -1.408605     -0.848218     -6.349353      0.000000\n",
       "25%       -0.072374     -0.201075      0.301577     56.569544\n",
       "50%        0.502611      0.250025      2.516356     91.843135\n",
       "75%        1.073730      0.700574      4.704297    128.518797\n",
       "max        2.362331      1.343769     11.358920    185.364347"
      ]
     },
     "execution_count": 57,
     "metadata": {},
     "output_type": "execute_result"
    }
   ],
   "source": [
    "data_0_clean.describe()"
   ]
  },
  {
   "cell_type": "code",
   "execution_count": 58,
   "metadata": {},
   "outputs": [],
   "source": [
    "# Aplicamos el requerimiento standarizacion/scaling\n",
    "\n",
    "scaler_0 = StandardScaler()\n",
    "scaler_1 = StandardScaler()\n",
    "scaler_2 = StandardScaler()\n",
    "\n",
    "scaler_0.fit(data_0_clean[['f0', 'f1', 'f2']])\n",
    "scaler_1.fit(data_1_clean[['f0', 'f1', 'f2']])\n",
    "scaler_2.fit(data_2_clean[['f0', 'f1', 'f2']])\n",
    "\n",
    "aaa = scaler_0.transform(data_0_clean[['f0', 'f1', 'f2']])\n",
    "bbb = scaler_1.transform(data_1_clean[['f0', 'f1', 'f2']])\n",
    "ccc = scaler_2.transform(data_2_clean[['f0', 'f1', 'f2']])\n",
    "\n"
   ]
  },
  {
   "cell_type": "code",
   "execution_count": 59,
   "metadata": {},
   "outputs": [
    {
     "name": "stdout",
     "output_type": "stream",
     "text": [
      "Distribución de variables numéricas en data_0_clean antes de la estandarización:\n",
      "                 f0            f1            f2\n",
      "count  99493.000000  99493.000000  99493.000000\n",
      "mean       0.500583      0.250042      2.503666\n",
      "std        0.871833      0.504439      3.181088\n",
      "min       -1.408605     -0.848218     -6.349353\n",
      "25%       -0.072374     -0.201075      0.301577\n",
      "50%        0.502611      0.250025      2.516356\n",
      "75%        1.073730      0.700574      4.704297\n",
      "max        2.362331      1.343769     11.358920\n",
      "\n",
      "Distribución de variables numéricas en data_0_clean después de la estandarización:\n",
      "                 f0            f1            f2\n",
      "count  9.949300e+04  9.949300e+04  9.949300e+04\n",
      "mean  -1.119451e-16 -1.089099e-16 -1.826116e-16\n",
      "std    1.000005e+00  1.000005e+00  1.000005e+00\n",
      "min   -2.189866e+00 -2.177204e+00 -2.783030e+00\n",
      "25%   -6.571898e-01 -8.942993e-01 -6.922475e-01\n",
      "50%    2.326597e-03 -3.401936e-05  3.989355e-03\n",
      "75%    6.574074e-01  8.931394e-01  6.917892e-01\n",
      "max    2.135451e+00  2.168216e+00  2.783732e+00\n"
     ]
    }
   ],
   "source": [
    "print(\"Distribución de variables numéricas en data_0_clean antes de la estandarización:\")\n",
    "print(data_0_clean[['f0', 'f1', 'f2']].describe())\n",
    "print()\n",
    "print(\"Distribución de variables numéricas en data_0_clean después de la estandarización:\")\n",
    "print(pd.DataFrame(aaa, columns = ['f0', 'f1', 'f2']).describe())\n"
   ]
  },
  {
   "cell_type": "code",
   "execution_count": 60,
   "metadata": {},
   "outputs": [
    {
     "name": "stdout",
     "output_type": "stream",
     "text": [
      "Distribución de variables numéricas en data_1 antes de la estandarización:\n",
      "                 f0            f1            f2\n",
      "count  99366.000000  99366.000000  99366.000000\n",
      "mean       1.139654     -4.803380      2.493931\n",
      "std        8.966287      4.984446      1.703243\n",
      "min      -31.609576    -18.672469     -0.018144\n",
      "25%       -6.300550     -8.249911      1.000016\n",
      "50%        1.150044     -4.816802      2.011353\n",
      "75%        8.620987     -1.363717      3.999893\n",
      "max       29.421755      9.050688      5.019721\n",
      "\n",
      "Distribución de variables numéricas en data_1 después de la estandarización:\n",
      "                 f0            f1            f2\n",
      "count  9.936600e+04  9.936600e+04  9.936600e+04\n",
      "mean  -2.695838e-17  2.674385e-17  1.972180e-16\n",
      "std    1.000005e+00  1.000005e+00  1.000005e+00\n",
      "min   -3.652504e+00 -2.782488e+00 -1.474886e+00\n",
      "25%   -8.298019e-01 -6.914606e-01 -8.771050e-01\n",
      "50%    1.158821e-03 -2.692603e-03 -2.833307e-01\n",
      "75%    8.343889e-01  6.900828e-01  8.841777e-01\n",
      "max    3.154287e+00  2.779474e+00  1.482937e+00\n"
     ]
    }
   ],
   "source": [
    "print(\"Distribución de variables numéricas en data_1 antes de la estandarización:\")\n",
    "print(data_1_clean[['f0', 'f1', 'f2']].describe())\n",
    "print()\n",
    "print(\"Distribución de variables numéricas en data_1 después de la estandarización:\")\n",
    "print(pd.DataFrame(bbb, columns=['f0', 'f1', 'f2']).describe())\n"
   ]
  },
  {
   "cell_type": "code",
   "execution_count": 61,
   "metadata": {
    "scrolled": true
   },
   "outputs": [
    {
     "name": "stdout",
     "output_type": "stream",
     "text": [
      "Distribución de variables numéricas en data_2 antes de la estandarización:\n",
      "                 f0            f1            f2\n",
      "count  97927.000000  97927.000000  97927.000000\n",
      "mean       0.001121     -0.001016      2.493968\n",
      "std        1.678223      1.679231      3.389297\n",
      "min       -4.619392     -4.618931     -6.944602\n",
      "25%       -1.152568     -1.162585      0.147601\n",
      "50%        0.009137     -0.008432      2.482528\n",
      "75%        1.148110      1.155204      4.839542\n",
      "max        4.605301      4.649888     11.927669\n",
      "Distribución de variables numéricas en data_2 después de la estandarización:\n",
      "                 f0            f1            f2\n",
      "count  9.792700e+04  9.792700e+04  9.792700e+04\n",
      "mean  -2.205776e-17  1.378610e-17  1.080395e-16\n",
      "std    1.000005e+00  1.000005e+00  1.000005e+00\n",
      "min   -2.753231e+00 -2.750032e+00 -2.784831e+00\n",
      "25%   -6.874502e-01 -6.917305e-01 -6.922909e-01\n",
      "50%    4.776495e-03 -4.416555e-03 -3.375509e-03\n",
      "75%    6.834579e-01  6.885449e-01  6.920568e-01\n",
      "max    2.743499e+00  2.769678e+00  2.783394e+00\n"
     ]
    }
   ],
   "source": [
    "print(\"Distribución de variables numéricas en data_2 antes de la estandarización:\")\n",
    "print(data_2_clean[['f0', 'f1', 'f2']].describe())\n",
    "\n",
    "print(\"Distribución de variables numéricas en data_2 después de la estandarización:\")\n",
    "print(pd.DataFrame(ccc, columns=['f0', 'f1', 'f2']).describe())"
   ]
  },
  {
   "cell_type": "code",
   "execution_count": 62,
   "metadata": {},
   "outputs": [
    {
     "data": {
      "text/html": [
       "<div>\n",
       "<style scoped>\n",
       "    .dataframe tbody tr th:only-of-type {\n",
       "        vertical-align: middle;\n",
       "    }\n",
       "\n",
       "    .dataframe tbody tr th {\n",
       "        vertical-align: top;\n",
       "    }\n",
       "\n",
       "    .dataframe thead th {\n",
       "        text-align: right;\n",
       "    }\n",
       "</style>\n",
       "<table border=\"1\" class=\"dataframe\">\n",
       "  <thead>\n",
       "    <tr style=\"text-align: right;\">\n",
       "      <th></th>\n",
       "      <th>f0</th>\n",
       "      <th>f1</th>\n",
       "      <th>f2</th>\n",
       "    </tr>\n",
       "  </thead>\n",
       "  <tbody>\n",
       "    <tr>\n",
       "      <th>count</th>\n",
       "      <td>9.949300e+04</td>\n",
       "      <td>9.949300e+04</td>\n",
       "      <td>9.949300e+04</td>\n",
       "    </tr>\n",
       "    <tr>\n",
       "      <th>mean</th>\n",
       "      <td>-1.119451e-16</td>\n",
       "      <td>-1.089099e-16</td>\n",
       "      <td>-1.826116e-16</td>\n",
       "    </tr>\n",
       "    <tr>\n",
       "      <th>std</th>\n",
       "      <td>1.000005e+00</td>\n",
       "      <td>1.000005e+00</td>\n",
       "      <td>1.000005e+00</td>\n",
       "    </tr>\n",
       "    <tr>\n",
       "      <th>min</th>\n",
       "      <td>-2.189866e+00</td>\n",
       "      <td>-2.177204e+00</td>\n",
       "      <td>-2.783030e+00</td>\n",
       "    </tr>\n",
       "    <tr>\n",
       "      <th>25%</th>\n",
       "      <td>-6.571898e-01</td>\n",
       "      <td>-8.942993e-01</td>\n",
       "      <td>-6.922475e-01</td>\n",
       "    </tr>\n",
       "    <tr>\n",
       "      <th>50%</th>\n",
       "      <td>2.326597e-03</td>\n",
       "      <td>-3.401936e-05</td>\n",
       "      <td>3.989355e-03</td>\n",
       "    </tr>\n",
       "    <tr>\n",
       "      <th>75%</th>\n",
       "      <td>6.574074e-01</td>\n",
       "      <td>8.931394e-01</td>\n",
       "      <td>6.917892e-01</td>\n",
       "    </tr>\n",
       "    <tr>\n",
       "      <th>max</th>\n",
       "      <td>2.135451e+00</td>\n",
       "      <td>2.168216e+00</td>\n",
       "      <td>2.783732e+00</td>\n",
       "    </tr>\n",
       "  </tbody>\n",
       "</table>\n",
       "</div>"
      ],
      "text/plain": [
       "                 f0            f1            f2\n",
       "count  9.949300e+04  9.949300e+04  9.949300e+04\n",
       "mean  -1.119451e-16 -1.089099e-16 -1.826116e-16\n",
       "std    1.000005e+00  1.000005e+00  1.000005e+00\n",
       "min   -2.189866e+00 -2.177204e+00 -2.783030e+00\n",
       "25%   -6.571898e-01 -8.942993e-01 -6.922475e-01\n",
       "50%    2.326597e-03 -3.401936e-05  3.989355e-03\n",
       "75%    6.574074e-01  8.931394e-01  6.917892e-01\n",
       "max    2.135451e+00  2.168216e+00  2.783732e+00"
      ]
     },
     "execution_count": 62,
     "metadata": {},
     "output_type": "execute_result"
    }
   ],
   "source": [
    "data_0_scaled = pd.DataFrame(aaa, columns=['f0', 'f1', 'f2'])\n",
    "data_0_scaled.describe()"
   ]
  },
  {
   "cell_type": "code",
   "execution_count": 63,
   "metadata": {},
   "outputs": [],
   "source": [
    "data_1_scaled = pd.DataFrame(bbb, columns=['f0', 'f1', 'f2'])\n",
    "data_2_scaled = pd.DataFrame(ccc, columns=['f0', 'f1', 'f2'])"
   ]
  },
  {
   "cell_type": "markdown",
   "metadata": {},
   "source": [
    "<div class=\"alert alert-block alert-success\">\n",
    "<b>Comentario de Revisor -2da ITERACION</b> <a class=\"tocSkip\"></a>\n",
    "\n",
    "Buen trabajo con la correccion de la seccion anterior\n",
    "</div>\n",
    "\n",
    "<div class=\"alert alert-block alert-danger\">\n",
    "<b>Comentario de Revisor -2da ITERACION</b> <a class=\"tocSkip\"></a>\n",
    "\n",
    "Necesita correccion\n",
    "    \n",
    "Deberias instanciar 1 objeto scaler por cada dataset, fitear cada scaler a las features numericas y luego transformar las numericas de cada dataset con su objeto scaler (aqui usas el mismo para todas)\n",
    "    \n",
    "Por ultimo, corrobora que haya funcionado con el metodo describe comparando contra como daba la distribucion de las var numericas antes de aplicar el scaler\n",
    "\n",
    "</div>\n",
    "\n",
    "<div class=\"alert alert-block alert-success\">\n",
    "<b>Comentario de Revisor - 3ra ITERACION</b> <a class=\"tocSkip\"></a>\n",
    "\n",
    "Buen trabajo con la correccion del scalin pero hay un detalle\n",
    "</div>\n",
    "\n",
    "<div class=\"alert alert-block alert-danger\">\n",
    "<b>Comentario de Revisor - 3ra ITERACION</b> <a class=\"tocSkip\"></a>\n",
    "\n",
    "Necesita correccion    \n",
    "    \n",
    "Me disculpo por no haber sido claro y explicar esto en mi anterior evaluacion\n",
    "    \n",
    "No deberiamos aplicar scaling a la variable objetivo/target \"product\" solo a las features f0,f1 y f2\n",
    "\n",
    "</div>"
   ]
  },
  {
   "cell_type": "markdown",
   "metadata": {},
   "source": [
    "## Evaluación de Modelos"
   ]
  },
  {
   "cell_type": "code",
   "execution_count": 64,
   "metadata": {},
   "outputs": [
    {
     "data": {
      "text/plain": [
       "LinearRegression()"
      ]
     },
     "execution_count": 64,
     "metadata": {},
     "output_type": "execute_result"
    }
   ],
   "source": [
    "# dividimos de los datos en conjuntos de entrenamiento y validación para la región 0\n",
    "\n",
    "X_region_0 = data_0_clean.drop(['product'], axis=1)\n",
    "y_region_0 = data_0_clean['product']\n",
    "\n",
    "X_train_region_0, X_val_region_0, y_train_region_0, y_val_region_0 = train_test_split(X_region_0, y_region_0, test_size=0.25, random_state=12345)\n",
    "\n",
    "# entrenamos el modelo para la región 0\n",
    "\n",
    "model_region_0 = LinearRegression()\n",
    "model_region_0.fit(X_train_region_0, y_train_region_0)\n",
    "\n",
    "# dividimos de los datos en conjuntos de entrenamiento y validación para la región 1\n",
    "\n",
    "X_region_1 = data_1_clean.drop(['product'], axis=1)\n",
    "y_region_1 = data_1_clean['product']\n",
    "\n",
    "X_train_region_1, X_val_region_1, y_train_region_1, y_val_region_1 = train_test_split(X_region_1, y_region_1, test_size=0.25, random_state=12345)\n",
    "\n",
    "# entrenamos el modelo para la región 1\n",
    "\n",
    "model_region_1 = LinearRegression()\n",
    "model_region_1.fit(X_train_region_1, y_train_region_1)\n",
    "\n",
    "# dividimos de los datos en conjuntos de entrenamiento y validación para la región 2\n",
    "\n",
    "X_region_2 = data_2_clean.drop(['product'], axis=1)\n",
    "y_region_2 = data_2_clean['product']\n",
    "\n",
    "X_train_region_2, X_val_region_2, y_train_region_2, y_val_region_2 = train_test_split(X_region_2, y_region_2, test_size=0.25, random_state=12345)\n",
    "\n",
    "# entrenamos el modelo para la región 2\n",
    "\n",
    "model_region_2 = LinearRegression()\n",
    "model_region_2.fit(X_train_region_2, y_train_region_2)\n",
    "\n"
   ]
  },
  {
   "cell_type": "code",
   "execution_count": 65,
   "metadata": {},
   "outputs": [],
   "source": [
    "# calculamos las predicciones para el conjunto de validación de la región 0\n",
    "\n",
    "y_pred_region_0 = model_region_0.predict(X_val_region_0)\n",
    "\n",
    "# calculamos el volumen promedio de reservas previstas y el error cuadrático medio (MSE) para la región 0\n",
    "\n",
    "mean_predicted_volume_region_0 = y_pred_region_0.mean()\n",
    "mse_region_0 = mean_squared_error(y_val_region_0, y_pred_region_0) ** 0.5\n",
    "\n",
    "# calculamos las predicciones para el conjunto de validación de la región 1\n",
    "\n",
    "y_pred_region_1 = model_region_1.predict(X_val_region_1)\n",
    "\n",
    "# calculamos el volumen promedio de reservas previstas y el error cuadrático medio (MSE) para la región 1\n",
    "\n",
    "mean_predicted_volume_region_1 = y_pred_region_1.mean()\n",
    "mse_region_1 = mean_squared_error(y_val_region_1, y_pred_region_1) ** 0.5\n",
    "\n",
    "# calculamos las predicciones para el conjunto de validación de la región 2\n",
    "\n",
    "y_pred_region_2 = model_region_2.predict(X_val_region_2)\n",
    "\n",
    "# calculamos el volumen promedio de reservas previstas y el error cuadrático medio (MSE) para la región 2\n",
    "\n",
    "mean_predicted_volume_region_2 = y_pred_region_2.mean()\n",
    "mse_region_2 = mean_squared_error(y_val_region_2, y_pred_region_2) ** 0.5"
   ]
  },
  {
   "cell_type": "code",
   "execution_count": 66,
   "metadata": {
    "scrolled": true
   },
   "outputs": [
    {
     "name": "stdout",
     "output_type": "stream",
     "text": [
      "Error cuadrático medio (MSE) de la región 1: 37.81\n",
      "Error cuadrático medio (MSE) de la región 2: 0.89\n",
      "Error cuadrático medio (MSE) de la región 3: 40.39\n"
     ]
    }
   ],
   "source": [
    "# imprimimos todos los errores cuadráticos medios \n",
    "\n",
    "print('Error cuadrático medio (MSE) de la región 1:', round(mse_region_0, 2))\n",
    "print('Error cuadrático medio (MSE) de la región 2:', round(mse_region_1, 2))\n",
    "print('Error cuadrático medio (MSE) de la región 3:', round(mse_region_2, 2))"
   ]
  },
  {
   "cell_type": "markdown",
   "metadata": {},
   "source": [
    "* Acá podemos observar las metricas correspondientes, las regiones 1 y 3 tienen dispersiones similares, mientras que la región 2 posee una discrepancia mucho menos entre las predicciones y valores reales. Lo cual nos lleva que es capaz de hacer predicciones más precisas.\n",
    "\n",
    "\n"
   ]
  },
  {
   "cell_type": "markdown",
   "metadata": {},
   "source": [
    "<div class=\"alert alert-block alert-success\">\n",
    "<b>Comentario de Revisor</b> <a class=\"tocSkip\"></a>\n",
    "\n",
    "Buen trabajo con la Reg Lineal para las 3 regiones y el caluclo de la metrica solicitada\n",
    "</div>\n",
    "\n",
    "<div class=\"alert alert-block alert-warning\">\n",
    "<b>Comentario de Revisor</b> <a class=\"tocSkip\"></a>\n",
    "\n",
    "Recomiendo tener en celdas diferentes el split y en otra la regresion con los calculos de metricas de performance\n",
    "</div>\n",
    "\n",
    "<div class=\"alert alert-block alert-danger\">\n",
    "<b>Comentario de Revisor</b> <a class=\"tocSkip\"></a>\n",
    "\n",
    "Recuerda volver a correr esta seccion luego de haber aplicado el saling solicitado en la seccion previa\n",
    "</div>"
   ]
  },
  {
   "cell_type": "markdown",
   "metadata": {},
   "source": [
    "<div class=\"alert alert-block alert-info\">\n",
    "<b>Apliqué el requerimiento de estandarización scaling, ordene las celdas por split y por cálculos y mejoraron los datos</b> <a class=\"tocSkip\"></a>\n",
    "</div>"
   ]
  },
  {
   "cell_type": "markdown",
   "metadata": {},
   "source": [
    "## Determinar el Volumen Promedio de Reservas"
   ]
  },
  {
   "cell_type": "code",
   "execution_count": 67,
   "metadata": {
    "scrolled": true
   },
   "outputs": [
    {
     "name": "stdout",
     "output_type": "stream",
     "text": [
      "Volumen de reservas suficiente para no tener pérdidas: 111.11\n",
      "\n",
      "Volumen promedio de reservas de la región 1: 92.5\n",
      "Volumen promedio de reservas de la región 2: 68.81\n",
      "Volumen promedio de reservas de la región 3: 94.77\n"
     ]
    }
   ],
   "source": [
    "# Contando el número de productos para obtener una ganancia de 0\n",
    "\n",
    "budget = 100000000  \n",
    "wells_to_dig = 200  \n",
    "num_wells = 200     \n",
    "revenue_per_barrel = 4.5\n",
    "\n",
    "cost_per_well = budget / wells_to_dig  \n",
    "points_per_budget = int(budget / cost_per_well)  \n",
    "\n",
    "product_price = 4500 \n",
    "\n",
    "cost_per_point = budget / points_per_budget  \n",
    "zero_profit_product = cost_per_point / product_price  \n",
    "\n",
    "# Comparar el volumen de reservas suficiente con el volumen promedio de reservas de cada región\n",
    "\n",
    "average_volume_region_0 = y_region_0.mean()\n",
    "average_volume_region_1 = y_region_1.mean()\n",
    "average_volume_region_2 = y_region_2.mean()\n",
    "\n",
    "# Proporcionar hallazgos sobre la preparación para el cálculo de ganancias\n",
    "\n",
    "print(\"Volumen de reservas suficiente para no tener pérdidas:\", round(zero_profit_product, 2))\n",
    "print()\n",
    "print(\"Volumen promedio de reservas de la región 1:\", round(average_volume_region_0, 2))\n",
    "print(\"Volumen promedio de reservas de la región 2:\", round(average_volume_region_1, 2))\n",
    "print(\"Volumen promedio de reservas de la región 3:\", round(average_volume_region_2, 2))\n"
   ]
  },
  {
   "cell_type": "markdown",
   "metadata": {},
   "source": [
    "* Acá se puede notar que serían 111.11 miles barriles de petróleo los necesarios para producir para que los 200 pozos no tengan pérdida. \n",
    "\n",
    "* También se muestra que cada región tiene un volumen promedio de reservas, que van desde los 68.81 miles de barriles a 94.77 miles. \n"
   ]
  },
  {
   "cell_type": "markdown",
   "metadata": {},
   "source": [
    "<div class=\"alert alert-block alert-success\">\n",
    "<b>Comentario de Revisor</b> <a class=\"tocSkip\"></a>\n",
    "\n",
    "Genial, buen trabajo en estos calculos.\n",
    "</div>"
   ]
  },
  {
   "cell_type": "markdown",
   "metadata": {},
   "source": [
    "## Cálculo de las Ganancias"
   ]
  },
  {
   "cell_type": "code",
   "execution_count": 68,
   "metadata": {},
   "outputs": [],
   "source": [
    "# definimos la función para calcular las ganancias\n",
    "\n",
    "def cal_pro(target, predictions, well_to_dig):\n",
    "        predictions_sorted = pd.Series(predictions).sort_values(ascending=False)\n",
    "        max_mean = predictions_sorted[:well_to_dig].mean()\n",
    "        target = 111.11\n",
    "        total_profit = (max_mean - target) * product_price \n",
    "        return total_profit"
   ]
  },
  {
   "cell_type": "code",
   "execution_count": 69,
   "metadata": {
    "scrolled": true
   },
   "outputs": [
    {
     "name": "stdout",
     "output_type": "stream",
     "text": [
      "Ganancia total para la región 1: 184776.36\n",
      "Ganancia total para la región 2: 124321.26\n",
      "Ganancia total para la región 3: 150729.99\n"
     ]
    }
   ],
   "source": [
    "# calculamos la ganancia para cada región\n",
    "\n",
    "well_to_dig = 200\n",
    "\n",
    "profit_region_0 = cal_pro(y_val_region_0, y_pred_region_0, 200)\n",
    "profit_region_1 = cal_pro(y_val_region_1, y_pred_region_1, 200)\n",
    "profit_region_2 = cal_pro(y_val_region_2, y_pred_region_2, 200)\n",
    "\n",
    "# imprimimos los resultados\n",
    "\n",
    "print(\"Ganancia total para la región 1:\", round(profit_region_0, 2))\n",
    "print(\"Ganancia total para la región 2:\", round(profit_region_1, 2))\n",
    "print(\"Ganancia total para la región 3:\", round(profit_region_2, 2))"
   ]
  },
  {
   "cell_type": "markdown",
   "metadata": {},
   "source": [
    "* Podemos observar que la Región 1, con sus 184 mil, es la región que mayores ganancias reportaría por el desarrollo de sus 200 pozos más productivos.\n",
    "\n",
    "\n",
    "\n"
   ]
  },
  {
   "cell_type": "markdown",
   "metadata": {},
   "source": [
    "<div class=\"alert alert-block alert-success\">\n",
    "<b>Comentario de Revisor</b> <a class=\"tocSkip\"></a>\n",
    "\n",
    "El enfoque que le diste es correcto, venia por buen camino\n",
    "</div>\n",
    "\n",
    "<div class=\"alert alert-block alert-danger\">\n",
    "<b>Comentario de Revisor</b> <a class=\"tocSkip\"></a>\n",
    "\n",
    "Define una variable **wells to dig** para limitar tu variable selected targets pero nunca se la pasas como parametro a tu funcion de manera de tomar los 200 pozos mas productivos y de esta manera el calculo termina siendo erroneo\n",
    "</div>"
   ]
  },
  {
   "cell_type": "markdown",
   "metadata": {},
   "source": [
    "<div class=\"alert alert-block alert-info\">\n",
    "<b>A la función le pase el parametro well_to_dig, posteriormente al momento de aplicar la funcion defino la variable = 200, pero me siguen dando los mismos millones de dólares. ¿Está correcto o hay que cambiarle algo?</b> <a class=\"tocSkip\"></a>\n",
    "</div>\n",
    "\n",
    "<div class=\"alert alert-block alert-danger\">\n",
    "<b>Comentario de Revisor - 2da ITERACION</b> <a class=\"tocSkip\"></a>\n",
    "\n",
    "El calculo seria de las top predicciones tomar la media esperada y sobre el calculo anterior del objetivo para que sea rentable tomar las ganancias\n",
    "    \n",
    "Entonces tu funcion deberia ser algo asi\n",
    "    \n",
    "<code>\n",
    "    def cal_pro(target, predictions, well_to_dig):\n",
    "        predictions_sorted = pd.Series(predictions).sort_values(ascending=False)\n",
    "        max_mean = predictions_sorted[:well_to_dig].mean()\n",
    "        target = 111.11\n",
    "        total_profit = (max_mean - target) * product_price \n",
    "        return total_profit\n",
    "</code>\n",
    "</div>\n",
    "\n",
    "<div class=\"alert alert-block alert-success\">\n",
    "<b>Comentario de Revisor -3ra ITERACION</b> <a class=\"tocSkip\"></a>\n",
    "\n",
    "Buen trabajo con esta\n",
    "</div>"
   ]
  },
  {
   "cell_type": "markdown",
   "metadata": {},
   "source": [
    "## Cálculo de Beneficios y Riesgos para cada Región"
   ]
  },
  {
   "cell_type": "code",
   "execution_count": 70,
   "metadata": {},
   "outputs": [],
   "source": [
    "# determinamos la función para calcular los riesgos y ganancias mediante bootstrapping\n",
    "\n",
    "def evaluar_boot(target, predictions):\n",
    "    profits = []\n",
    "    random_state = np.random.RandomState(12345)\n",
    "\n",
    "    for _ in range(1000):\n",
    "        target_subsample = target.sample(n = 500, replace = True, random_state = random_state)\n",
    "        profits.append(cal_pro(target_subsample.values, predictions[target_subsample.index], well_to_dig))\n",
    "        \n",
    "    mean_profit = pd.Series(profits).mean()\n",
    "    lower_profit = pd.Series(profits).quantile(0.025)\n",
    "    upper_profit = pd.Series(profits).quantile(0.975)\n",
    "    losses = sum(pd.Series(profits) < 0) / len(profits)\n",
    "    return mean_profit, lower_profit, upper_profit, losses"
   ]
  },
  {
   "cell_type": "code",
   "execution_count": 71,
   "metadata": {},
   "outputs": [],
   "source": [
    "# reseteamos\n",
    "\n",
    "y_val_region_0 = y_val_region_0.reset_index(drop=True)\n",
    "y_val_region_1 = y_val_region_1.reset_index(drop=True)\n",
    "y_val_region_2 = y_val_region_2.reset_index(drop=True)\n",
    "\n",
    "y_pred_region_0 = pd.Series(y_pred_region_0)\n",
    "y_pred_region_1 = pd.Series(y_pred_region_1)\n",
    "y_pred_region_2 = pd.Series(y_pred_region_2)"
   ]
  },
  {
   "cell_type": "code",
   "execution_count": 72,
   "metadata": {
    "scrolled": true
   },
   "outputs": [],
   "source": [
    "# aplicamos la función evaluar_boot a cada región\n",
    "\n",
    "mean_profit_region_0, lower_profit_region_0, upper_profit_region_0, losses_0 = evaluar_boot(y_val_region_0, y_pred_region_0)\n",
    "mean_profit_region_1, lower_profit_region_1, upper_profit_region_1, losses_1 = evaluar_boot(y_val_region_1, y_pred_region_1)\n",
    "mean_profit_region_2, lower_profit_region_2, upper_profit_region_2, losses_2 = evaluar_boot(y_val_region_2, y_pred_region_2)\n"
   ]
  },
  {
   "cell_type": "code",
   "execution_count": 73,
   "metadata": {
    "scrolled": true
   },
   "outputs": [
    {
     "name": "stdout",
     "output_type": "stream",
     "text": [
      "Región 1\n",
      "Beneficio promedio de la región 1 es de: 16685.29$\n",
      "Los beneficios oscilan entre: 5558.03$ a 28042.96$\n",
      "El riesgo de pérdida es de: 0.0%\n",
      "\n",
      "Región 2\n",
      "Beneficio promedio de la región 2 es de: 20164.13$\n",
      "Los beneficios oscilan entre: 237.97$ a 39869.51$\n",
      "El riesgo de pérdida es de: 2.4%\n",
      "\n",
      "Región 3\n",
      "Beneficio promedio de la región 3 es de: 13692.93$\n",
      "Los beneficios oscilan entre: 4270.95$ a 22658.21$\n",
      "El riesgo de pérdida es de: 0.2%\n"
     ]
    }
   ],
   "source": [
    "# imprimos los beneficios por cada región\n",
    "\n",
    "print('Región 1')\n",
    "print(f'Beneficio promedio de la región 1 es de: {mean_profit_region_0:.2f}$')\n",
    "print(f'Los beneficios oscilan entre: {lower_profit_region_0:.2f}$ a {upper_profit_region_0:.2f}$')\n",
    "print(f'El riesgo de pérdida es de: {losses_0:.1%}')\n",
    "print()\n",
    "print('Región 2')\n",
    "print(f'Beneficio promedio de la región 2 es de: {mean_profit_region_1:.2f}$')\n",
    "print(f'Los beneficios oscilan entre: {lower_profit_region_1:.2f}$ a {upper_profit_region_1:.2f}$')\n",
    "print(f'El riesgo de pérdida es de: {losses_1:.1%}')\n",
    "print()\n",
    "print('Región 3')\n",
    "print(f'Beneficio promedio de la región 3 es de: {mean_profit_region_2:.2f}$')\n",
    "print(f'Los beneficios oscilan entre: {lower_profit_region_2:.2f}$ a {upper_profit_region_2:.2f}$')\n",
    "print(f'El riesgo de pérdida es de: {losses_2:.1%}')"
   ]
  },
  {
   "cell_type": "markdown",
   "metadata": {},
   "source": [
    "* Podemos observar que, al momento de comparar los distintos resultados por regiones, la mejor región para invertir es la Región 2, mostrando que su beneficio promedio es de 20164 dólares y con un riesgo de pérdida de 2.4%\n",
    "\n",
    "* Las otras regiones, como la Región 1, muestra mejor beneficio promedio que la Región 2 pero con un riesgo de pérdida casi del doble. \n",
    "\n",
    "* Por otro lado, la región 3 muestra un beneficio promedio menor a las dos regiones antes mencionadas además de un riesgo de pérdida mucho mayor, siendo el 11.4%"
   ]
  },
  {
   "cell_type": "markdown",
   "metadata": {},
   "source": [
    "<div class=\"alert alert-block alert-success\">\n",
    "<b>Comentario de Revisor</b> <a class=\"tocSkip\"></a>\n",
    "\n",
    "Tu bucle de bootstrapping parecia correcto pero arrastras el error de la funcion de calculo anterior\n",
    "</div>\n",
    "\n",
    "<div class=\"alert alert-block alert-danger\">\n",
    "<b>Comentario de Revisor</b> <a class=\"tocSkip\"></a>\n",
    "\n",
    "Cuando hagas las correcciones a tu funcion **cal_pro()** vuelve a correr esta seccion procurando que el bootstraping sea efectivo y el calculo de ganancias/riesgos cohrente\n",
    "</div>\n",
    "\n",
    "<div class=\"alert alert-block alert-success\">\n",
    "<b>Comentario de Revisor - 3ra ITERACION</b> <a class=\"tocSkip\"></a>\n",
    "\n",
    "Genial con la correccion de la seccion anterior ahora esta seccion tambien esta correcta\n",
    "\n",
    "</div>"
   ]
  },
  {
   "cell_type": "markdown",
   "metadata": {},
   "source": [
    "## Conclusiones Generales"
   ]
  },
  {
   "cell_type": "markdown",
   "metadata": {},
   "source": [
    "* Con los tres Dataframes utilizados, eliminamos valores atípicos y los limpiamos. \n",
    "* Con respecto al calcular el MSE, la región 2 fue la que nos mostró un ajuste más cercano a los datos, siendo capaz de demostrar que es la mejor región a invertir.\n",
    "* Se determinó que el volumen suficiente para no tener pérdidas es de 111.11 miles de barriles de petróleo y cada región estaba en el rango de 68.81 y 94.77 miles de barriles.\n",
    "* La Región 1 es la que reporta mayores ganancias por el desarrollo de 200 pozos, con un total de 35.44 millones de dólares.\n",
    "* Con respecto al beneficio promedio y el riesgo de pérdidas, la mejor región es la 2, a partir de un estudio con la té\n",
    "\n",
    "\n",
    "\n",
    "Podemos observar que la Región 1, con sus 35.44 millones de dólares, es la región que mayores ganancias reportaría por el desarrollo de sus 200 pozos más productivos.\n",
    "Volumen de reservas suficiente para no tener pérdidas: 111.11\n",
    "\n",
    "Volumen promedio de reservas de la región 1: 92.5\n",
    "Volumen promedio de reservas de la región 2: 68.81\n",
    "Volumen promedio de reservas de la región 3: 94.77\n",
    "Acá se puede notar que serían 111.11 miles barriles de petróleo los necesarios para producir para que los 200 pozos no tengan pérdida.\n",
    "\n",
    "También se muestra que cada región tiene un volumen promedio de reservas, que van desde los 68.81 miles de barriles a 94.77 miles.\n",
    "\n",
    "Esto sugiere que el modelo tiene un ajuste más cercano a los datos de la región 2 y es capaz de hacer predicciones más precisas en esta región en particular."
   ]
  },
  {
   "cell_type": "markdown",
   "metadata": {},
   "source": [
    "<div class=\"alert alert-block alert-danger\">\n",
    "<b>Comentario de Revisor - 2da ITERACION</b> <a class=\"tocSkip\"></a>\n",
    "\n",
    "Te deje comentarios para corregir la aplicacion del scaler y la funcion de calculo de ganancias\n",
    "    \n",
    "Recuerda que la parte del bootstraping deberia cambiar luego de modificar la funcion que calcula ganancuias\n",
    "</div>"
   ]
  },
  {
   "cell_type": "markdown",
   "metadata": {},
   "source": [
    "<div class=\"alert alert-block alert-success\">\n",
    "<b>Comentario de Revisor - 3ra ITERACION</b> <a class=\"tocSkip\"></a>\n",
    "\n",
    "Genial Douglas aplicaste buenas correciones, tu proyecto ya casi esta listo para ser aprobado\n",
    "</div>\n",
    "\n",
    "<div class=\"alert alert-block alert-danger\">\n",
    "<b>Comentario de Revisor - 3ra ITERACION</b> <a class=\"tocSkip\"></a>\n",
    "\n",
    "Solo queda corregir el tema del scaling, es una pequena correccion pero conceptualmente es un error importante\n",
    "\n",
    "Recuerda el scaling es solo para los features con que se van a entrenar y testear los modelos, pero nunca debe scalarse la variable objetivo\n",
    "    \n",
    "Me disculpo por no haber sido claro y explicar esto en mi anterior evaluacion\n",
    "</div>"
   ]
  },
  {
   "cell_type": "markdown",
   "metadata": {},
   "source": [
    "<div class=\"alert alert-block alert-success\">\n",
    "<b>Comentario de Revisor - 4ta ITERACION</b> <a class=\"tocSkip\"></a>\n",
    "\n",
    "Felicitaciones Douglas tu proyecto esta aprobado\n",
    "</div>\n"
   ]
  },
  {
   "cell_type": "code",
   "execution_count": null,
   "metadata": {},
   "outputs": [],
   "source": []
  }
 ],
 "metadata": {
  "kernelspec": {
   "display_name": "Python 3 (ipykernel)",
   "language": "python",
   "name": "python3"
  },
  "language_info": {
   "codemirror_mode": {
    "name": "ipython",
    "version": 3
   },
   "file_extension": ".py",
   "mimetype": "text/x-python",
   "name": "python",
   "nbconvert_exporter": "python",
   "pygments_lexer": "ipython3",
   "version": "3.9.5"
  },
  "toc": {
   "base_numbering": 1,
   "nav_menu": {},
   "number_sections": true,
   "sideBar": true,
   "skip_h1_title": true,
   "title_cell": "Table of Contents",
   "title_sidebar": "Contents",
   "toc_cell": false,
   "toc_position": {},
   "toc_section_display": true,
   "toc_window_display": false
  }
 },
 "nbformat": 4,
 "nbformat_minor": 2
}
